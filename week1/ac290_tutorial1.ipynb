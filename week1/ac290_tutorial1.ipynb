{
 "cells": [
  {
   "cell_type": "markdown",
   "metadata": {},
   "source": [
    "# AC290 Extreme Computing: Project-based High Performance Distributed and Parallel Systems"
   ]
  },
  {
   "cell_type": "markdown",
   "metadata": {},
   "source": [
    "## Module 1: Influence Maximization Problem"
   ]
  },
  {
   "cell_type": "markdown",
   "metadata": {},
   "source": [
    "<img src='img/AC290_IMP_graph1.png' style=\"width: 500px;\">\n",
    "<p style=\"text-align: center;\">Yelp Reviewer Network</p>"
   ]
  },
  {
   "cell_type": "code",
   "execution_count": 25,
   "metadata": {
    "collapsed": false
   },
   "outputs": [],
   "source": [
    "%matplotlib inline\n",
    "import time\n",
    "import numpy as np\n",
    "import matplotlib.pyplot as plt"
   ]
  },
  {
   "cell_type": "markdown",
   "metadata": {},
   "source": [
    "## 1. Python"
   ]
  },
  {
   "cell_type": "markdown",
   "metadata": {},
   "source": [
    "### 1.1. Time Profiling"
   ]
  },
  {
   "cell_type": "markdown",
   "metadata": {},
   "source": [
    "We'll examine two different ways to profile run time of a function by using the following function below:"
   ]
  },
  {
   "cell_type": "markdown",
   "metadata": {},
   "source": [
    "An example from http://www.huyng.com/posts/python-performance-analysis/"
   ]
  },
  {
   "cell_type": "code",
   "execution_count": 14,
   "metadata": {
    "collapsed": false
   },
   "outputs": [],
   "source": [
    "def primes(n): \n",
    "    if n == 2:\n",
    "        return [2]\n",
    "    elif n < 2:\n",
    "        return []\n",
    "    s = range(3,n+1,2)\n",
    "    mroot = n ** 0.5\n",
    "    half = (n + 1) / 2 - 1\n",
    "    i = 0; m = 3;\n",
    "    while m <= mroot:\n",
    "        if s[i]:\n",
    "            j = (m * m-3) / 2\n",
    "            s[j] = 0\n",
    "            while j < half:\n",
    "                s[j] = 0\n",
    "                j += m\n",
    "        i = i + 1\n",
    "        m = 2 * i + 3\n",
    "    return [2]+[x for x in s if x]"
   ]
  },
  {
   "cell_type": "markdown",
   "metadata": {},
   "source": [
    "The simplest method to evaluate your function's run time is to use Python's time module and manually print out the run time of your function.  This is a quick and dirty way to measure your function's performance."
   ]
  },
  {
   "cell_type": "code",
   "execution_count": 7,
   "metadata": {
    "collapsed": true
   },
   "outputs": [],
   "source": [
    "import time"
   ]
  },
  {
   "cell_type": "code",
   "execution_count": 23,
   "metadata": {
    "collapsed": false
   },
   "outputs": [
    {
     "name": "stdout",
     "output_type": "stream",
     "text": [
      "2.607845 Seconds\n"
     ]
    }
   ],
   "source": [
    "start = time.time()\n",
    "prime_nums = primes(int(10e6))\n",
    "duration = time.time() - start\n",
    "print \"%f Seconds\" % duration"
   ]
  },
  {
   "cell_type": "markdown",
   "metadata": {},
   "source": [
    "Using this approach, we can store the run time of the your function for analysis later on (mean, standard deviation, etc.). "
   ]
  },
  {
   "cell_type": "markdown",
   "metadata": {},
   "source": [
    "Expanding on this simple method, let's create a function decorator that will automate this process every time we want to evaluate a function's time performance."
   ]
  },
  {
   "cell_type": "code",
   "execution_count": 8,
   "metadata": {
    "collapsed": true
   },
   "outputs": [],
   "source": [
    "from functools import wraps\n",
    "\n",
    "def timefn(func):\n",
    "    @wraps(func)\n",
    "    def calc_time(*args, **kwargs):\n",
    "        t1=time.time()\n",
    "        result = func(*args,**kwargs)\n",
    "        t2=time.time()\n",
    "        print \"@timefn: %.5f Seconds\" % (t2-t1)\n",
    "        return result\n",
    "    return calc_time"
   ]
  },
  {
   "cell_type": "code",
   "execution_count": 15,
   "metadata": {
    "collapsed": true
   },
   "outputs": [],
   "source": [
    "@timefn\n",
    "def primes(n): \n",
    "    if n == 2:\n",
    "        return [2]\n",
    "    elif n < 2:\n",
    "        return []\n",
    "    s = range(3,n+1,2)\n",
    "    mroot = n ** 0.5\n",
    "    half = (n + 1) / 2 - 1\n",
    "    i = 0; m = 3;\n",
    "    while m <= mroot:\n",
    "        if s[i]:\n",
    "            j = (m * m-3) / 2\n",
    "            s[j] = 0\n",
    "            while j < half:\n",
    "                s[j] = 0\n",
    "                j += m\n",
    "        i = i + 1\n",
    "        m = 2 * i + 3\n",
    "    return [2]+[x for x in s if x]"
   ]
  },
  {
   "cell_type": "code",
   "execution_count": 13,
   "metadata": {
    "collapsed": false
   },
   "outputs": [
    {
     "name": "stdout",
     "output_type": "stream",
     "text": [
      "@timefn: 2.71378 Seconds\n"
     ]
    }
   ],
   "source": [
    "prime_nums = primes(int(10e6))"
   ]
  },
  {
   "cell_type": "markdown",
   "metadata": {},
   "source": [
    "Another simple method is to use iPython's %time magic function."
   ]
  },
  {
   "cell_type": "code",
   "execution_count": 26,
   "metadata": {
    "collapsed": false
   },
   "outputs": [
    {
     "name": "stdout",
     "output_type": "stream",
     "text": [
      "CPU times: user 2.9 s, sys: 53 ms, total: 2.95 s\n",
      "Wall time: 2.96 s\n"
     ]
    }
   ],
   "source": [
    "%time prime_nums = primes(int(10e6))"
   ]
  },
  {
   "cell_type": "markdown",
   "metadata": {},
   "source": [
    "### 1.2. Set vs List vs Tuple"
   ]
  },
  {
   "cell_type": "markdown",
   "metadata": {},
   "source": [
    ">\"One of the most important things in writing efficient programs is understanding the guarantees of the data structures you use.  In fact, a large part of performant programming is understanding what questions you are trying to ask of your data and picking a data structure that you can answer these questions quickly.\" - Gorelick & Ozsvald"
   ]
  },
  {
   "cell_type": "markdown",
   "metadata": {},
   "source": [
    "Python provides 4 basic built-in data types - list, set, tuple, and dictionary (set without values).  We will compare the run time performance of each data types for different set of problems in order to understand which data structure provides the best solution to each unique problem."
   ]
  },
  {
   "cell_type": "code",
   "execution_count": 9,
   "metadata": {
    "collapsed": true
   },
   "outputs": [],
   "source": [
    "n = int(10e6)"
   ]
  },
  {
   "cell_type": "code",
   "execution_count": 10,
   "metadata": {
    "collapsed": true
   },
   "outputs": [],
   "source": [
    "python_list = list(xrange(n))\n",
    "python_set = set(xrange(n))\n",
    "python_tuple = tuple(xrange(n))"
   ]
  },
  {
   "cell_type": "markdown",
   "metadata": {},
   "source": [
    "### 1.2.1. Membership"
   ]
  },
  {
   "cell_type": "markdown",
   "metadata": {},
   "source": [
    "List - dynamic array"
   ]
  },
  {
   "cell_type": "code",
   "execution_count": 11,
   "metadata": {
    "collapsed": false
   },
   "outputs": [
    {
     "name": "stdout",
     "output_type": "stream",
     "text": [
      "False\n",
      "0.794647 Seconds\n"
     ]
    }
   ],
   "source": [
    "start = time.time()\n",
    "print n in python_list\n",
    "duration = time.time() - start\n",
    "print \"%f Seconds\" % duration"
   ]
  },
  {
   "cell_type": "markdown",
   "metadata": {},
   "source": [
    "Tuple - static array"
   ]
  },
  {
   "cell_type": "code",
   "execution_count": 12,
   "metadata": {
    "collapsed": false
   },
   "outputs": [
    {
     "name": "stdout",
     "output_type": "stream",
     "text": [
      "False\n",
      "0.666547 Seconds\n"
     ]
    }
   ],
   "source": [
    "start = time.time()\n",
    "print n in python_tuple\n",
    "duration = time.time() - start\n",
    "print \"%f Seconds\" % duration"
   ]
  },
  {
   "cell_type": "markdown",
   "metadata": {},
   "source": [
    "Tuples are cached by Python; therefore, performance may significantly improve after the first time a tuple is called."
   ]
  },
  {
   "cell_type": "code",
   "execution_count": 13,
   "metadata": {
    "collapsed": false
   },
   "outputs": [
    {
     "name": "stdout",
     "output_type": "stream",
     "text": [
      "False\n",
      "0.234677 Seconds\n"
     ]
    }
   ],
   "source": [
    "# Second Run\n",
    "start = time.time()\n",
    "print n in python_tuple\n",
    "duration = time.time() - start\n",
    "print \"%f Seconds\" % duration"
   ]
  },
  {
   "cell_type": "markdown",
   "metadata": {},
   "source": [
    "Set.  \n",
    "\n",
    "A set (or dictionary) is ideal data structure if your data does not have intrinsic order and have unique elements."
   ]
  },
  {
   "cell_type": "code",
   "execution_count": 14,
   "metadata": {
    "collapsed": false
   },
   "outputs": [
    {
     "name": "stdout",
     "output_type": "stream",
     "text": [
      "False\n",
      "0.000159 Seconds\n"
     ]
    }
   ],
   "source": [
    "start = time.time()\n",
    "print n in python_set\n",
    "duration = time.time() - start\n",
    "print \"%f Seconds\" % duration"
   ]
  },
  {
   "cell_type": "markdown",
   "metadata": {},
   "source": [
    "### 1.2.2. Iteration"
   ]
  },
  {
   "cell_type": "markdown",
   "metadata": {},
   "source": [
    "List"
   ]
  },
  {
   "cell_type": "code",
   "execution_count": 15,
   "metadata": {
    "collapsed": false
   },
   "outputs": [
    {
     "name": "stdout",
     "output_type": "stream",
     "text": [
      "0.850017 Seconds\n"
     ]
    }
   ],
   "source": [
    "start = time.time()\n",
    "for i in python_list:\n",
    "    i\n",
    "duration = time.time() - start\n",
    "print \"%f Seconds\" % duration"
   ]
  },
  {
   "cell_type": "markdown",
   "metadata": {},
   "source": [
    "Tuple"
   ]
  },
  {
   "cell_type": "code",
   "execution_count": 18,
   "metadata": {
    "collapsed": false
   },
   "outputs": [
    {
     "name": "stdout",
     "output_type": "stream",
     "text": [
      "0.807556 Seconds\n"
     ]
    }
   ],
   "source": [
    "start = time.time()\n",
    "for i in python_tuple:\n",
    "    i\n",
    "duration = time.time() - start\n",
    "print \"%f Seconds\" % duration"
   ]
  },
  {
   "cell_type": "markdown",
   "metadata": {},
   "source": [
    "Set"
   ]
  },
  {
   "cell_type": "code",
   "execution_count": 19,
   "metadata": {
    "collapsed": false
   },
   "outputs": [
    {
     "name": "stdout",
     "output_type": "stream",
     "text": [
      "1.397327 Seconds\n"
     ]
    }
   ],
   "source": [
    "start = time.time()\n",
    "for i in python_set:\n",
    "    i\n",
    "duration = time.time() - start\n",
    "print \"%f Seconds\" % duration"
   ]
  },
  {
   "cell_type": "markdown",
   "metadata": {},
   "source": [
    "### 1.3. List Comprehension vs For Loop"
   ]
  },
  {
   "cell_type": "markdown",
   "metadata": {},
   "source": [
    "For Loop"
   ]
  },
  {
   "cell_type": "code",
   "execution_count": 33,
   "metadata": {
    "collapsed": false
   },
   "outputs": [
    {
     "name": "stdout",
     "output_type": "stream",
     "text": [
      "2.269928 Seconds\n"
     ]
    }
   ],
   "source": [
    "start = time.time()\n",
    "list_forloop = list()\n",
    "for i in xrange(n):\n",
    "    list_forloop.append(i)\n",
    "duration = time.time() - start\n",
    "print \"%f Seconds\" % duration"
   ]
  },
  {
   "cell_type": "markdown",
   "metadata": {},
   "source": [
    "List Comprehension"
   ]
  },
  {
   "cell_type": "code",
   "execution_count": 34,
   "metadata": {
    "collapsed": false
   },
   "outputs": [
    {
     "name": "stdout",
     "output_type": "stream",
     "text": [
      "1.578796 Seconds\n"
     ]
    }
   ],
   "source": [
    "start = time.time()\n",
    "list_comprehension = [i for i in xrange(n)]\n",
    "duration = time.time() - start\n",
    "print \"%f Seconds\" % duration"
   ]
  },
  {
   "cell_type": "markdown",
   "metadata": {},
   "source": [
    "### 1.4. Mutability"
   ]
  },
  {
   "cell_type": "markdown",
   "metadata": {},
   "source": [
    "### 1.4.1. Comparing List vs Tuple"
   ]
  },
  {
   "cell_type": "code",
   "execution_count": 35,
   "metadata": {
    "collapsed": true
   },
   "outputs": [],
   "source": [
    "my_list = ['a','b','c','d']\n",
    "my_tuple = ('a','b','c','d')"
   ]
  },
  {
   "cell_type": "code",
   "execution_count": 36,
   "metadata": {
    "collapsed": false
   },
   "outputs": [
    {
     "data": {
      "text/plain": [
       "['A', 'b', 'c', 'd']"
      ]
     },
     "execution_count": 36,
     "metadata": {},
     "output_type": "execute_result"
    }
   ],
   "source": [
    "my_list[0] = 'A'\n",
    "my_list"
   ]
  },
  {
   "cell_type": "markdown",
   "metadata": {},
   "source": [
    "Let's attempt to change the first element of my_tuple."
   ]
  },
  {
   "cell_type": "code",
   "execution_count": 37,
   "metadata": {
    "collapsed": false
   },
   "outputs": [
    {
     "ename": "TypeError",
     "evalue": "'tuple' object does not support item assignment",
     "output_type": "error",
     "traceback": [
      "\u001b[0;31m---------------------------------------------------------------------------\u001b[0m",
      "\u001b[0;31mTypeError\u001b[0m                                 Traceback (most recent call last)",
      "\u001b[0;32m<ipython-input-37-44446392bca1>\u001b[0m in \u001b[0;36m<module>\u001b[0;34m()\u001b[0m\n\u001b[0;32m----> 1\u001b[0;31m \u001b[0mmy_tuple\u001b[0m\u001b[0;34m[\u001b[0m\u001b[0;36m0\u001b[0m\u001b[0;34m]\u001b[0m \u001b[0;34m=\u001b[0m \u001b[0;34m'A'\u001b[0m\u001b[0;34m\u001b[0m\u001b[0m\n\u001b[0m\u001b[1;32m      2\u001b[0m \u001b[0mmy_tuple\u001b[0m\u001b[0;34m\u001b[0m\u001b[0m\n",
      "\u001b[0;31mTypeError\u001b[0m: 'tuple' object does not support item assignment"
     ]
    }
   ],
   "source": [
    "my_tuple[0] = 'A'\n",
    "my_tuple"
   ]
  },
  {
   "cell_type": "markdown",
   "metadata": {},
   "source": [
    "### 1.4.2. Copying Lists"
   ]
  },
  {
   "cell_type": "code",
   "execution_count": 38,
   "metadata": {
    "collapsed": true
   },
   "outputs": [],
   "source": [
    "my_list = ['a','b','c','d']"
   ]
  },
  {
   "cell_type": "code",
   "execution_count": 39,
   "metadata": {
    "collapsed": false
   },
   "outputs": [],
   "source": [
    "my_list2 = my_list"
   ]
  },
  {
   "cell_type": "markdown",
   "metadata": {},
   "source": [
    "Let's change the second element of my_list2"
   ]
  },
  {
   "cell_type": "code",
   "execution_count": 40,
   "metadata": {
    "collapsed": false
   },
   "outputs": [
    {
     "data": {
      "text/plain": [
       "['a', 'B', 'c', 'd']"
      ]
     },
     "execution_count": 40,
     "metadata": {},
     "output_type": "execute_result"
    }
   ],
   "source": [
    "my_list2[1] = 'B'\n",
    "my_list2"
   ]
  },
  {
   "cell_type": "markdown",
   "metadata": {},
   "source": [
    "We ended up changing the second element in my_list to 'B'."
   ]
  },
  {
   "cell_type": "code",
   "execution_count": 41,
   "metadata": {
    "collapsed": false
   },
   "outputs": [
    {
     "data": {
      "text/plain": [
       "['a', 'B', 'c', 'd']"
      ]
     },
     "execution_count": 41,
     "metadata": {},
     "output_type": "execute_result"
    }
   ],
   "source": [
    "my_list"
   ]
  },
  {
   "cell_type": "markdown",
   "metadata": {},
   "source": [
    "To avoid this problem, there are three ways to copy a list that will leave the original list unperturbed. "
   ]
  },
  {
   "cell_type": "markdown",
   "metadata": {},
   "source": [
    "###### Make element-wise copy to a new list"
   ]
  },
  {
   "cell_type": "code",
   "execution_count": 42,
   "metadata": {
    "collapsed": false
   },
   "outputs": [
    {
     "name": "stdout",
     "output_type": "stream",
     "text": [
      "my_list: ['a', 'b', 'c', 'd'] | my_list2: ['a', 'B', 'c', 'd']\n"
     ]
    }
   ],
   "source": [
    "my_list = ['a','b','c','d']\n",
    "my_list2 = my_list[:]\n",
    "my_list2[1] = 'B'\n",
    "print \"my_list:\", my_list, \"| my_list2:\", my_list2"
   ]
  },
  {
   "cell_type": "markdown",
   "metadata": {},
   "source": [
    "##### Create a new list out of the original list"
   ]
  },
  {
   "cell_type": "code",
   "execution_count": 44,
   "metadata": {
    "collapsed": false
   },
   "outputs": [
    {
     "name": "stdout",
     "output_type": "stream",
     "text": [
      "my_list: ['a', 'b', 'c', 'd'] | my_list2: ['a', 'B', 'c', 'd']\n"
     ]
    }
   ],
   "source": [
    "my_list = ['a','b','c','d']\n",
    "my_list2 = list(my_list)\n",
    "my_list2[1] = 'B'\n",
    "print \"my_list:\", my_list, \"| my_list2:\", my_list2"
   ]
  },
  {
   "cell_type": "markdown",
   "metadata": {},
   "source": [
    "###### Import copy module and make a deepcopy"
   ]
  },
  {
   "cell_type": "code",
   "execution_count": 45,
   "metadata": {
    "collapsed": false
   },
   "outputs": [
    {
     "name": "stdout",
     "output_type": "stream",
     "text": [
      "my_list: ['a', 'b', 'c', 'd'] | my_list2: ['a', 'B', 'c', 'd']\n"
     ]
    }
   ],
   "source": [
    "my_list = ['a','b','c','d']\n",
    "import copy\n",
    "my_list2 = copy.deepcopy(my_list)\n",
    "my_list2[1] = 'B'\n",
    "print \"my_list:\", my_list, \"| my_list2:\", my_list2"
   ]
  },
  {
   "cell_type": "markdown",
   "metadata": {},
   "source": [
    "### 1.4. Line Profiling"
   ]
  },
  {
   "cell_type": "raw",
   "metadata": {},
   "source": [
    "$ pip install line-profiler"
   ]
  },
  {
   "cell_type": "code",
   "execution_count": 6,
   "metadata": {
    "collapsed": false
   },
   "outputs": [],
   "source": [
    "import line_profiler\n",
    "import IPython\n",
    "ip = IPython.get_ipython()\n",
    "ip.define_magic('lprun', line_profiler.magic_lprun)"
   ]
  },
  {
   "cell_type": "markdown",
   "metadata": {},
   "source": [
    "Let's use the primes function that we used earlier to demonstrate what line-profiler can do for us."
   ]
  },
  {
   "cell_type": "code",
   "execution_count": 7,
   "metadata": {
    "collapsed": false
   },
   "outputs": [],
   "source": [
    "def primes(n): \n",
    "    if n==2:\n",
    "        return [2]\n",
    "    elif n<2:\n",
    "        return []\n",
    "    s=range(3,n+1,2)\n",
    "    mroot = n ** 0.5\n",
    "    half=(n+1)/2-1\n",
    "    i=0\n",
    "    m=3\n",
    "    while m <= mroot:\n",
    "        if s[i]:\n",
    "            j=(m*m-3)/2\n",
    "            s[j]=0\n",
    "            while j<half:\n",
    "                s[j]=0\n",
    "                j+=m\n",
    "        i=i+1\n",
    "        m=2*i+3\n",
    "    return [2]+[x for x in s if x]"
   ]
  },
  {
   "cell_type": "code",
   "execution_count": 8,
   "metadata": {
    "collapsed": false
   },
   "outputs": [],
   "source": [
    "%lprun -f primes primes(100)"
   ]
  },
  {
   "cell_type": "markdown",
   "metadata": {},
   "source": [
    "For detailed discussions about optimizing performance in Python, checkout [High Performance Python](http://shop.oreilly.com/product/0636920028963.do)\n",
    "<img src=\"img/lrg.jpg\" style=\"max-width: 200px;\">"
   ]
  },
  {
   "cell_type": "markdown",
   "metadata": {},
   "source": [
    "## 2. NetworkX"
   ]
  },
  {
   "cell_type": "markdown",
   "metadata": {},
   "source": [
    "NetworkX is a popular Python library used to model networks including social network graphs.  Using Networkx, we can model both undirected and directed graphs.\n",
    "\n",
    "For the Influence Maximization Problem, we will provide you with a pre-built graph of Yelp Reviewer network and ask you to use Networkx to implement the Independent Cascade function. "
   ]
  },
  {
   "cell_type": "markdown",
   "metadata": {},
   "source": [
    "### 2.1. Installation"
   ]
  },
  {
   "cell_type": "markdown",
   "metadata": {},
   "source": [
    "If you installed Python through Anaconda distribution, you should already have NetworkX in your Python environment.  \n",
    "\n",
    "If you do not have it, you may run the following command below."
   ]
  },
  {
   "cell_type": "raw",
   "metadata": {},
   "source": [
    "$ conda install networkx"
   ]
  },
  {
   "cell_type": "code",
   "execution_count": 28,
   "metadata": {
    "collapsed": true
   },
   "outputs": [],
   "source": [
    "import networkx as nx"
   ]
  },
  {
   "cell_type": "code",
   "execution_count": 5,
   "metadata": {
    "collapsed": false
   },
   "outputs": [
    {
     "data": {
      "text/plain": [
       "'1.9.1'"
      ]
     },
     "execution_count": 5,
     "metadata": {},
     "output_type": "execute_result"
    }
   ],
   "source": [
    "nx.__version__"
   ]
  },
  {
   "cell_type": "markdown",
   "metadata": {},
   "source": [
    "You should use NetworkX version 1.8 or above."
   ]
  },
  {
   "cell_type": "markdown",
   "metadata": {},
   "source": [
    "### 2.2. Examples"
   ]
  },
  {
   "cell_type": "markdown",
   "metadata": {
    "collapsed": true
   },
   "source": [
    "Creating a sample graph"
   ]
  },
  {
   "cell_type": "code",
   "execution_count": 83,
   "metadata": {
    "collapsed": true
   },
   "outputs": [],
   "source": [
    "random_graph = nx.erdos_renyi_graph(n=20,p=0.6,seed=42)"
   ]
  },
  {
   "cell_type": "markdown",
   "metadata": {},
   "source": [
    "Finding nodes"
   ]
  },
  {
   "cell_type": "code",
   "execution_count": 84,
   "metadata": {
    "collapsed": false
   },
   "outputs": [
    {
     "data": {
      "text/plain": [
       "[0, 1, 2, 3, 4, 5, 6, 7, 8, 9, 10, 11, 12, 13, 14, 15, 16, 17, 18, 19]"
      ]
     },
     "execution_count": 84,
     "metadata": {},
     "output_type": "execute_result"
    }
   ],
   "source": [
    "random_graph.nodes()"
   ]
  },
  {
   "cell_type": "code",
   "execution_count": 85,
   "metadata": {
    "collapsed": false
   },
   "outputs": [
    {
     "data": {
      "text/plain": [
       "{0: {},\n",
       " 2: {},\n",
       " 3: {},\n",
       " 4: {},\n",
       " 6: {},\n",
       " 7: {},\n",
       " 10: {},\n",
       " 11: {},\n",
       " 13: {},\n",
       " 16: {},\n",
       " 17: {},\n",
       " 19: {}}"
      ]
     },
     "execution_count": 85,
     "metadata": {},
     "output_type": "execute_result"
    }
   ],
   "source": [
    "random_graph[12]"
   ]
  },
  {
   "cell_type": "markdown",
   "metadata": {},
   "source": [
    "Finding edges"
   ]
  },
  {
   "cell_type": "code",
   "execution_count": 86,
   "metadata": {
    "collapsed": false,
    "scrolled": true
   },
   "outputs": [
    {
     "data": {
      "text/plain": [
       "[(0, 2),\n",
       " (0, 3),\n",
       " (0, 4),\n",
       " (0, 8),\n",
       " (0, 9),\n",
       " (0, 10),\n",
       " (0, 11),\n",
       " (0, 12),\n",
       " (0, 13),\n",
       " (0, 14),\n",
       " (0, 16),\n",
       " (0, 17),\n",
       " (0, 18),\n",
       " (1, 2),\n",
       " (1, 5),\n",
       " (1, 6),\n",
       " (1, 8),\n",
       " (1, 9),\n",
       " (1, 10),\n",
       " (1, 15),\n",
       " (1, 17),\n",
       " (1, 18),\n",
       " (2, 5),\n",
       " (2, 7),\n",
       " (2, 8),\n",
       " (2, 9),\n",
       " (2, 10),\n",
       " (2, 11),\n",
       " (2, 12),\n",
       " (2, 13),\n",
       " (2, 15),\n",
       " (2, 16),\n",
       " (2, 17),\n",
       " (2, 18),\n",
       " (3, 6),\n",
       " (3, 8),\n",
       " (3, 9),\n",
       " (3, 12),\n",
       " (3, 16),\n",
       " (3, 17),\n",
       " (3, 18),\n",
       " (3, 19),\n",
       " (4, 5),\n",
       " (4, 8),\n",
       " (4, 10),\n",
       " (4, 12),\n",
       " (4, 13),\n",
       " (4, 14),\n",
       " (4, 15),\n",
       " (4, 16),\n",
       " (4, 17),\n",
       " (4, 19),\n",
       " (5, 6),\n",
       " (5, 8),\n",
       " (5, 9),\n",
       " (5, 10),\n",
       " (5, 11),\n",
       " (5, 14),\n",
       " (5, 15),\n",
       " (5, 16),\n",
       " (5, 18),\n",
       " (6, 8),\n",
       " (6, 11),\n",
       " (6, 12),\n",
       " (6, 14),\n",
       " (6, 15),\n",
       " (6, 16),\n",
       " (6, 19),\n",
       " (7, 8),\n",
       " (7, 9),\n",
       " (7, 12),\n",
       " (7, 15),\n",
       " (7, 17),\n",
       " (7, 19),\n",
       " (8, 9),\n",
       " (8, 10),\n",
       " (8, 11),\n",
       " (8, 15),\n",
       " (8, 16),\n",
       " (8, 19),\n",
       " (9, 10),\n",
       " (9, 11),\n",
       " (9, 14),\n",
       " (9, 15),\n",
       " (9, 16),\n",
       " (9, 17),\n",
       " (9, 19),\n",
       " (10, 11),\n",
       " (10, 12),\n",
       " (10, 14),\n",
       " (10, 15),\n",
       " (10, 18),\n",
       " (10, 19),\n",
       " (11, 12),\n",
       " (11, 13),\n",
       " (11, 14),\n",
       " (11, 15),\n",
       " (11, 16),\n",
       " (11, 17),\n",
       " (11, 18),\n",
       " (12, 13),\n",
       " (12, 16),\n",
       " (12, 17),\n",
       " (12, 19),\n",
       " (13, 14),\n",
       " (13, 16),\n",
       " (13, 17),\n",
       " (14, 15),\n",
       " (14, 16),\n",
       " (14, 17),\n",
       " (14, 18),\n",
       " (14, 19),\n",
       " (15, 19),\n",
       " (16, 17),\n",
       " (16, 18),\n",
       " (17, 18),\n",
       " (17, 19),\n",
       " (18, 19)]"
      ]
     },
     "execution_count": 86,
     "metadata": {},
     "output_type": "execute_result"
    }
   ],
   "source": [
    "random_graph.edges()"
   ]
  },
  {
   "cell_type": "code",
   "execution_count": 88,
   "metadata": {
    "collapsed": false
   },
   "outputs": [
    {
     "data": {
      "text/plain": [
       "{}"
      ]
     },
     "execution_count": 88,
     "metadata": {},
     "output_type": "execute_result"
    }
   ],
   "source": [
    "random_graph.edge[0][3]"
   ]
  },
  {
   "cell_type": "markdown",
   "metadata": {},
   "source": [
    "Storing edge weights"
   ]
  },
  {
   "cell_type": "code",
   "execution_count": 90,
   "metadata": {
    "collapsed": false
   },
   "outputs": [],
   "source": [
    "for s,t in random_graph.edges_iter():\n",
    "    random_graph[s][t]['weight'] = np.random.uniform()"
   ]
  },
  {
   "cell_type": "code",
   "execution_count": 91,
   "metadata": {
    "collapsed": false
   },
   "outputs": [
    {
     "data": {
      "text/plain": [
       "{'weight': 0.5719586317584954}"
      ]
     },
     "execution_count": 91,
     "metadata": {},
     "output_type": "execute_result"
    }
   ],
   "source": [
    "random_graph.edge[0][3]"
   ]
  },
  {
   "cell_type": "markdown",
   "metadata": {
    "collapsed": true
   },
   "source": [
    "For more examples, please explore the [NetworkX documentation](http://networkx.readthedocs.org/en/stable/index.html)."
   ]
  },
  {
   "cell_type": "markdown",
   "metadata": {},
   "source": [
    "### 2.3. Exploring Yelp Review Network "
   ]
  },
  {
   "cell_type": "markdown",
   "metadata": {},
   "source": [
    "Before we scale up the Influence Maximization Problem on larger network, we will work with a \"toy\" network that is a sample of North Carolina reviewer network.  This network contains 240 nodes and 920 edges.\n",
    "\n",
    "By week 3, you will solve the IMP on this smaller network, and by week 4, you will implement your algorithms on the larger network, which contains over 350 thousand nodes and 4 million edges."
   ]
  },
  {
   "cell_type": "code",
   "execution_count": 16,
   "metadata": {
    "collapsed": true
   },
   "outputs": [],
   "source": [
    "import json\n",
    "from networkx.readwrite import json_graph"
   ]
  },
  {
   "cell_type": "code",
   "execution_count": 17,
   "metadata": {
    "collapsed": false
   },
   "outputs": [],
   "source": [
    "with open(\"graph/nc_mini.json\", \"r\") as graph_data:\n",
    "    graph_data = json.load(graph_data)\n",
    "    NC_digraph = json_graph.node_link_graph(graph_data)"
   ]
  },
  {
   "cell_type": "code",
   "execution_count": 18,
   "metadata": {
    "collapsed": false
   },
   "outputs": [
    {
     "data": {
      "text/plain": [
       "[u'PpkKVodWC0sdn74TbHQLzA',\n",
       " u'9kNIqxBAFKkPVIN_7MRtOg',\n",
       " u'lhIEvJs8o09n6-zdffln0g',\n",
       " u'GrA3BLjRjAKvFYwSqN_4cg',\n",
       " u'_-S38fYbXdf2J9n7se30jg',\n",
       " u'VEtVKHZIEjq_YTd8ZPBu-g',\n",
       " u'UIbW6xWBczva9e4fcuV8JA',\n",
       " u'I_krsLQejP6-Ta_6xiigNg',\n",
       " u'emoQY8neOSJm-xwqh4xVfQ',\n",
       " u'yfQNTgMn8UfMM0Ibr0OwoQ',\n",
       " u'AUDvPJ5LxB5m_oMiFl6Xww',\n",
       " u'FB_kqMLsd8BKIydQUUC_Ag',\n",
       " u'ltpnxJxM446ZEDrrzQ5anA',\n",
       " u'GRiX5F5zgJiQQ1NyV3B6Cg',\n",
       " u'OBS3D3WRVNT9tHhdyS0D6Q',\n",
       " u'Wvtn9aKFXGcIeKaakFsYLA',\n",
       " u'kcAGTivq8YNmCXe2RBAyIw',\n",
       " u'fW0eVXKzwg8Bgbl2AJDEjg',\n",
       " u'kxRnhpUgooticN9DimR-CQ',\n",
       " u'Nnr__fWrInIRKv8WLCh9nA',\n",
       " u'glzRad3_l42hALvjB9p97w',\n",
       " u'Rm3ZSxxp_ErscqmBoa8bdg',\n",
       " u'5hhvqWu2vCo4HSKFw4H0pQ',\n",
       " u'4itIWbWKDMXef7VzAQ41-g',\n",
       " u'I9-qaI_sfTJzeG52WZMdkQ',\n",
       " u'bYm-qoFlgzSwbKHH0StXMg',\n",
       " u'n9OkjFjUBIQ5zze7nLuQog',\n",
       " u'y57yAzmqx5cR0cfeFE91Sg',\n",
       " u'RI9E2EPqMaO3PRZ_llj6tg',\n",
       " u'5uWopFOiNzO1041yb4XRPQ',\n",
       " u'HFl6MLArBmfl35WYwtS0gQ',\n",
       " u'uL7TIJ56Eb9Rx4nkt2ej_Q',\n",
       " u'VVTdlxNhx_O4VBJyu2OInQ',\n",
       " u'M9H6p4hm2utu1G0ipV80Ug',\n",
       " u'ilMy7QjAbz6Uzdqw0lluBw',\n",
       " u'ttpwWJ9fOohzKEyxLObyjQ',\n",
       " u'mv-DzIC4U5QKt2AbOxuC_A',\n",
       " u'OyzjdoEb6xJcFNNjnpQVxw',\n",
       " u'lDiEnE3pVnOO8V_LFDAvOQ',\n",
       " u'W6LTsXcY1R76M9EdeN0G6A',\n",
       " u'Ljb4mRGWCkR49NW7tjjyKQ',\n",
       " u'g5-0kGSVByDTxmii-XNjiw',\n",
       " u'6pK_c7oKlUO8o8dWbnO2jg',\n",
       " u't5Ghdu61tkh3Rz_8z96m8w',\n",
       " u'ADnDIZIAj6iFIKPDG5fF3A',\n",
       " u'YlFBJ36KW41zERAxB-TBgQ',\n",
       " u'XZuMpc6E9RqZX4HXtmlr-g',\n",
       " u'DK2gGNdN3ihOu_uwt2AgLg',\n",
       " u'g8P-DbPWuopC6DQGWeeE9g',\n",
       " u'A6bPFcUjuuayRBoyybedDQ',\n",
       " u'N1bZJxYJx0p-cRMsN608Tg',\n",
       " u'YJ5_YCrzLX5Laav13qG0qw',\n",
       " u'Hubnerc_hJyF-0vFQ-Jsng',\n",
       " u'NuEbFGtAngq25o-9xrGanw',\n",
       " u'Qof-H7GjDrDQFeI-V8bZtQ',\n",
       " u'x22P6OJwAqVNLeJONJVB4Q',\n",
       " u'nykberdxcTFvdBf8lMOPJg',\n",
       " u'w1P9cvIVTxcLZvU5tXIhRw',\n",
       " u'enifsbYdP61rNewA1JpDpA',\n",
       " u'KDioFcWlX7avlvftBPDpLQ',\n",
       " u'-hFH3Kd0g536bOCtVCso5g',\n",
       " u'MpHfTk6J7PxsI0SrJxa-6Q',\n",
       " u'tF88QlBnbkWDppm0TftwTg',\n",
       " u'1QsFWebJoq2mX5m41vFeSg',\n",
       " u'qD8fKVLOn15xxxB6RaZyTA',\n",
       " u'e2j5nTQ2dnkB--pJakcUSA',\n",
       " u'Gw4rj6t0gqbDavAUWE6Mig',\n",
       " u'zRIG4znrwIOp8mG4ZxtVMQ',\n",
       " u'H7Y33bDfjw8RvJKHIXU5Uw',\n",
       " u'27aGnUabXY23OH5oilHe7g',\n",
       " u'oNchLV64P-vG3ExsC58mfg',\n",
       " u'M-TwsqjrGVH9-qyw2KcvdQ',\n",
       " u'uCoWMriBTRCOtyWKRMQiOQ',\n",
       " u'nf4MYH5u_9lImwJLbLnPKw',\n",
       " u'qyRaIY0hwzcQvtfhJB3NRg',\n",
       " u'0_Xyynwz0H3n1coC9Rnn6Q',\n",
       " u'3IOQbdQ2z7TKWOnBjAnkew',\n",
       " u'ctXZwLnGALfazigC5e-zxg',\n",
       " u'Kybm9SJyOfEgDAXFUPRdCQ',\n",
       " u'NzWLMPvbEval0OVg_YDn4g',\n",
       " u'WBSW8I_wXCjjefs9vFhJeQ',\n",
       " u'-_1ctLaz3jhPYc12hKXsEQ',\n",
       " u'a-s0dq2W3x0IAbeymJjupQ',\n",
       " u'fU3VCs--DRhgN2rtN5puEw',\n",
       " u'L3P4kURj4-AZYPZw7fkXYw',\n",
       " u'UmCAhWcU_abaaESenKUiLw',\n",
       " u'JjxqhdJe4ZtYlOYrYvfhmQ',\n",
       " u'8ED8BPCXKXZnGsVMyl5Bhw',\n",
       " u'1K50PvXa6l5PBXZXhzkB-g',\n",
       " u'CBGBJQXWeHwRcwsvU7FNVg',\n",
       " u'408y57Uhur9-6Sm1MPEtbg',\n",
       " u'o-Sir3Q4VWsoY01vjktu_Q',\n",
       " u'FHofjlnlxqdvSSkQ6UkNZw',\n",
       " u'wkOmKgw7yfLEyJojZmK2iQ',\n",
       " u'ZEFqUMG4Az9TT-MXNlpJLw',\n",
       " u'tha1bsWQNbDTnHYMk48vGA',\n",
       " u'rozyN2khxvZ7Re3BT9TkpA',\n",
       " u'Uqr3GTH8tdxnRV2CDKlLEw',\n",
       " u'UQExm-ypNwkH8NAxkFdtDQ',\n",
       " u'gQlLuTUG49u3z7bI1ySKmw',\n",
       " u'EvzQ5xBQhAx_s9HyQ2swYA',\n",
       " u'F1BQlQ_rcpw2jKYa485zzA',\n",
       " u'whKpnugMnWTz3UjlrN71yg',\n",
       " u'EESfTrSUf8f4wdKq49Afvw',\n",
       " u'pFBvazjt-N__9xMXKFWNxw',\n",
       " u'iHJvo9405LGI3VrWRoC25Q',\n",
       " u'qlYjP4O4BJXE9XaF9MqTYA',\n",
       " u'YOtcBuEpGaK_44vqB-Zdpw',\n",
       " u'2BbA8GTwBvGsyLwIIerffg',\n",
       " u'do-fO-EruYVP_FQPMNWmZg',\n",
       " u'Yng3MaytYUmEYx4goNSswQ',\n",
       " u'iXpKKeeiXjBncJyDWbfhxw',\n",
       " u'5_nFBBxijfRiR54ufRWQLg',\n",
       " u'G7R4179LFAAJcNy3DQyX3A',\n",
       " u'hEFiiqzLHkqNSePBD2jnqA',\n",
       " u'H2NIEAD71yF8T5Pt0XigmQ',\n",
       " u'C1BIq8rhj0ZG2t3tV6pKFg',\n",
       " u'FHSOR7FlOJOh6RjejrDwRQ',\n",
       " u'1TfhULbaN_9YIlcF-qEevw',\n",
       " u'dUNaeTHu9JeWOheE1NYGLw',\n",
       " u'S3HZF5aANmhZoMkFkPMdqQ',\n",
       " u'koSslLJP5TsYqtZU7lKhVw',\n",
       " u'CEK-xEgxpR81XBLtl2R7-Q',\n",
       " u'6haxuID5ulEVALnOhs89XA',\n",
       " u'Y--yRCncNlQCNULP8I5h6Q',\n",
       " u'K65Y6RJThhxJR4CttwoK-Q',\n",
       " u'tTKBoD9Eb2KrXRHg8OpB2g',\n",
       " u'pw-1VM51bTNOBqgoyXvVBA',\n",
       " u'gVGu5DHk5iI4CQ2tX7ka6A',\n",
       " u'7ewE_dDxjXNppOj0EhhMIQ',\n",
       " u'C4luJ-aeXW5J6_Yer6geRw',\n",
       " u'VFOwxpOWH9RZ3iMelkRd7A',\n",
       " u'lpyyEAwuU9zo7v3num81uA',\n",
       " u'hBZ4tkZJqkLZRf215I-WDg',\n",
       " u'5THUPQtQQZ7OMFMXqZ8lfg',\n",
       " u'Z1FWaNNO8oxaHLYB9XhQDg',\n",
       " u'v_l-2jBLl2iVAYXFcCM35A',\n",
       " u'kWbMzm8LMf-_QpEAtm4lJQ',\n",
       " u'3GteArKIVRlJZjjRqqwgaQ',\n",
       " u'sot8EuKeeTSbAn8o7XhLTg',\n",
       " u'j0cxQg-ot1D-3o1GPwY72Q',\n",
       " u'H3DJI5Rb6M_RpwlVLYgrYw',\n",
       " u'LP0bl3GKToABt3lnpSvA2w',\n",
       " u'iN2bSmEyE6nsdNw8VVwqUQ',\n",
       " u'cv5dGqbb4r_M8v3prIKhyw',\n",
       " u'tm_HvdZmUMGht1-xjGQF7Q',\n",
       " u'Xskf6p_EWZ1X4x8MZbzDbQ',\n",
       " u'M6qAQvE8NG7LQ6eHJZ3Umg',\n",
       " u'zvT0EHoB_aDE4MnoZly0ew',\n",
       " u'T7eyOatIKKQyW9WopkKI9w',\n",
       " u'eFxX1tSNLmVkAP9kNv2--Q',\n",
       " u'2fZlVLQec7EGfP6gErNNkg',\n",
       " u'2yjdCTybzIeGjRIIrJz1vg',\n",
       " u'r-Oo5ZG-zQE9P4C16W_rfA',\n",
       " u'aZjcmboRYOYyfmD6AdLesQ',\n",
       " u'gD2IlYNxzvFOuRMGqH96lQ',\n",
       " u'TyIJUHF_psqpjkL7OerTHQ',\n",
       " u'0SuIvO9hz82-tuKEe2z35A',\n",
       " u'd8y98FiNtI8OQFAp2tvoKg',\n",
       " u'qYcvaG5XllbzUwGFc2oOBg',\n",
       " u's9I4KMcrHKki44g_eTrYqQ',\n",
       " u'yR04yrpjBf1BH5mTnG54ZQ',\n",
       " u'E6Eh1bz6fpo6EOPtctA-sg',\n",
       " u'gPKODEBXFwuweW74DLjWjw',\n",
       " u'ED6n40WmZJm0AvsKkG7iaw',\n",
       " u'_-_tqimCCbrrXbMqbCH-ag',\n",
       " u'ey-joFTK0R8T2xrYFx4FKQ',\n",
       " u'25mgYhLoEcbqtRVd-7JL7Q',\n",
       " u'VInyj5x9Sqmdt_GHEcpFhA',\n",
       " u'MN5L81cjYk4SX7ROsY8Xaw',\n",
       " u'MaJb-XiZ263_SSmneBmgYA',\n",
       " u'lapVgQRNk1TFvolUYdOyFw',\n",
       " u'aK54VNQ3hd0zg47emnn9Dw',\n",
       " u'8certomS2xullsIXzLzL8A',\n",
       " u'L7yDT6vqz3iJUfxavN0sTA',\n",
       " u'KaVnvEyEfc2YoP1T1g8-7g',\n",
       " u'E1Wu-YuaNJWgQqSIsW8K5Q',\n",
       " u'Q9xJQu-9oCFZozVBjZDETw',\n",
       " u'x-B57TiZDs_3xZfplQGl0w',\n",
       " u'gQ4U_H3qU7aOtzQbmCOuQg',\n",
       " u'7gAKXYdqYu5LfmpAHVSHVA',\n",
       " u'LQ7mat58GGb_9wyPHinrsA',\n",
       " u'xqqAzP6zjtJbyegKR1Md9A',\n",
       " u'undTnGgDPnf2YlGYjWMkxQ',\n",
       " u'cr7KWf32wFdD4kYu2ovSwg',\n",
       " u'GSN23jzG3x1zIzW02gOYbA',\n",
       " u'bdCGSSIqCKqJrBtGuzP-vg',\n",
       " u'PUncCaLnpXXs2JwxrlFZ4Q',\n",
       " u'E_6E0U8d_L4uxaURifx0dQ',\n",
       " u'Ul93T_U5jDh1FIIpiiTxuw',\n",
       " u'-qffgThm1bv-URB0ndz0bA',\n",
       " u'1AdijTh6Y2mqe7IjIw5Kuw',\n",
       " u'eOGyy9E_6-eeuci-JwD6CQ',\n",
       " u'7qUw3hTje30XAJJ8gSK9Rw',\n",
       " u'UCK9qP7EyBYWHZiN0ckdpw',\n",
       " u'suHNFmm634ZzPzfOggxRqw',\n",
       " u'dStvBU-bUippAy6n7-LXeQ',\n",
       " u'3m3QWFf6PWoS6WUtUkA6xA',\n",
       " u'9P_5UGjc3t3Bo_yJ5A7iAQ',\n",
       " u'eU5Xbp0PUMnKhm9hCYFtxQ',\n",
       " u'mq-3zjlJ6AtJFgXlqtbgsw',\n",
       " u'd4-0-wEjkANvDuuq9SmmKw',\n",
       " u'3JHEVHhEi-44gezfq7AdGA',\n",
       " u'p-5TeWiuzqVt1tIkg_z1Qg',\n",
       " u'MOaDlqJ6wWvnJN4wGqreqw',\n",
       " u'VhI6xyylcAxi0wOy2HOX3w',\n",
       " u'osmdTGbwUJeV6ihgmtBycg',\n",
       " u'nnoKKy7eG8sfHpNRpteB2g',\n",
       " u'pNMUZiL-TaQojaEygESgwQ',\n",
       " u'dj9n9G7NVLaho6vMvlvL8g',\n",
       " u'mnLUYbU9RDsvlkwR74g3Fg',\n",
       " u'qvbKAQPiYrRNzmBW1OLzhQ',\n",
       " u'3RybmJO-xvNhP7_SZBhkfg',\n",
       " u'S4cjMPnA4Q94hwhWy9munA',\n",
       " u'Yb9F2TMaYK6CiIccgIYQ7g',\n",
       " u'wiwpqo0-aOx5E3RrPxGtIg',\n",
       " u'ts7EG6Zv2zdMDg29nyqGfA',\n",
       " u'hvJP2aqd91M4iFriEWGkIA',\n",
       " u'cSop_52xFtOh41nUsuIGuA',\n",
       " u'SQJSDlBLvJWuYT0iH20lwQ',\n",
       " u'dp3MhTE3-OIgEDvsRqib-g',\n",
       " u'84aeLpM1g9tc79gERKxh5Q',\n",
       " u'jpq_dnjbDaLq1MHJBEsvYQ',\n",
       " u'dXkJ91eJ60KppeHC9dmavA',\n",
       " u'cZjX4HsWB8mTLHI4uhbB-g',\n",
       " u'uBUGZtTxmaG-8YpUWpU5_Q',\n",
       " u'ECGwO4e0ok3mYCP62R6qgA',\n",
       " u'Xpx2PKsS8kY-W4drng9AYQ',\n",
       " u'W69BD5GIknl2L8MXVNbEPw',\n",
       " u'31D7Vgfk3RPaePdkMBSyCw',\n",
       " u'akRkV6IFvpIAhsEOysIXog',\n",
       " u'tFLi8-M6MOOrY5CsvWHRMA',\n",
       " u'Z_xsS2QN0OSuu9m6cgIlHQ',\n",
       " u'Blw41bWMv-6HRVbNC91CSA',\n",
       " u'hGK3riddpQHnkorViMUkAQ',\n",
       " u'lpZtfD-vCqUER1yGKEvUPw',\n",
       " u'Hc_TjvjaYInA4j8Lb6ojxQ',\n",
       " u'gD2FceWxl711U2IJokXBAQ',\n",
       " u'SMSDl_TufEb95k_vN-D2Dw',\n",
       " u'GtcVim7Y43ALraAb3ritmQ']"
      ]
     },
     "execution_count": 18,
     "metadata": {},
     "output_type": "execute_result"
    }
   ],
   "source": [
    "NC_digraph.nodes()"
   ]
  },
  {
   "cell_type": "code",
   "execution_count": 19,
   "metadata": {
    "collapsed": false
   },
   "outputs": [
    {
     "name": "stdout",
     "output_type": "stream",
     "text": [
      "240 nodes\n"
     ]
    }
   ],
   "source": [
    "print NC_digraph.number_of_nodes(), \"nodes\""
   ]
  },
  {
   "cell_type": "code",
   "execution_count": 20,
   "metadata": {
    "collapsed": false
   },
   "outputs": [
    {
     "name": "stdout",
     "output_type": "stream",
     "text": [
      "1061 edges\n"
     ]
    }
   ],
   "source": [
    "print NC_digraph.number_of_edges(), \"edges\""
   ]
  },
  {
   "cell_type": "code",
   "execution_count": 21,
   "metadata": {
    "collapsed": false
   },
   "outputs": [
    {
     "data": {
      "text/plain": [
       "{u'C1BIq8rhj0ZG2t3tV6pKFg': {u'weight': 1},\n",
       " u'UCK9qP7EyBYWHZiN0ckdpw': {u'weight': 1},\n",
       " u'e2j5nTQ2dnkB--pJakcUSA': {u'weight': 1},\n",
       " u'gD2IlYNxzvFOuRMGqH96lQ': {u'weight': 1},\n",
       " u'ltpnxJxM446ZEDrrzQ5anA': {u'weight': 1},\n",
       " u'xqqAzP6zjtJbyegKR1Md9A': {u'weight': 1}}"
      ]
     },
     "execution_count": 21,
     "metadata": {},
     "output_type": "execute_result"
    }
   ],
   "source": [
    "NC_digraph.succ['Z1FWaNNO8oxaHLYB9XhQDg']"
   ]
  },
  {
   "cell_type": "code",
   "execution_count": 22,
   "metadata": {
    "collapsed": false
   },
   "outputs": [
    {
     "data": {
      "text/plain": [
       "[(u'PpkKVodWC0sdn74TbHQLzA', u'S3HZF5aANmhZoMkFkPMdqQ', {u'weight': 1}),\n",
       " (u'PpkKVodWC0sdn74TbHQLzA', u'Y--yRCncNlQCNULP8I5h6Q', {u'weight': 1}),\n",
       " (u'PpkKVodWC0sdn74TbHQLzA', u'9P_5UGjc3t3Bo_yJ5A7iAQ', {u'weight': 2}),\n",
       " (u'PpkKVodWC0sdn74TbHQLzA', u'FB_kqMLsd8BKIydQUUC_Ag', {u'weight': 1}),\n",
       " (u'PpkKVodWC0sdn74TbHQLzA', u'3GteArKIVRlJZjjRqqwgaQ', {u'weight': 1}),\n",
       " (u'PpkKVodWC0sdn74TbHQLzA', u'NzWLMPvbEval0OVg_YDn4g', {u'weight': 3}),\n",
       " (u'PpkKVodWC0sdn74TbHQLzA', u'-_1ctLaz3jhPYc12hKXsEQ', {u'weight': 1}),\n",
       " (u'PpkKVodWC0sdn74TbHQLzA', u'5hhvqWu2vCo4HSKFw4H0pQ', {u'weight': 1}),\n",
       " (u'PpkKVodWC0sdn74TbHQLzA', u'UmCAhWcU_abaaESenKUiLw', {u'weight': 1}),\n",
       " (u'PpkKVodWC0sdn74TbHQLzA', u'tm_HvdZmUMGht1-xjGQF7Q', {u'weight': 1}),\n",
       " (u'PpkKVodWC0sdn74TbHQLzA', u'0SuIvO9hz82-tuKEe2z35A', {u'weight': 1}),\n",
       " (u'PpkKVodWC0sdn74TbHQLzA', u'd8y98FiNtI8OQFAp2tvoKg', {u'weight': 1}),\n",
       " (u'PpkKVodWC0sdn74TbHQLzA', u'ts7EG6Zv2zdMDg29nyqGfA', {u'weight': 2}),\n",
       " (u'PpkKVodWC0sdn74TbHQLzA', u's9I4KMcrHKki44g_eTrYqQ', {u'weight': 3}),\n",
       " (u'PpkKVodWC0sdn74TbHQLzA', u'LP0bl3GKToABt3lnpSvA2w', {u'weight': 1}),\n",
       " (u'PpkKVodWC0sdn74TbHQLzA', u'OyzjdoEb6xJcFNNjnpQVxw', {u'weight': 1}),\n",
       " (u'PpkKVodWC0sdn74TbHQLzA', u'ED6n40WmZJm0AvsKkG7iaw', {u'weight': 1}),\n",
       " (u'PpkKVodWC0sdn74TbHQLzA', u'cZjX4HsWB8mTLHI4uhbB-g', {u'weight': 2}),\n",
       " (u'PpkKVodWC0sdn74TbHQLzA', u'MaJb-XiZ263_SSmneBmgYA', {u'weight': 1}),\n",
       " (u'PpkKVodWC0sdn74TbHQLzA', u'iXpKKeeiXjBncJyDWbfhxw', {u'weight': 1}),\n",
       " (u'PpkKVodWC0sdn74TbHQLzA', u'A6bPFcUjuuayRBoyybedDQ', {u'weight': 5}),\n",
       " (u'PpkKVodWC0sdn74TbHQLzA', u'FHofjlnlxqdvSSkQ6UkNZw', {u'weight': 1}),\n",
       " (u'lhIEvJs8o09n6-zdffln0g', u'tTKBoD9Eb2KrXRHg8OpB2g', {u'weight': 1}),\n",
       " (u'lhIEvJs8o09n6-zdffln0g', u'M-TwsqjrGVH9-qyw2KcvdQ', {u'weight': 1}),\n",
       " (u'lhIEvJs8o09n6-zdffln0g', u'tha1bsWQNbDTnHYMk48vGA', {u'weight': 1}),\n",
       " (u'lhIEvJs8o09n6-zdffln0g', u'GtcVim7Y43ALraAb3ritmQ', {u'weight': 1}),\n",
       " (u'lhIEvJs8o09n6-zdffln0g', u'cr7KWf32wFdD4kYu2ovSwg', {u'weight': 1}),\n",
       " (u'GrA3BLjRjAKvFYwSqN_4cg', u'2yjdCTybzIeGjRIIrJz1vg', {u'weight': 1}),\n",
       " (u'_-S38fYbXdf2J9n7se30jg', u'7ewE_dDxjXNppOj0EhhMIQ', {u'weight': 1}),\n",
       " (u'_-S38fYbXdf2J9n7se30jg', u'LP0bl3GKToABt3lnpSvA2w', {u'weight': 1}),\n",
       " (u'_-S38fYbXdf2J9n7se30jg', u'FHSOR7FlOJOh6RjejrDwRQ', {u'weight': 1}),\n",
       " (u'_-S38fYbXdf2J9n7se30jg', u'lpZtfD-vCqUER1yGKEvUPw', {u'weight': 1}),\n",
       " (u'VEtVKHZIEjq_YTd8ZPBu-g', u'M-TwsqjrGVH9-qyw2KcvdQ', {u'weight': 1}),\n",
       " (u'UIbW6xWBczva9e4fcuV8JA', u'qlYjP4O4BJXE9XaF9MqTYA', {u'weight': 1}),\n",
       " (u'UIbW6xWBczva9e4fcuV8JA', u'lpZtfD-vCqUER1yGKEvUPw', {u'weight': 1}),\n",
       " (u'UIbW6xWBczva9e4fcuV8JA', u'ED6n40WmZJm0AvsKkG7iaw', {u'weight': 1}),\n",
       " (u'UIbW6xWBczva9e4fcuV8JA', u'-_1ctLaz3jhPYc12hKXsEQ', {u'weight': 1}),\n",
       " (u'emoQY8neOSJm-xwqh4xVfQ', u'PpkKVodWC0sdn74TbHQLzA', {u'weight': 1}),\n",
       " (u'emoQY8neOSJm-xwqh4xVfQ', u'6pK_c7oKlUO8o8dWbnO2jg', {u'weight': 1}),\n",
       " (u'emoQY8neOSJm-xwqh4xVfQ', u'NzWLMPvbEval0OVg_YDn4g', {u'weight': 1}),\n",
       " (u'emoQY8neOSJm-xwqh4xVfQ', u'MaJb-XiZ263_SSmneBmgYA', {u'weight': 1}),\n",
       " (u'emoQY8neOSJm-xwqh4xVfQ', u'gD2FceWxl711U2IJokXBAQ', {u'weight': 1}),\n",
       " (u'emoQY8neOSJm-xwqh4xVfQ', u'kxRnhpUgooticN9DimR-CQ', {u'weight': 1}),\n",
       " (u'emoQY8neOSJm-xwqh4xVfQ', u'tha1bsWQNbDTnHYMk48vGA', {u'weight': 1}),\n",
       " (u'emoQY8neOSJm-xwqh4xVfQ', u'H7Y33bDfjw8RvJKHIXU5Uw', {u'weight': 1}),\n",
       " (u'emoQY8neOSJm-xwqh4xVfQ', u's9I4KMcrHKki44g_eTrYqQ', {u'weight': 1}),\n",
       " (u'emoQY8neOSJm-xwqh4xVfQ', u'LP0bl3GKToABt3lnpSvA2w', {u'weight': 1}),\n",
       " (u'emoQY8neOSJm-xwqh4xVfQ', u'Ul93T_U5jDh1FIIpiiTxuw', {u'weight': 1}),\n",
       " (u'emoQY8neOSJm-xwqh4xVfQ', u'H2NIEAD71yF8T5Pt0XigmQ', {u'weight': 1}),\n",
       " (u'emoQY8neOSJm-xwqh4xVfQ', u'W6LTsXcY1R76M9EdeN0G6A', {u'weight': 1}),\n",
       " (u'emoQY8neOSJm-xwqh4xVfQ', u'ED6n40WmZJm0AvsKkG7iaw', {u'weight': 1}),\n",
       " (u'emoQY8neOSJm-xwqh4xVfQ', u'd4-0-wEjkANvDuuq9SmmKw', {u'weight': 1}),\n",
       " (u'emoQY8neOSJm-xwqh4xVfQ', u'ts7EG6Zv2zdMDg29nyqGfA', {u'weight': 3}),\n",
       " (u'AUDvPJ5LxB5m_oMiFl6Xww', u'lhIEvJs8o09n6-zdffln0g', {u'weight': 1}),\n",
       " (u'AUDvPJ5LxB5m_oMiFl6Xww', u'W6LTsXcY1R76M9EdeN0G6A', {u'weight': 1}),\n",
       " (u'AUDvPJ5LxB5m_oMiFl6Xww', u'OBS3D3WRVNT9tHhdyS0D6Q', {u'weight': 1}),\n",
       " (u'AUDvPJ5LxB5m_oMiFl6Xww', u'GtcVim7Y43ALraAb3ritmQ', {u'weight': 2}),\n",
       " (u'AUDvPJ5LxB5m_oMiFl6Xww', u'4itIWbWKDMXef7VzAQ41-g', {u'weight': 1}),\n",
       " (u'ltpnxJxM446ZEDrrzQ5anA', u'gD2IlYNxzvFOuRMGqH96lQ', {u'weight': 1}),\n",
       " (u'ltpnxJxM446ZEDrrzQ5anA', u'e2j5nTQ2dnkB--pJakcUSA', {u'weight': 1}),\n",
       " (u'GRiX5F5zgJiQQ1NyV3B6Cg', u'tFLi8-M6MOOrY5CsvWHRMA', {u'weight': 1}),\n",
       " (u'OBS3D3WRVNT9tHhdyS0D6Q', u'eFxX1tSNLmVkAP9kNv2--Q', {u'weight': 1}),\n",
       " (u'OBS3D3WRVNT9tHhdyS0D6Q', u'2fZlVLQec7EGfP6gErNNkg', {u'weight': 1}),\n",
       " (u'OBS3D3WRVNT9tHhdyS0D6Q', u'fW0eVXKzwg8Bgbl2AJDEjg', {u'weight': 1}),\n",
       " (u'OBS3D3WRVNT9tHhdyS0D6Q', u'ts7EG6Zv2zdMDg29nyqGfA', {u'weight': 1}),\n",
       " (u'OBS3D3WRVNT9tHhdyS0D6Q', u'do-fO-EruYVP_FQPMNWmZg', {u'weight': 1}),\n",
       " (u'OBS3D3WRVNT9tHhdyS0D6Q', u'W6LTsXcY1R76M9EdeN0G6A', {u'weight': 2}),\n",
       " (u'OBS3D3WRVNT9tHhdyS0D6Q', u'I9-qaI_sfTJzeG52WZMdkQ', {u'weight': 1}),\n",
       " (u'fW0eVXKzwg8Bgbl2AJDEjg', u'iHJvo9405LGI3VrWRoC25Q', {u'weight': 1}),\n",
       " (u'fW0eVXKzwg8Bgbl2AJDEjg', u'UmCAhWcU_abaaESenKUiLw', {u'weight': 1}),\n",
       " (u'fW0eVXKzwg8Bgbl2AJDEjg', u'iXpKKeeiXjBncJyDWbfhxw', {u'weight': 1}),\n",
       " (u'kxRnhpUgooticN9DimR-CQ', u'_-S38fYbXdf2J9n7se30jg', {u'weight': 1}),\n",
       " (u'kxRnhpUgooticN9DimR-CQ', u'lpZtfD-vCqUER1yGKEvUPw', {u'weight': 1}),\n",
       " (u'kxRnhpUgooticN9DimR-CQ', u'nykberdxcTFvdBf8lMOPJg', {u'weight': 1}),\n",
       " (u'kxRnhpUgooticN9DimR-CQ', u'Ul93T_U5jDh1FIIpiiTxuw', {u'weight': 1}),\n",
       " (u'kxRnhpUgooticN9DimR-CQ', u'fU3VCs--DRhgN2rtN5puEw', {u'weight': 1}),\n",
       " (u'glzRad3_l42hALvjB9p97w', u'ltpnxJxM446ZEDrrzQ5anA', {u'weight': 1}),\n",
       " (u'glzRad3_l42hALvjB9p97w', u'2yjdCTybzIeGjRIIrJz1vg', {u'weight': 1}),\n",
       " (u'glzRad3_l42hALvjB9p97w', u'r-Oo5ZG-zQE9P4C16W_rfA', {u'weight': 1}),\n",
       " (u'glzRad3_l42hALvjB9p97w', u'Z1FWaNNO8oxaHLYB9XhQDg', {u'weight': 1}),\n",
       " (u'glzRad3_l42hALvjB9p97w', u'GrA3BLjRjAKvFYwSqN_4cg', {u'weight': 1}),\n",
       " (u'glzRad3_l42hALvjB9p97w', u'e2j5nTQ2dnkB--pJakcUSA', {u'weight': 1}),\n",
       " (u'glzRad3_l42hALvjB9p97w', u'E_6E0U8d_L4uxaURifx0dQ', {u'weight': 1}),\n",
       " (u'glzRad3_l42hALvjB9p97w', u'EvzQ5xBQhAx_s9HyQ2swYA', {u'weight': 1}),\n",
       " (u'glzRad3_l42hALvjB9p97w', u'H2NIEAD71yF8T5Pt0XigmQ', {u'weight': 1}),\n",
       " (u'glzRad3_l42hALvjB9p97w', u'W6LTsXcY1R76M9EdeN0G6A', {u'weight': 1}),\n",
       " (u'glzRad3_l42hALvjB9p97w', u'nykberdxcTFvdBf8lMOPJg', {u'weight': 1}),\n",
       " (u'glzRad3_l42hALvjB9p97w', u'2fZlVLQec7EGfP6gErNNkg', {u'weight': 1}),\n",
       " (u'glzRad3_l42hALvjB9p97w', u'Ljb4mRGWCkR49NW7tjjyKQ', {u'weight': 1}),\n",
       " (u'5hhvqWu2vCo4HSKFw4H0pQ', u'PpkKVodWC0sdn74TbHQLzA', {u'weight': 1}),\n",
       " (u'5hhvqWu2vCo4HSKFw4H0pQ', u'x22P6OJwAqVNLeJONJVB4Q', {u'weight': 1}),\n",
       " (u'5hhvqWu2vCo4HSKFw4H0pQ', u'qlYjP4O4BJXE9XaF9MqTYA', {u'weight': 1}),\n",
       " (u'5hhvqWu2vCo4HSKFw4H0pQ', u'YlFBJ36KW41zERAxB-TBgQ', {u'weight': 1}),\n",
       " (u'5hhvqWu2vCo4HSKFw4H0pQ', u'd4-0-wEjkANvDuuq9SmmKw', {u'weight': 1}),\n",
       " (u'5hhvqWu2vCo4HSKFw4H0pQ', u'KaVnvEyEfc2YoP1T1g8-7g', {u'weight': 2}),\n",
       " (u'5hhvqWu2vCo4HSKFw4H0pQ', u'9P_5UGjc3t3Bo_yJ5A7iAQ', {u'weight': 1}),\n",
       " (u'4itIWbWKDMXef7VzAQ41-g', u'LP0bl3GKToABt3lnpSvA2w', {u'weight': 1}),\n",
       " (u'4itIWbWKDMXef7VzAQ41-g', u'MaJb-XiZ263_SSmneBmgYA', {u'weight': 1}),\n",
       " (u'4itIWbWKDMXef7VzAQ41-g', u'NzWLMPvbEval0OVg_YDn4g', {u'weight': 3}),\n",
       " (u'4itIWbWKDMXef7VzAQ41-g', u'lpZtfD-vCqUER1yGKEvUPw', {u'weight': 1}),\n",
       " (u'4itIWbWKDMXef7VzAQ41-g', u'-_1ctLaz3jhPYc12hKXsEQ', {u'weight': 1}),\n",
       " (u'4itIWbWKDMXef7VzAQ41-g', u'tm_HvdZmUMGht1-xjGQF7Q', {u'weight': 2}),\n",
       " (u'4itIWbWKDMXef7VzAQ41-g', u'ED6n40WmZJm0AvsKkG7iaw', {u'weight': 1}),\n",
       " (u'I9-qaI_sfTJzeG52WZMdkQ', u'2yjdCTybzIeGjRIIrJz1vg', {u'weight': 1}),\n",
       " (u'I9-qaI_sfTJzeG52WZMdkQ', u'GrA3BLjRjAKvFYwSqN_4cg', {u'weight': 1}),\n",
       " (u'I9-qaI_sfTJzeG52WZMdkQ', u'3GteArKIVRlJZjjRqqwgaQ', {u'weight': 1}),\n",
       " (u'I9-qaI_sfTJzeG52WZMdkQ', u'tha1bsWQNbDTnHYMk48vGA', {u'weight': 1}),\n",
       " (u'I9-qaI_sfTJzeG52WZMdkQ', u'OyzjdoEb6xJcFNNjnpQVxw', {u'weight': 1}),\n",
       " (u'I9-qaI_sfTJzeG52WZMdkQ', u'W6LTsXcY1R76M9EdeN0G6A', {u'weight': 1}),\n",
       " (u'I9-qaI_sfTJzeG52WZMdkQ', u'AUDvPJ5LxB5m_oMiFl6Xww', {u'weight': 1}),\n",
       " (u'n9OkjFjUBIQ5zze7nLuQog', u'uBUGZtTxmaG-8YpUWpU5_Q', {u'weight': 1}),\n",
       " (u'n9OkjFjUBIQ5zze7nLuQog', u's9I4KMcrHKki44g_eTrYqQ', {u'weight': 1}),\n",
       " (u'n9OkjFjUBIQ5zze7nLuQog', u'W6LTsXcY1R76M9EdeN0G6A', {u'weight': 1}),\n",
       " (u'n9OkjFjUBIQ5zze7nLuQog', u'C4luJ-aeXW5J6_Yer6geRw', {u'weight': 1}),\n",
       " (u'n9OkjFjUBIQ5zze7nLuQog', u'nykberdxcTFvdBf8lMOPJg', {u'weight': 1}),\n",
       " (u'uL7TIJ56Eb9Rx4nkt2ej_Q', u'PpkKVodWC0sdn74TbHQLzA', {u'weight': 1}),\n",
       " (u'uL7TIJ56Eb9Rx4nkt2ej_Q', u'ts7EG6Zv2zdMDg29nyqGfA', {u'weight': 1}),\n",
       " (u'uL7TIJ56Eb9Rx4nkt2ej_Q', u'UIbW6xWBczva9e4fcuV8JA', {u'weight': 1}),\n",
       " (u'uL7TIJ56Eb9Rx4nkt2ej_Q', u'XZuMpc6E9RqZX4HXtmlr-g', {u'weight': 1}),\n",
       " (u'M9H6p4hm2utu1G0ipV80Ug', u'2fZlVLQec7EGfP6gErNNkg', {u'weight': 1}),\n",
       " (u'M9H6p4hm2utu1G0ipV80Ug', u'ctXZwLnGALfazigC5e-zxg', {u'weight': 1}),\n",
       " (u'M9H6p4hm2utu1G0ipV80Ug', u'ts7EG6Zv2zdMDg29nyqGfA', {u'weight': 1}),\n",
       " (u'M9H6p4hm2utu1G0ipV80Ug', u'OBS3D3WRVNT9tHhdyS0D6Q', {u'weight': 1}),\n",
       " (u'M9H6p4hm2utu1G0ipV80Ug', u'Ul93T_U5jDh1FIIpiiTxuw', {u'weight': 1}),\n",
       " (u'M9H6p4hm2utu1G0ipV80Ug', u'E6Eh1bz6fpo6EOPtctA-sg', {u'weight': 1}),\n",
       " (u'M9H6p4hm2utu1G0ipV80Ug', u'whKpnugMnWTz3UjlrN71yg', {u'weight': 1}),\n",
       " (u'M9H6p4hm2utu1G0ipV80Ug', u'hBZ4tkZJqkLZRf215I-WDg', {u'weight': 1}),\n",
       " (u'M9H6p4hm2utu1G0ipV80Ug', u'ED6n40WmZJm0AvsKkG7iaw', {u'weight': 1}),\n",
       " (u'M9H6p4hm2utu1G0ipV80Ug', u'27aGnUabXY23OH5oilHe7g', {u'weight': 1}),\n",
       " (u'M9H6p4hm2utu1G0ipV80Ug', u'9P_5UGjc3t3Bo_yJ5A7iAQ', {u'weight': 1}),\n",
       " (u'OyzjdoEb6xJcFNNjnpQVxw', u'gD2FceWxl711U2IJokXBAQ', {u'weight': 1}),\n",
       " (u'OyzjdoEb6xJcFNNjnpQVxw', u'VFOwxpOWH9RZ3iMelkRd7A', {u'weight': 1}),\n",
       " (u'OyzjdoEb6xJcFNNjnpQVxw', u'DK2gGNdN3ihOu_uwt2AgLg', {u'weight': 1}),\n",
       " (u'W6LTsXcY1R76M9EdeN0G6A', u'lhIEvJs8o09n6-zdffln0g', {u'weight': 1}),\n",
       " (u'W6LTsXcY1R76M9EdeN0G6A', u'6haxuID5ulEVALnOhs89XA', {u'weight': 2}),\n",
       " (u'W6LTsXcY1R76M9EdeN0G6A', u'GrA3BLjRjAKvFYwSqN_4cg', {u'weight': 1}),\n",
       " (u'W6LTsXcY1R76M9EdeN0G6A', u'Ul93T_U5jDh1FIIpiiTxuw', {u'weight': 1}),\n",
       " (u'W6LTsXcY1R76M9EdeN0G6A', u'gVGu5DHk5iI4CQ2tX7ka6A', {u'weight': 1}),\n",
       " (u'W6LTsXcY1R76M9EdeN0G6A', u'9P_5UGjc3t3Bo_yJ5A7iAQ', {u'weight': 1}),\n",
       " (u'W6LTsXcY1R76M9EdeN0G6A', u'0_Xyynwz0H3n1coC9Rnn6Q', {u'weight': 2}),\n",
       " (u'W6LTsXcY1R76M9EdeN0G6A', u'fW0eVXKzwg8Bgbl2AJDEjg', {u'weight': 1}),\n",
       " (u'W6LTsXcY1R76M9EdeN0G6A', u'3GteArKIVRlJZjjRqqwgaQ', {u'weight': 1}),\n",
       " (u'W6LTsXcY1R76M9EdeN0G6A', u'NzWLMPvbEval0OVg_YDn4g', {u'weight': 1}),\n",
       " (u'W6LTsXcY1R76M9EdeN0G6A', u'MOaDlqJ6wWvnJN4wGqreqw', {u'weight': 1}),\n",
       " (u'W6LTsXcY1R76M9EdeN0G6A', u'VhI6xyylcAxi0wOy2HOX3w', {u'weight': 1}),\n",
       " (u'W6LTsXcY1R76M9EdeN0G6A', u'I9-qaI_sfTJzeG52WZMdkQ', {u'weight': 1}),\n",
       " (u'W6LTsXcY1R76M9EdeN0G6A', u'1K50PvXa6l5PBXZXhzkB-g', {u'weight': 1}),\n",
       " (u'W6LTsXcY1R76M9EdeN0G6A', u'tha1bsWQNbDTnHYMk48vGA', {u'weight': 1}),\n",
       " (u'W6LTsXcY1R76M9EdeN0G6A', u'ts7EG6Zv2zdMDg29nyqGfA', {u'weight': 1}),\n",
       " (u'W6LTsXcY1R76M9EdeN0G6A', u'do-fO-EruYVP_FQPMNWmZg', {u'weight': 1}),\n",
       " (u'W6LTsXcY1R76M9EdeN0G6A', u'OyzjdoEb6xJcFNNjnpQVxw', {u'weight': 1}),\n",
       " (u'W6LTsXcY1R76M9EdeN0G6A', u'dXkJ91eJ60KppeHC9dmavA', {u'weight': 2}),\n",
       " (u'W6LTsXcY1R76M9EdeN0G6A', u'ey-joFTK0R8T2xrYFx4FKQ', {u'weight': 1}),\n",
       " (u'W6LTsXcY1R76M9EdeN0G6A', u'Ljb4mRGWCkR49NW7tjjyKQ', {u'weight': 1}),\n",
       " (u'W6LTsXcY1R76M9EdeN0G6A', u'qlYjP4O4BJXE9XaF9MqTYA', {u'weight': 1}),\n",
       " (u'W6LTsXcY1R76M9EdeN0G6A', u's9I4KMcrHKki44g_eTrYqQ', {u'weight': 1}),\n",
       " (u'W6LTsXcY1R76M9EdeN0G6A', u'1AdijTh6Y2mqe7IjIw5Kuw', {u'weight': 1}),\n",
       " (u'W6LTsXcY1R76M9EdeN0G6A', u'hEFiiqzLHkqNSePBD2jnqA', {u'weight': 1}),\n",
       " (u'W6LTsXcY1R76M9EdeN0G6A', u'Blw41bWMv-6HRVbNC91CSA', {u'weight': 1}),\n",
       " (u'W6LTsXcY1R76M9EdeN0G6A', u'GtcVim7Y43ALraAb3ritmQ', {u'weight': 2}),\n",
       " (u'Ljb4mRGWCkR49NW7tjjyKQ', u'EvzQ5xBQhAx_s9HyQ2swYA', {u'weight': 1}),\n",
       " (u'Ljb4mRGWCkR49NW7tjjyKQ', u'r-Oo5ZG-zQE9P4C16W_rfA', {u'weight': 1}),\n",
       " (u'Ljb4mRGWCkR49NW7tjjyKQ', u'H7Y33bDfjw8RvJKHIXU5Uw', {u'weight': 1}),\n",
       " (u'Ljb4mRGWCkR49NW7tjjyKQ', u'glzRad3_l42hALvjB9p97w', {u'weight': 1}),\n",
       " (u'Ljb4mRGWCkR49NW7tjjyKQ', u'E_6E0U8d_L4uxaURifx0dQ', {u'weight': 1}),\n",
       " (u'Ljb4mRGWCkR49NW7tjjyKQ', u'koSslLJP5TsYqtZU7lKhVw', {u'weight': 1}),\n",
       " (u'6pK_c7oKlUO8o8dWbnO2jg', u'cZjX4HsWB8mTLHI4uhbB-g', {u'weight': 1}),\n",
       " (u'6pK_c7oKlUO8o8dWbnO2jg', u'gD2FceWxl711U2IJokXBAQ', {u'weight': 1}),\n",
       " (u'6pK_c7oKlUO8o8dWbnO2jg', u'DK2gGNdN3ihOu_uwt2AgLg', {u'weight': 1}),\n",
       " (u'6pK_c7oKlUO8o8dWbnO2jg', u'E1Wu-YuaNJWgQqSIsW8K5Q', {u'weight': 1}),\n",
       " (u'6pK_c7oKlUO8o8dWbnO2jg', u'hBZ4tkZJqkLZRf215I-WDg', {u'weight': 1}),\n",
       " (u'6pK_c7oKlUO8o8dWbnO2jg', u'emoQY8neOSJm-xwqh4xVfQ', {u'weight': 1}),\n",
       " (u'6pK_c7oKlUO8o8dWbnO2jg', u'suHNFmm634ZzPzfOggxRqw', {u'weight': 1}),\n",
       " (u't5Ghdu61tkh3Rz_8z96m8w', u'eFxX1tSNLmVkAP9kNv2--Q', {u'weight': 1}),\n",
       " (u't5Ghdu61tkh3Rz_8z96m8w', u'dUNaeTHu9JeWOheE1NYGLw', {u'weight': 1}),\n",
       " (u'YlFBJ36KW41zERAxB-TBgQ', u'lpyyEAwuU9zo7v3num81uA', {u'weight': 1}),\n",
       " (u'YlFBJ36KW41zERAxB-TBgQ', u's9I4KMcrHKki44g_eTrYqQ', {u'weight': 1}),\n",
       " (u'YlFBJ36KW41zERAxB-TBgQ', u'VEtVKHZIEjq_YTd8ZPBu-g', {u'weight': 1}),\n",
       " (u'YlFBJ36KW41zERAxB-TBgQ', u'Ul93T_U5jDh1FIIpiiTxuw', {u'weight': 1}),\n",
       " (u'YlFBJ36KW41zERAxB-TBgQ', u'ED6n40WmZJm0AvsKkG7iaw', {u'weight': 1}),\n",
       " (u'YlFBJ36KW41zERAxB-TBgQ', u'FHSOR7FlOJOh6RjejrDwRQ', {u'weight': 1}),\n",
       " (u'XZuMpc6E9RqZX4HXtmlr-g', u'Uqr3GTH8tdxnRV2CDKlLEw', {u'weight': 1}),\n",
       " (u'XZuMpc6E9RqZX4HXtmlr-g', u'gD2FceWxl711U2IJokXBAQ', {u'weight': 1}),\n",
       " (u'XZuMpc6E9RqZX4HXtmlr-g', u'3GteArKIVRlJZjjRqqwgaQ', {u'weight': 1}),\n",
       " (u'XZuMpc6E9RqZX4HXtmlr-g', u'H7Y33bDfjw8RvJKHIXU5Uw', {u'weight': 1}),\n",
       " (u'XZuMpc6E9RqZX4HXtmlr-g', u'M-TwsqjrGVH9-qyw2KcvdQ', {u'weight': 1}),\n",
       " (u'XZuMpc6E9RqZX4HXtmlr-g', u'VhI6xyylcAxi0wOy2HOX3w', {u'weight': 1}),\n",
       " (u'XZuMpc6E9RqZX4HXtmlr-g', u'84aeLpM1g9tc79gERKxh5Q', {u'weight': 1}),\n",
       " (u'XZuMpc6E9RqZX4HXtmlr-g', u'hEFiiqzLHkqNSePBD2jnqA', {u'weight': 1}),\n",
       " (u'XZuMpc6E9RqZX4HXtmlr-g', u'E6Eh1bz6fpo6EOPtctA-sg', {u'weight': 1}),\n",
       " (u'XZuMpc6E9RqZX4HXtmlr-g', u'suHNFmm634ZzPzfOggxRqw', {u'weight': 1}),\n",
       " (u'DK2gGNdN3ihOu_uwt2AgLg', u'qlYjP4O4BJXE9XaF9MqTYA', {u'weight': 1}),\n",
       " (u'DK2gGNdN3ihOu_uwt2AgLg', u'gD2FceWxl711U2IJokXBAQ', {u'weight': 1}),\n",
       " (u'DK2gGNdN3ihOu_uwt2AgLg', u'Y--yRCncNlQCNULP8I5h6Q', {u'weight': 1}),\n",
       " (u'DK2gGNdN3ihOu_uwt2AgLg', u'ts7EG6Zv2zdMDg29nyqGfA', {u'weight': 2}),\n",
       " (u'DK2gGNdN3ihOu_uwt2AgLg', u'M-TwsqjrGVH9-qyw2KcvdQ', {u'weight': 1}),\n",
       " (u'DK2gGNdN3ihOu_uwt2AgLg', u'OBS3D3WRVNT9tHhdyS0D6Q', {u'weight': 1}),\n",
       " (u'DK2gGNdN3ihOu_uwt2AgLg', u'LP0bl3GKToABt3lnpSvA2w', {u'weight': 1}),\n",
       " (u'DK2gGNdN3ihOu_uwt2AgLg', u'W6LTsXcY1R76M9EdeN0G6A', {u'weight': 2}),\n",
       " (u'DK2gGNdN3ihOu_uwt2AgLg', u'AUDvPJ5LxB5m_oMiFl6Xww', {u'weight': 1}),\n",
       " (u'DK2gGNdN3ihOu_uwt2AgLg', u'uL7TIJ56Eb9Rx4nkt2ej_Q', {u'weight': 1}),\n",
       " (u'DK2gGNdN3ihOu_uwt2AgLg', u'n9OkjFjUBIQ5zze7nLuQog', {u'weight': 1}),\n",
       " (u'A6bPFcUjuuayRBoyybedDQ', u'PpkKVodWC0sdn74TbHQLzA', {u'weight': 2}),\n",
       " (u'A6bPFcUjuuayRBoyybedDQ', u'5hhvqWu2vCo4HSKFw4H0pQ', {u'weight': 1}),\n",
       " (u'A6bPFcUjuuayRBoyybedDQ', u'NzWLMPvbEval0OVg_YDn4g', {u'weight': 4}),\n",
       " (u'A6bPFcUjuuayRBoyybedDQ', u'MaJb-XiZ263_SSmneBmgYA', {u'weight': 1}),\n",
       " (u'A6bPFcUjuuayRBoyybedDQ', u'_-S38fYbXdf2J9n7se30jg', {u'weight': 1}),\n",
       " (u'A6bPFcUjuuayRBoyybedDQ', u'uL7TIJ56Eb9Rx4nkt2ej_Q', {u'weight': 1}),\n",
       " (u'A6bPFcUjuuayRBoyybedDQ', u'ctXZwLnGALfazigC5e-zxg', {u'weight': 1}),\n",
       " (u'A6bPFcUjuuayRBoyybedDQ', u'd8y98FiNtI8OQFAp2tvoKg', {u'weight': 1}),\n",
       " (u'A6bPFcUjuuayRBoyybedDQ', u'ts7EG6Zv2zdMDg29nyqGfA', {u'weight': 1}),\n",
       " (u'A6bPFcUjuuayRBoyybedDQ', u'M-TwsqjrGVH9-qyw2KcvdQ', {u'weight': 1}),\n",
       " (u'A6bPFcUjuuayRBoyybedDQ', u's9I4KMcrHKki44g_eTrYqQ', {u'weight': 1}),\n",
       " (u'A6bPFcUjuuayRBoyybedDQ', u'lpZtfD-vCqUER1yGKEvUPw', {u'weight': 6}),\n",
       " (u'A6bPFcUjuuayRBoyybedDQ', u'LP0bl3GKToABt3lnpSvA2w', {u'weight': 1}),\n",
       " (u'A6bPFcUjuuayRBoyybedDQ', u'Ul93T_U5jDh1FIIpiiTxuw', {u'weight': 2}),\n",
       " (u'A6bPFcUjuuayRBoyybedDQ', u'tm_HvdZmUMGht1-xjGQF7Q', {u'weight': 1}),\n",
       " (u'A6bPFcUjuuayRBoyybedDQ', u'gD2FceWxl711U2IJokXBAQ', {u'weight': 2}),\n",
       " (u'A6bPFcUjuuayRBoyybedDQ', u'VhI6xyylcAxi0wOy2HOX3w', {u'weight': 1}),\n",
       " (u'A6bPFcUjuuayRBoyybedDQ', u'W6LTsXcY1R76M9EdeN0G6A', {u'weight': 1}),\n",
       " (u'A6bPFcUjuuayRBoyybedDQ', u'ED6n40WmZJm0AvsKkG7iaw', {u'weight': 2}),\n",
       " (u'A6bPFcUjuuayRBoyybedDQ', u'9P_5UGjc3t3Bo_yJ5A7iAQ', {u'weight': 1}),\n",
       " (u'A6bPFcUjuuayRBoyybedDQ', u'GtcVim7Y43ALraAb3ritmQ', {u'weight': 1}),\n",
       " (u'N1bZJxYJx0p-cRMsN608Tg', u'C1BIq8rhj0ZG2t3tV6pKFg', {u'weight': 1}),\n",
       " (u'N1bZJxYJx0p-cRMsN608Tg', u'Z1FWaNNO8oxaHLYB9XhQDg', {u'weight': 1}),\n",
       " (u'N1bZJxYJx0p-cRMsN608Tg', u'UCK9qP7EyBYWHZiN0ckdpw', {u'weight': 1}),\n",
       " (u'YJ5_YCrzLX5Laav13qG0qw', u'A6bPFcUjuuayRBoyybedDQ', {u'weight': 2}),\n",
       " (u'YJ5_YCrzLX5Laav13qG0qw', u'ED6n40WmZJm0AvsKkG7iaw', {u'weight': 1}),\n",
       " (u'YJ5_YCrzLX5Laav13qG0qw', u'1TfhULbaN_9YIlcF-qEevw', {u'weight': 1}),\n",
       " (u'Hubnerc_hJyF-0vFQ-Jsng', u'VhI6xyylcAxi0wOy2HOX3w', {u'weight': 1}),\n",
       " (u'Hubnerc_hJyF-0vFQ-Jsng', u'Q9xJQu-9oCFZozVBjZDETw', {u'weight': 1}),\n",
       " (u'Hubnerc_hJyF-0vFQ-Jsng', u'LP0bl3GKToABt3lnpSvA2w', {u'weight': 1}),\n",
       " (u'x22P6OJwAqVNLeJONJVB4Q', u'lpZtfD-vCqUER1yGKEvUPw', {u'weight': 2}),\n",
       " (u'x22P6OJwAqVNLeJONJVB4Q', u'Ul93T_U5jDh1FIIpiiTxuw', {u'weight': 1}),\n",
       " (u'x22P6OJwAqVNLeJONJVB4Q', u'zRIG4znrwIOp8mG4ZxtVMQ', {u'weight': 1}),\n",
       " (u'x22P6OJwAqVNLeJONJVB4Q', u'whKpnugMnWTz3UjlrN71yg', {u'weight': 1}),\n",
       " (u'x22P6OJwAqVNLeJONJVB4Q', u'7ewE_dDxjXNppOj0EhhMIQ', {u'weight': 1}),\n",
       " (u'x22P6OJwAqVNLeJONJVB4Q', u'9P_5UGjc3t3Bo_yJ5A7iAQ', {u'weight': 1}),\n",
       " (u'x22P6OJwAqVNLeJONJVB4Q', u'7gAKXYdqYu5LfmpAHVSHVA', {u'weight': 1}),\n",
       " (u'nykberdxcTFvdBf8lMOPJg', u'kWbMzm8LMf-_QpEAtm4lJQ', {u'weight': 1}),\n",
       " (u'nykberdxcTFvdBf8lMOPJg', u'9P_5UGjc3t3Bo_yJ5A7iAQ', {u'weight': 1}),\n",
       " (u'nykberdxcTFvdBf8lMOPJg', u'Kybm9SJyOfEgDAXFUPRdCQ', {u'weight': 1}),\n",
       " (u'w1P9cvIVTxcLZvU5tXIhRw', u'6pK_c7oKlUO8o8dWbnO2jg', {u'weight': 1}),\n",
       " (u'w1P9cvIVTxcLZvU5tXIhRw', u'CEK-xEgxpR81XBLtl2R7-Q', {u'weight': 1}),\n",
       " (u'w1P9cvIVTxcLZvU5tXIhRw', u'I9-qaI_sfTJzeG52WZMdkQ', {u'weight': 1}),\n",
       " (u'w1P9cvIVTxcLZvU5tXIhRw', u'Uqr3GTH8tdxnRV2CDKlLEw', {u'weight': 1}),\n",
       " (u'w1P9cvIVTxcLZvU5tXIhRw', u'yR04yrpjBf1BH5mTnG54ZQ', {u'weight': 1}),\n",
       " (u'w1P9cvIVTxcLZvU5tXIhRw', u'M9H6p4hm2utu1G0ipV80Ug', {u'weight': 1}),\n",
       " (u'w1P9cvIVTxcLZvU5tXIhRw', u'cZjX4HsWB8mTLHI4uhbB-g', {u'weight': 1}),\n",
       " (u'w1P9cvIVTxcLZvU5tXIhRw', u'Blw41bWMv-6HRVbNC91CSA', {u'weight': 1}),\n",
       " (u'MpHfTk6J7PxsI0SrJxa-6Q', u'M-TwsqjrGVH9-qyw2KcvdQ', {u'weight': 1}),\n",
       " (u'MpHfTk6J7PxsI0SrJxa-6Q', u'VEtVKHZIEjq_YTd8ZPBu-g', {u'weight': 1}),\n",
       " (u'e2j5nTQ2dnkB--pJakcUSA', u'gD2IlYNxzvFOuRMGqH96lQ', {u'weight': 1}),\n",
       " (u'e2j5nTQ2dnkB--pJakcUSA', u'1K50PvXa6l5PBXZXhzkB-g', {u'weight': 2}),\n",
       " (u'zRIG4znrwIOp8mG4ZxtVMQ', u'PpkKVodWC0sdn74TbHQLzA', {u'weight': 1}),\n",
       " (u'zRIG4znrwIOp8mG4ZxtVMQ', u'eFxX1tSNLmVkAP9kNv2--Q', {u'weight': 1}),\n",
       " (u'zRIG4znrwIOp8mG4ZxtVMQ', u'ctXZwLnGALfazigC5e-zxg', {u'weight': 1}),\n",
       " (u'zRIG4znrwIOp8mG4ZxtVMQ', u'ts7EG6Zv2zdMDg29nyqGfA', {u'weight': 1}),\n",
       " (u'zRIG4znrwIOp8mG4ZxtVMQ', u'lpZtfD-vCqUER1yGKEvUPw', {u'weight': 1}),\n",
       " (u'zRIG4znrwIOp8mG4ZxtVMQ', u'YJ5_YCrzLX5Laav13qG0qw', {u'weight': 1}),\n",
       " (u'H7Y33bDfjw8RvJKHIXU5Uw', u'31D7Vgfk3RPaePdkMBSyCw', {u'weight': 1}),\n",
       " (u'H7Y33bDfjw8RvJKHIXU5Uw', u'_-S38fYbXdf2J9n7se30jg', {u'weight': 1}),\n",
       " (u'H7Y33bDfjw8RvJKHIXU5Uw', u'W6LTsXcY1R76M9EdeN0G6A', {u'weight': 1}),\n",
       " (u'H7Y33bDfjw8RvJKHIXU5Uw', u'glzRad3_l42hALvjB9p97w', {u'weight': 1}),\n",
       " (u'27aGnUabXY23OH5oilHe7g', u'S3HZF5aANmhZoMkFkPMdqQ', {u'weight': 1}),\n",
       " (u'27aGnUabXY23OH5oilHe7g', u'uL7TIJ56Eb9Rx4nkt2ej_Q', {u'weight': 1}),\n",
       " (u'27aGnUabXY23OH5oilHe7g', u'lpZtfD-vCqUER1yGKEvUPw', {u'weight': 1}),\n",
       " (u'27aGnUabXY23OH5oilHe7g', u'DK2gGNdN3ihOu_uwt2AgLg', {u'weight': 1}),\n",
       " (u'27aGnUabXY23OH5oilHe7g', u'M-TwsqjrGVH9-qyw2KcvdQ', {u'weight': 1}),\n",
       " (u'27aGnUabXY23OH5oilHe7g', u'A6bPFcUjuuayRBoyybedDQ', {u'weight': 1}),\n",
       " (u'27aGnUabXY23OH5oilHe7g', u'YJ5_YCrzLX5Laav13qG0qw', {u'weight': 1}),\n",
       " (u'27aGnUabXY23OH5oilHe7g', u'tm_HvdZmUMGht1-xjGQF7Q', {u'weight': 1}),\n",
       " (u'M-TwsqjrGVH9-qyw2KcvdQ', u'PpkKVodWC0sdn74TbHQLzA', {u'weight': 1}),\n",
       " (u'M-TwsqjrGVH9-qyw2KcvdQ', u'S3HZF5aANmhZoMkFkPMdqQ', {u'weight': 1}),\n",
       " (u'M-TwsqjrGVH9-qyw2KcvdQ', u'ctXZwLnGALfazigC5e-zxg', {u'weight': 1}),\n",
       " (u'M-TwsqjrGVH9-qyw2KcvdQ', u'zRIG4znrwIOp8mG4ZxtVMQ', {u'weight': 1}),\n",
       " (u'M-TwsqjrGVH9-qyw2KcvdQ', u'VFOwxpOWH9RZ3iMelkRd7A', {u'weight': 1}),\n",
       " (u'M-TwsqjrGVH9-qyw2KcvdQ', u'3GteArKIVRlJZjjRqqwgaQ', {u'weight': 1}),\n",
       " (u'M-TwsqjrGVH9-qyw2KcvdQ', u'A6bPFcUjuuayRBoyybedDQ', {u'weight': 1}),\n",
       " (u'M-TwsqjrGVH9-qyw2KcvdQ', u'LP0bl3GKToABt3lnpSvA2w', {u'weight': 2}),\n",
       " (u'M-TwsqjrGVH9-qyw2KcvdQ', u'tm_HvdZmUMGht1-xjGQF7Q', {u'weight': 1}),\n",
       " (u'M-TwsqjrGVH9-qyw2KcvdQ', u'VhI6xyylcAxi0wOy2HOX3w', {u'weight': 1}),\n",
       " (u'M-TwsqjrGVH9-qyw2KcvdQ', u'hvJP2aqd91M4iFriEWGkIA', {u'weight': 1}),\n",
       " (u'M-TwsqjrGVH9-qyw2KcvdQ', u'W6LTsXcY1R76M9EdeN0G6A', {u'weight': 1}),\n",
       " (u'M-TwsqjrGVH9-qyw2KcvdQ', u'TyIJUHF_psqpjkL7OerTHQ', {u'weight': 1}),\n",
       " (u'M-TwsqjrGVH9-qyw2KcvdQ', u'ts7EG6Zv2zdMDg29nyqGfA', {u'weight': 2}),\n",
       " (u'M-TwsqjrGVH9-qyw2KcvdQ', u'Uqr3GTH8tdxnRV2CDKlLEw', {u'weight': 1}),\n",
       " (u'M-TwsqjrGVH9-qyw2KcvdQ', u'yR04yrpjBf1BH5mTnG54ZQ', {u'weight': 1}),\n",
       " (u'M-TwsqjrGVH9-qyw2KcvdQ', u'glzRad3_l42hALvjB9p97w', {u'weight': 1}),\n",
       " (u'M-TwsqjrGVH9-qyw2KcvdQ', u'koSslLJP5TsYqtZU7lKhVw', {u'weight': 1}),\n",
       " (u'M-TwsqjrGVH9-qyw2KcvdQ', u'whKpnugMnWTz3UjlrN71yg', {u'weight': 1}),\n",
       " (u'M-TwsqjrGVH9-qyw2KcvdQ', u'M9H6p4hm2utu1G0ipV80Ug', {u'weight': 1}),\n",
       " (u'M-TwsqjrGVH9-qyw2KcvdQ', u'ED6n40WmZJm0AvsKkG7iaw', {u'weight': 1}),\n",
       " (u'M-TwsqjrGVH9-qyw2KcvdQ', u'UmCAhWcU_abaaESenKUiLw', {u'weight': 1}),\n",
       " (u'M-TwsqjrGVH9-qyw2KcvdQ', u'Ljb4mRGWCkR49NW7tjjyKQ', {u'weight': 1}),\n",
       " (u'M-TwsqjrGVH9-qyw2KcvdQ', u'tFLi8-M6MOOrY5CsvWHRMA', {u'weight': 1}),\n",
       " (u'M-TwsqjrGVH9-qyw2KcvdQ', u'H7Y33bDfjw8RvJKHIXU5Uw', {u'weight': 1}),\n",
       " (u'M-TwsqjrGVH9-qyw2KcvdQ', u'lpZtfD-vCqUER1yGKEvUPw', {u'weight': 2}),\n",
       " (u'M-TwsqjrGVH9-qyw2KcvdQ', u'FHofjlnlxqdvSSkQ6UkNZw', {u'weight': 1}),\n",
       " (u'M-TwsqjrGVH9-qyw2KcvdQ', u'w1P9cvIVTxcLZvU5tXIhRw', {u'weight': 1}),\n",
       " (u'M-TwsqjrGVH9-qyw2KcvdQ', u'GtcVim7Y43ALraAb3ritmQ', {u'weight': 1}),\n",
       " (u'0_Xyynwz0H3n1coC9Rnn6Q', u'I9-qaI_sfTJzeG52WZMdkQ', {u'weight': 1}),\n",
       " (u'3IOQbdQ2z7TKWOnBjAnkew', u'NzWLMPvbEval0OVg_YDn4g', {u'weight': 1}),\n",
       " (u'3IOQbdQ2z7TKWOnBjAnkew', u'lpZtfD-vCqUER1yGKEvUPw', {u'weight': 1}),\n",
       " (u'3IOQbdQ2z7TKWOnBjAnkew', u'-_1ctLaz3jhPYc12hKXsEQ', {u'weight': 1}),\n",
       " (u'3IOQbdQ2z7TKWOnBjAnkew', u'Ul93T_U5jDh1FIIpiiTxuw', {u'weight': 1}),\n",
       " (u'3IOQbdQ2z7TKWOnBjAnkew', u'whKpnugMnWTz3UjlrN71yg', {u'weight': 1}),\n",
       " (u'3IOQbdQ2z7TKWOnBjAnkew', u'7ewE_dDxjXNppOj0EhhMIQ', {u'weight': 1}),\n",
       " (u'3IOQbdQ2z7TKWOnBjAnkew', u'ED6n40WmZJm0AvsKkG7iaw', {u'weight': 2}),\n",
       " (u'ctXZwLnGALfazigC5e-zxg', u'eFxX1tSNLmVkAP9kNv2--Q', {u'weight': 1}),\n",
       " (u'ctXZwLnGALfazigC5e-zxg', u'OBS3D3WRVNT9tHhdyS0D6Q', {u'weight': 1}),\n",
       " (u'ctXZwLnGALfazigC5e-zxg', u'lpZtfD-vCqUER1yGKEvUPw', {u'weight': 2}),\n",
       " (u'ctXZwLnGALfazigC5e-zxg', u'-_1ctLaz3jhPYc12hKXsEQ', {u'weight': 2}),\n",
       " (u'ctXZwLnGALfazigC5e-zxg', u'YJ5_YCrzLX5Laav13qG0qw', {u'weight': 1}),\n",
       " (u'ctXZwLnGALfazigC5e-zxg', u'LP0bl3GKToABt3lnpSvA2w', {u'weight': 1}),\n",
       " (u'ctXZwLnGALfazigC5e-zxg', u'whKpnugMnWTz3UjlrN71yg', {u'weight': 1}),\n",
       " (u'ctXZwLnGALfazigC5e-zxg', u'4itIWbWKDMXef7VzAQ41-g', {u'weight': 1}),\n",
       " (u'ctXZwLnGALfazigC5e-zxg', u'ED6n40WmZJm0AvsKkG7iaw', {u'weight': 1}),\n",
       " (u'Kybm9SJyOfEgDAXFUPRdCQ', u'e2j5nTQ2dnkB--pJakcUSA', {u'weight': 1}),\n",
       " (u'Kybm9SJyOfEgDAXFUPRdCQ', u'gVGu5DHk5iI4CQ2tX7ka6A', {u'weight': 1}),\n",
       " (u'Kybm9SJyOfEgDAXFUPRdCQ', u's9I4KMcrHKki44g_eTrYqQ', {u'weight': 1}),\n",
       " (u'Kybm9SJyOfEgDAXFUPRdCQ', u'GrA3BLjRjAKvFYwSqN_4cg', {u'weight': 1}),\n",
       " (u'Kybm9SJyOfEgDAXFUPRdCQ', u'1AdijTh6Y2mqe7IjIw5Kuw', {u'weight': 1}),\n",
       " (u'Kybm9SJyOfEgDAXFUPRdCQ', u'do-fO-EruYVP_FQPMNWmZg', {u'weight': 1}),\n",
       " (u'Kybm9SJyOfEgDAXFUPRdCQ', u'84aeLpM1g9tc79gERKxh5Q', {u'weight': 1}),\n",
       " (u'Kybm9SJyOfEgDAXFUPRdCQ', u'VhI6xyylcAxi0wOy2HOX3w', {u'weight': 1}),\n",
       " (u'Kybm9SJyOfEgDAXFUPRdCQ', u'Q9xJQu-9oCFZozVBjZDETw', {u'weight': 1}),\n",
       " (u'Kybm9SJyOfEgDAXFUPRdCQ', u'W6LTsXcY1R76M9EdeN0G6A', {u'weight': 2}),\n",
       " (u'Kybm9SJyOfEgDAXFUPRdCQ', u'1K50PvXa6l5PBXZXhzkB-g', {u'weight': 1}),\n",
       " (u'NzWLMPvbEval0OVg_YDn4g', u'PpkKVodWC0sdn74TbHQLzA', {u'weight': 2}),\n",
       " (u'NzWLMPvbEval0OVg_YDn4g', u'S3HZF5aANmhZoMkFkPMdqQ', {u'weight': 3}),\n",
       " (u'NzWLMPvbEval0OVg_YDn4g', u'Y--yRCncNlQCNULP8I5h6Q', {u'weight': 1}),\n",
       " (u'NzWLMPvbEval0OVg_YDn4g', u'UIbW6xWBczva9e4fcuV8JA', {u'weight': 1}),\n",
       " (u'NzWLMPvbEval0OVg_YDn4g', u'zRIG4znrwIOp8mG4ZxtVMQ', {u'weight': 1}),\n",
       " (u'NzWLMPvbEval0OVg_YDn4g', u'7ewE_dDxjXNppOj0EhhMIQ', {u'weight': 2}),\n",
       " (u'NzWLMPvbEval0OVg_YDn4g', u'suHNFmm634ZzPzfOggxRqw', {u'weight': 2}),\n",
       " (u'NzWLMPvbEval0OVg_YDn4g', u'9P_5UGjc3t3Bo_yJ5A7iAQ', {u'weight': 2}),\n",
       " (u'NzWLMPvbEval0OVg_YDn4g', u'ZEFqUMG4Az9TT-MXNlpJLw', {u'weight': 1}),\n",
       " (u'NzWLMPvbEval0OVg_YDn4g', u'ctXZwLnGALfazigC5e-zxg', {u'weight': 1}),\n",
       " (u'NzWLMPvbEval0OVg_YDn4g', u'kxRnhpUgooticN9DimR-CQ', {u'weight': 1}),\n",
       " (u'NzWLMPvbEval0OVg_YDn4g', u'-_1ctLaz3jhPYc12hKXsEQ', {u'weight': 2}),\n",
       " (u'NzWLMPvbEval0OVg_YDn4g', u'A6bPFcUjuuayRBoyybedDQ', {u'weight': 2}),\n",
       " (u'NzWLMPvbEval0OVg_YDn4g', u'tm_HvdZmUMGht1-xjGQF7Q', {u'weight': 3}),\n",
       " (u'NzWLMPvbEval0OVg_YDn4g', u'VhI6xyylcAxi0wOy2HOX3w', {u'weight': 2}),\n",
       " (u'NzWLMPvbEval0OVg_YDn4g', u'hBZ4tkZJqkLZRf215I-WDg', {u'weight': 2}),\n",
       " (u'NzWLMPvbEval0OVg_YDn4g', u'eFxX1tSNLmVkAP9kNv2--Q', {u'weight': 4}),\n",
       " (u'NzWLMPvbEval0OVg_YDn4g', u'CBGBJQXWeHwRcwsvU7FNVg', {u'weight': 1}),\n",
       " (u'NzWLMPvbEval0OVg_YDn4g', u'3IOQbdQ2z7TKWOnBjAnkew', {u'weight': 1}),\n",
       " (u'NzWLMPvbEval0OVg_YDn4g', u'TyIJUHF_psqpjkL7OerTHQ', {u'weight': 2}),\n",
       " (u'NzWLMPvbEval0OVg_YDn4g', u'0SuIvO9hz82-tuKEe2z35A', {u'weight': 1}),\n",
       " (u'NzWLMPvbEval0OVg_YDn4g', u'tha1bsWQNbDTnHYMk48vGA', {u'weight': 1}),\n",
       " (u'NzWLMPvbEval0OVg_YDn4g', u'ts7EG6Zv2zdMDg29nyqGfA', {u'weight': 2}),\n",
       " (u'NzWLMPvbEval0OVg_YDn4g', u'Uqr3GTH8tdxnRV2CDKlLEw', {u'weight': 1}),\n",
       " (u'NzWLMPvbEval0OVg_YDn4g', u's9I4KMcrHKki44g_eTrYqQ', {u'weight': 2}),\n",
       " (u'NzWLMPvbEval0OVg_YDn4g', u'd8y98FiNtI8OQFAp2tvoKg', {u'weight': 1}),\n",
       " (u'NzWLMPvbEval0OVg_YDn4g', u'LP0bl3GKToABt3lnpSvA2w', {u'weight': 1}),\n",
       " (u'NzWLMPvbEval0OVg_YDn4g', u'4itIWbWKDMXef7VzAQ41-g', {u'weight': 3}),\n",
       " (u'NzWLMPvbEval0OVg_YDn4g', u'M9H6p4hm2utu1G0ipV80Ug', {u'weight': 2}),\n",
       " (u'NzWLMPvbEval0OVg_YDn4g', u'ED6n40WmZJm0AvsKkG7iaw', {u'weight': 1}),\n",
       " (u'NzWLMPvbEval0OVg_YDn4g', u'cZjX4HsWB8mTLHI4uhbB-g', {u'weight': 1}),\n",
       " (u'NzWLMPvbEval0OVg_YDn4g', u'qlYjP4O4BJXE9XaF9MqTYA', {u'weight': 2}),\n",
       " (u'NzWLMPvbEval0OVg_YDn4g', u'x22P6OJwAqVNLeJONJVB4Q', {u'weight': 1}),\n",
       " (u'NzWLMPvbEval0OVg_YDn4g', u'MaJb-XiZ263_SSmneBmgYA', {u'weight': 1}),\n",
       " (u'NzWLMPvbEval0OVg_YDn4g', u'DK2gGNdN3ihOu_uwt2AgLg', {u'weight': 1}),\n",
       " (u'NzWLMPvbEval0OVg_YDn4g', u'M-TwsqjrGVH9-qyw2KcvdQ', {u'weight': 1}),\n",
       " (u'NzWLMPvbEval0OVg_YDn4g', u'lpZtfD-vCqUER1yGKEvUPw', {u'weight': 4}),\n",
       " (u'NzWLMPvbEval0OVg_YDn4g', u'FHofjlnlxqdvSSkQ6UkNZw', {u'weight': 1}),\n",
       " (u'NzWLMPvbEval0OVg_YDn4g', u'Ul93T_U5jDh1FIIpiiTxuw', {u'weight': 2}),\n",
       " (u'-_1ctLaz3jhPYc12hKXsEQ', u'LQ7mat58GGb_9wyPHinrsA', {u'weight': 1}),\n",
       " (u'-_1ctLaz3jhPYc12hKXsEQ', u'Ul93T_U5jDh1FIIpiiTxuw', {u'weight': 1}),\n",
       " (u'-_1ctLaz3jhPYc12hKXsEQ', u'7ewE_dDxjXNppOj0EhhMIQ', {u'weight': 2}),\n",
       " (u'-_1ctLaz3jhPYc12hKXsEQ', u'AUDvPJ5LxB5m_oMiFl6Xww', {u'weight': 1}),\n",
       " (u'-_1ctLaz3jhPYc12hKXsEQ', u'ctXZwLnGALfazigC5e-zxg', {u'weight': 1}),\n",
       " (u'-_1ctLaz3jhPYc12hKXsEQ', u'lpZtfD-vCqUER1yGKEvUPw', {u'weight': 4}),\n",
       " (u'-_1ctLaz3jhPYc12hKXsEQ', u'NzWLMPvbEval0OVg_YDn4g', {u'weight': 3}),\n",
       " (u'-_1ctLaz3jhPYc12hKXsEQ', u'MOaDlqJ6wWvnJN4wGqreqw', {u'weight': 1}),\n",
       " (u'-_1ctLaz3jhPYc12hKXsEQ', u'hBZ4tkZJqkLZRf215I-WDg', {u'weight': 1}),\n",
       " (u'-_1ctLaz3jhPYc12hKXsEQ', u'1K50PvXa6l5PBXZXhzkB-g', {u'weight': 2}),\n",
       " (u'-_1ctLaz3jhPYc12hKXsEQ', u'eFxX1tSNLmVkAP9kNv2--Q', {u'weight': 3}),\n",
       " (u'-_1ctLaz3jhPYc12hKXsEQ', u'TyIJUHF_psqpjkL7OerTHQ', {u'weight': 1}),\n",
       " (u'-_1ctLaz3jhPYc12hKXsEQ', u'ts7EG6Zv2zdMDg29nyqGfA', {u'weight': 1}),\n",
       " (u'-_1ctLaz3jhPYc12hKXsEQ', u's9I4KMcrHKki44g_eTrYqQ', {u'weight': 3}),\n",
       " (u'-_1ctLaz3jhPYc12hKXsEQ', u'whKpnugMnWTz3UjlrN71yg', {u'weight': 1}),\n",
       " (u'-_1ctLaz3jhPYc12hKXsEQ', u'ED6n40WmZJm0AvsKkG7iaw', {u'weight': 1}),\n",
       " (u'-_1ctLaz3jhPYc12hKXsEQ', u'aZjcmboRYOYyfmD6AdLesQ', {u'weight': 1}),\n",
       " (u'-_1ctLaz3jhPYc12hKXsEQ', u'do-fO-EruYVP_FQPMNWmZg', {u'weight': 2}),\n",
       " (u'-_1ctLaz3jhPYc12hKXsEQ', u'DK2gGNdN3ihOu_uwt2AgLg', {u'weight': 1}),\n",
       " (u'-_1ctLaz3jhPYc12hKXsEQ', u'A6bPFcUjuuayRBoyybedDQ', {u'weight': 1}),\n",
       " (u'-_1ctLaz3jhPYc12hKXsEQ', u'dUNaeTHu9JeWOheE1NYGLw', {u'weight': 1}),\n",
       " (u'-_1ctLaz3jhPYc12hKXsEQ', u'FHofjlnlxqdvSSkQ6UkNZw', {u'weight': 2}),\n",
       " (u'-_1ctLaz3jhPYc12hKXsEQ', u'Q9xJQu-9oCFZozVBjZDETw', {u'weight': 2}),\n",
       " (u'-_1ctLaz3jhPYc12hKXsEQ', u'GtcVim7Y43ALraAb3ritmQ', {u'weight': 1}),\n",
       " (u'fU3VCs--DRhgN2rtN5puEw', u'YlFBJ36KW41zERAxB-TBgQ', {u'weight': 1}),\n",
       " (u'fU3VCs--DRhgN2rtN5puEw', u't5Ghdu61tkh3Rz_8z96m8w', {u'weight': 1}),\n",
       " (u'UmCAhWcU_abaaESenKUiLw', u'CEK-xEgxpR81XBLtl2R7-Q', {u'weight': 1}),\n",
       " (u'UmCAhWcU_abaaESenKUiLw', u'tFLi8-M6MOOrY5CsvWHRMA', {u'weight': 1}),\n",
       " (u'UmCAhWcU_abaaESenKUiLw', u'ts7EG6Zv2zdMDg29nyqGfA', {u'weight': 1}),\n",
       " (u'UmCAhWcU_abaaESenKUiLw', u'do-fO-EruYVP_FQPMNWmZg', {u'weight': 1}),\n",
       " (u'UmCAhWcU_abaaESenKUiLw', u'MOaDlqJ6wWvnJN4wGqreqw', {u'weight': 1}),\n",
       " (u'UmCAhWcU_abaaESenKUiLw', u'OyzjdoEb6xJcFNNjnpQVxw', {u'weight': 1}),\n",
       " (u'UmCAhWcU_abaaESenKUiLw', u'H2NIEAD71yF8T5Pt0XigmQ', {u'weight': 1}),\n",
       " (u'UmCAhWcU_abaaESenKUiLw', u'w1P9cvIVTxcLZvU5tXIhRw', {u'weight': 1}),\n",
       " (u'UmCAhWcU_abaaESenKUiLw', u'pFBvazjt-N__9xMXKFWNxw', {u'weight': 1}),\n",
       " (u'8ED8BPCXKXZnGsVMyl5Bhw', u'A6bPFcUjuuayRBoyybedDQ', {u'weight': 1}),\n",
       " (u'8ED8BPCXKXZnGsVMyl5Bhw', u'lpZtfD-vCqUER1yGKEvUPw', {u'weight': 1}),\n",
       " (u'8ED8BPCXKXZnGsVMyl5Bhw', u'ED6n40WmZJm0AvsKkG7iaw', {u'weight': 1}),\n",
       " (u'8ED8BPCXKXZnGsVMyl5Bhw', u'7ewE_dDxjXNppOj0EhhMIQ', {u'weight': 1}),\n",
       " (u'8ED8BPCXKXZnGsVMyl5Bhw', u'7gAKXYdqYu5LfmpAHVSHVA', {u'weight': 1}),\n",
       " (u'1K50PvXa6l5PBXZXhzkB-g', u'uBUGZtTxmaG-8YpUWpU5_Q', {u'weight': 1}),\n",
       " (u'1K50PvXa6l5PBXZXhzkB-g', u'aZjcmboRYOYyfmD6AdLesQ', {u'weight': 2}),\n",
       " (u'1K50PvXa6l5PBXZXhzkB-g', u'nf4MYH5u_9lImwJLbLnPKw', {u'weight': 1}),\n",
       " (u'1K50PvXa6l5PBXZXhzkB-g', u'EvzQ5xBQhAx_s9HyQ2swYA', {u'weight': 1}),\n",
       " (u'1K50PvXa6l5PBXZXhzkB-g', u'eFxX1tSNLmVkAP9kNv2--Q', {u'weight': 1}),\n",
       " (u'1K50PvXa6l5PBXZXhzkB-g', u'VhI6xyylcAxi0wOy2HOX3w', {u'weight': 1}),\n",
       " (u'1K50PvXa6l5PBXZXhzkB-g', u's9I4KMcrHKki44g_eTrYqQ', {u'weight': 1}),\n",
       " (u'1K50PvXa6l5PBXZXhzkB-g', u'LP0bl3GKToABt3lnpSvA2w', {u'weight': 1}),\n",
       " (u'1K50PvXa6l5PBXZXhzkB-g', u'glzRad3_l42hALvjB9p97w', {u'weight': 1}),\n",
       " (u'1K50PvXa6l5PBXZXhzkB-g', u'Hubnerc_hJyF-0vFQ-Jsng', {u'weight': 1}),\n",
       " (u'1K50PvXa6l5PBXZXhzkB-g', u'tTKBoD9Eb2KrXRHg8OpB2g', {u'weight': 1}),\n",
       " (u'1K50PvXa6l5PBXZXhzkB-g', u'Q9xJQu-9oCFZozVBjZDETw', {u'weight': 1}),\n",
       " (u'1K50PvXa6l5PBXZXhzkB-g', u'T7eyOatIKKQyW9WopkKI9w', {u'weight': 1}),\n",
       " (u'1K50PvXa6l5PBXZXhzkB-g', u'dUNaeTHu9JeWOheE1NYGLw', {u'weight': 1}),\n",
       " (u'CBGBJQXWeHwRcwsvU7FNVg', u'M-TwsqjrGVH9-qyw2KcvdQ', {u'weight': 1}),\n",
       " (u'CBGBJQXWeHwRcwsvU7FNVg', u'gD2FceWxl711U2IJokXBAQ', {u'weight': 1}),\n",
       " (u'CBGBJQXWeHwRcwsvU7FNVg', u'iHJvo9405LGI3VrWRoC25Q', {u'weight': 1}),\n",
       " (u'CBGBJQXWeHwRcwsvU7FNVg', u'ey-joFTK0R8T2xrYFx4FKQ', {u'weight': 1}),\n",
       " (u'CBGBJQXWeHwRcwsvU7FNVg', u'cr7KWf32wFdD4kYu2ovSwg', {u'weight': 1}),\n",
       " (u'FHofjlnlxqdvSSkQ6UkNZw', u'do-fO-EruYVP_FQPMNWmZg', {u'weight': 1}),\n",
       " (u'FHofjlnlxqdvSSkQ6UkNZw', u'lpZtfD-vCqUER1yGKEvUPw', {u'weight': 1}),\n",
       " (u'FHofjlnlxqdvSSkQ6UkNZw', u'VInyj5x9Sqmdt_GHEcpFhA', {u'weight': 1}),\n",
       " (u'FHofjlnlxqdvSSkQ6UkNZw', u'OBS3D3WRVNT9tHhdyS0D6Q', {u'weight': 1}),\n",
       " (u'ZEFqUMG4Az9TT-MXNlpJLw', u'do-fO-EruYVP_FQPMNWmZg', {u'weight': 1}),\n",
       " (u'tha1bsWQNbDTnHYMk48vGA', u'fW0eVXKzwg8Bgbl2AJDEjg', {u'weight': 1}),\n",
       " (u'tha1bsWQNbDTnHYMk48vGA', u'glzRad3_l42hALvjB9p97w', {u'weight': 1}),\n",
       " (u'tha1bsWQNbDTnHYMk48vGA', u'n9OkjFjUBIQ5zze7nLuQog', {u'weight': 1}),\n",
       " (u'Uqr3GTH8tdxnRV2CDKlLEw', u'hEFiiqzLHkqNSePBD2jnqA', {u'weight': 1}),\n",
       " (u'Uqr3GTH8tdxnRV2CDKlLEw', u'0SuIvO9hz82-tuKEe2z35A', {u'weight': 1}),\n",
       " (u'Uqr3GTH8tdxnRV2CDKlLEw', u'pNMUZiL-TaQojaEygESgwQ', {u'weight': 1}),\n",
       " (u'gQlLuTUG49u3z7bI1ySKmw', u'aZjcmboRYOYyfmD6AdLesQ', {u'weight': 1}),\n",
       " (u'gQlLuTUG49u3z7bI1ySKmw', u'7ewE_dDxjXNppOj0EhhMIQ', {u'weight': 2}),\n",
       " (u'gQlLuTUG49u3z7bI1ySKmw', u'ts7EG6Zv2zdMDg29nyqGfA', {u'weight': 1}),\n",
       " (u'gQlLuTUG49u3z7bI1ySKmw', u'zvT0EHoB_aDE4MnoZly0ew', {u'weight': 1}),\n",
       " (u'gQlLuTUG49u3z7bI1ySKmw', u'UIbW6xWBczva9e4fcuV8JA', {u'weight': 1}),\n",
       " (u'EvzQ5xBQhAx_s9HyQ2swYA', u'E_6E0U8d_L4uxaURifx0dQ', {u'weight': 1}),\n",
       " (u'whKpnugMnWTz3UjlrN71yg', u'PpkKVodWC0sdn74TbHQLzA', {u'weight': 1}),\n",
       " (u'whKpnugMnWTz3UjlrN71yg', u'ED6n40WmZJm0AvsKkG7iaw', {u'weight': 1}),\n",
       " (u'whKpnugMnWTz3UjlrN71yg', u'x22P6OJwAqVNLeJONJVB4Q', {u'weight': 1}),\n",
       " (u'whKpnugMnWTz3UjlrN71yg', u'3IOQbdQ2z7TKWOnBjAnkew', {u'weight': 1}),\n",
       " (u'whKpnugMnWTz3UjlrN71yg', u'7ewE_dDxjXNppOj0EhhMIQ', {u'weight': 3}),\n",
       " (u'whKpnugMnWTz3UjlrN71yg', u'kxRnhpUgooticN9DimR-CQ', {u'weight': 1}),\n",
       " (u'whKpnugMnWTz3UjlrN71yg', u'M-TwsqjrGVH9-qyw2KcvdQ', {u'weight': 1}),\n",
       " (u'whKpnugMnWTz3UjlrN71yg', u'lpZtfD-vCqUER1yGKEvUPw', {u'weight': 11}),\n",
       " (u'whKpnugMnWTz3UjlrN71yg', u'YJ5_YCrzLX5Laav13qG0qw', {u'weight': 1}),\n",
       " (u'whKpnugMnWTz3UjlrN71yg', u'Ul93T_U5jDh1FIIpiiTxuw', {u'weight': 2}),\n",
       " (u'whKpnugMnWTz3UjlrN71yg', u'fU3VCs--DRhgN2rtN5puEw', {u'weight': 1}),\n",
       " (u'whKpnugMnWTz3UjlrN71yg', u'VInyj5x9Sqmdt_GHEcpFhA', {u'weight': 1}),\n",
       " (u'whKpnugMnWTz3UjlrN71yg', u'emoQY8neOSJm-xwqh4xVfQ', {u'weight': 1}),\n",
       " (u'whKpnugMnWTz3UjlrN71yg', u'FHSOR7FlOJOh6RjejrDwRQ', {u'weight': 1}),\n",
       " (u'whKpnugMnWTz3UjlrN71yg', u'M9H6p4hm2utu1G0ipV80Ug', {u'weight': 1}),\n",
       " (u'pFBvazjt-N__9xMXKFWNxw', u'cr7KWf32wFdD4kYu2ovSwg', {u'weight': 1}),\n",
       " (u'iHJvo9405LGI3VrWRoC25Q', u'Uqr3GTH8tdxnRV2CDKlLEw', {u'weight': 1}),\n",
       " (u'iHJvo9405LGI3VrWRoC25Q', u'UmCAhWcU_abaaESenKUiLw', {u'weight': 1}),\n",
       " (u'qlYjP4O4BJXE9XaF9MqTYA', u'lpyyEAwuU9zo7v3num81uA', {u'weight': 1}),\n",
       " (u'qlYjP4O4BJXE9XaF9MqTYA', u'ED6n40WmZJm0AvsKkG7iaw', {u'weight': 1}),\n",
       " (u'qlYjP4O4BJXE9XaF9MqTYA', u'x22P6OJwAqVNLeJONJVB4Q', {u'weight': 1}),\n",
       " (u'qlYjP4O4BJXE9XaF9MqTYA', u'TyIJUHF_psqpjkL7OerTHQ', {u'weight': 1}),\n",
       " (u'qlYjP4O4BJXE9XaF9MqTYA', u'1AdijTh6Y2mqe7IjIw5Kuw', {u'weight': 1}),\n",
       " (u'qlYjP4O4BJXE9XaF9MqTYA', u'FHofjlnlxqdvSSkQ6UkNZw', {u'weight': 1}),\n",
       " (u'qlYjP4O4BJXE9XaF9MqTYA', u'DK2gGNdN3ihOu_uwt2AgLg', {u'weight': 1}),\n",
       " (u'do-fO-EruYVP_FQPMNWmZg', u'PpkKVodWC0sdn74TbHQLzA', {u'weight': 1}),\n",
       " (u'do-fO-EruYVP_FQPMNWmZg', u'CBGBJQXWeHwRcwsvU7FNVg', {u'weight': 1}),\n",
       " (u'do-fO-EruYVP_FQPMNWmZg', u'emoQY8neOSJm-xwqh4xVfQ', {u'weight': 1}),\n",
       " (u'do-fO-EruYVP_FQPMNWmZg', u'0_Xyynwz0H3n1coC9Rnn6Q', {u'weight': 1}),\n",
       " (u'do-fO-EruYVP_FQPMNWmZg', u'6pK_c7oKlUO8o8dWbnO2jg', {u'weight': 1}),\n",
       " (u'do-fO-EruYVP_FQPMNWmZg', u's9I4KMcrHKki44g_eTrYqQ', {u'weight': 3}),\n",
       " (u'do-fO-EruYVP_FQPMNWmZg', u'GrA3BLjRjAKvFYwSqN_4cg', {u'weight': 1}),\n",
       " (u'do-fO-EruYVP_FQPMNWmZg', u'Y--yRCncNlQCNULP8I5h6Q', {u'weight': 2}),\n",
       " (u'do-fO-EruYVP_FQPMNWmZg', u'tFLi8-M6MOOrY5CsvWHRMA', {u'weight': 1}),\n",
       " (u'do-fO-EruYVP_FQPMNWmZg', u'pw-1VM51bTNOBqgoyXvVBA', {u'weight': 1}),\n",
       " (u'do-fO-EruYVP_FQPMNWmZg', u'XZuMpc6E9RqZX4HXtmlr-g', {u'weight': 1}),\n",
       " (u'do-fO-EruYVP_FQPMNWmZg', u'I9-qaI_sfTJzeG52WZMdkQ', {u'weight': 1}),\n",
       " (u'do-fO-EruYVP_FQPMNWmZg', u'NzWLMPvbEval0OVg_YDn4g', {u'weight': 1}),\n",
       " (u'do-fO-EruYVP_FQPMNWmZg', u'A6bPFcUjuuayRBoyybedDQ', {u'weight': 1}),\n",
       " (u'do-fO-EruYVP_FQPMNWmZg', u'1K50PvXa6l5PBXZXhzkB-g', {u'weight': 1}),\n",
       " (u'do-fO-EruYVP_FQPMNWmZg', u'FHofjlnlxqdvSSkQ6UkNZw', {u'weight': 1}),\n",
       " (u'do-fO-EruYVP_FQPMNWmZg', u'Q9xJQu-9oCFZozVBjZDETw', {u'weight': 1}),\n",
       " (u'do-fO-EruYVP_FQPMNWmZg', u'W6LTsXcY1R76M9EdeN0G6A', {u'weight': 1}),\n",
       " (u'do-fO-EruYVP_FQPMNWmZg', u'T7eyOatIKKQyW9WopkKI9w', {u'weight': 1}),\n",
       " (u'do-fO-EruYVP_FQPMNWmZg', u'uL7TIJ56Eb9Rx4nkt2ej_Q', {u'weight': 1}),\n",
       " (u'do-fO-EruYVP_FQPMNWmZg', u'ey-joFTK0R8T2xrYFx4FKQ', {u'weight': 1}),\n",
       " (u'iXpKKeeiXjBncJyDWbfhxw', u'VhI6xyylcAxi0wOy2HOX3w', {u'weight': 2}),\n",
       " (u'iXpKKeeiXjBncJyDWbfhxw', u'NzWLMPvbEval0OVg_YDn4g', {u'weight': 1}),\n",
       " (u'iXpKKeeiXjBncJyDWbfhxw', u'Uqr3GTH8tdxnRV2CDKlLEw', {u'weight': 1}),\n",
       " (u'iXpKKeeiXjBncJyDWbfhxw', u'hvJP2aqd91M4iFriEWGkIA', {u'weight': 1}),\n",
       " (u'iXpKKeeiXjBncJyDWbfhxw', u's9I4KMcrHKki44g_eTrYqQ', {u'weight': 1}),\n",
       " (u'hEFiiqzLHkqNSePBD2jnqA', u'eFxX1tSNLmVkAP9kNv2--Q', {u'weight': 1}),\n",
       " (u'hEFiiqzLHkqNSePBD2jnqA', u'A6bPFcUjuuayRBoyybedDQ', {u'weight': 1}),\n",
       " (u'hEFiiqzLHkqNSePBD2jnqA', u'pFBvazjt-N__9xMXKFWNxw', {u'weight': 1}),\n",
       " (u'H2NIEAD71yF8T5Pt0XigmQ', u's9I4KMcrHKki44g_eTrYqQ', {u'weight': 1}),\n",
       " (u'H2NIEAD71yF8T5Pt0XigmQ', u'-_1ctLaz3jhPYc12hKXsEQ', {u'weight': 1}),\n",
       " (u'H2NIEAD71yF8T5Pt0XigmQ', u'KaVnvEyEfc2YoP1T1g8-7g', {u'weight': 1}),\n",
       " (u'C1BIq8rhj0ZG2t3tV6pKFg', u'7ewE_dDxjXNppOj0EhhMIQ', {u'weight': 1}),\n",
       " (u'C1BIq8rhj0ZG2t3tV6pKFg', u'xqqAzP6zjtJbyegKR1Md9A', {u'weight': 1}),\n",
       " (u'FHSOR7FlOJOh6RjejrDwRQ', u'NzWLMPvbEval0OVg_YDn4g', {u'weight': 1}),\n",
       " (u'FHSOR7FlOJOh6RjejrDwRQ', u'lpZtfD-vCqUER1yGKEvUPw', {u'weight': 2}),\n",
       " (u'FHSOR7FlOJOh6RjejrDwRQ', u'FHofjlnlxqdvSSkQ6UkNZw', {u'weight': 1}),\n",
       " (u'FHSOR7FlOJOh6RjejrDwRQ', u'whKpnugMnWTz3UjlrN71yg', {u'weight': 2}),\n",
       " (u'FHSOR7FlOJOh6RjejrDwRQ', u'hBZ4tkZJqkLZRf215I-WDg', {u'weight': 1}),\n",
       " (u'FHSOR7FlOJOh6RjejrDwRQ', u'7ewE_dDxjXNppOj0EhhMIQ', {u'weight': 1}),\n",
       " (u'FHSOR7FlOJOh6RjejrDwRQ', u'8ED8BPCXKXZnGsVMyl5Bhw', {u'weight': 1}),\n",
       " (u'1TfhULbaN_9YIlcF-qEevw', u'do-fO-EruYVP_FQPMNWmZg', {u'weight': 1}),\n",
       " (u'1TfhULbaN_9YIlcF-qEevw', u'7ewE_dDxjXNppOj0EhhMIQ', {u'weight': 1}),\n",
       " (u'1TfhULbaN_9YIlcF-qEevw', u'zRIG4znrwIOp8mG4ZxtVMQ', {u'weight': 1}),\n",
       " (u'dUNaeTHu9JeWOheE1NYGLw', u'eFxX1tSNLmVkAP9kNv2--Q', {u'weight': 1}),\n",
       " (u'dUNaeTHu9JeWOheE1NYGLw', u'2yjdCTybzIeGjRIIrJz1vg', {u'weight': 1}),\n",
       " (u'dUNaeTHu9JeWOheE1NYGLw', u'r-Oo5ZG-zQE9P4C16W_rfA', {u'weight': 1}),\n",
       " (u'dUNaeTHu9JeWOheE1NYGLw', u'aZjcmboRYOYyfmD6AdLesQ', {u'weight': 1}),\n",
       " (u'dUNaeTHu9JeWOheE1NYGLw', u'6haxuID5ulEVALnOhs89XA', {u'weight': 1}),\n",
       " (u'dUNaeTHu9JeWOheE1NYGLw', u'E_6E0U8d_L4uxaURifx0dQ', {u'weight': 1}),\n",
       " (u'dUNaeTHu9JeWOheE1NYGLw', u'EvzQ5xBQhAx_s9HyQ2swYA', {u'weight': 1}),\n",
       " (u'dUNaeTHu9JeWOheE1NYGLw', u'W6LTsXcY1R76M9EdeN0G6A', {u'weight': 1}),\n",
       " (u'dUNaeTHu9JeWOheE1NYGLw', u'Ljb4mRGWCkR49NW7tjjyKQ', {u'weight': 1}),\n",
       " (u'S3HZF5aANmhZoMkFkPMdqQ', u's9I4KMcrHKki44g_eTrYqQ', {u'weight': 1}),\n",
       " (u'S3HZF5aANmhZoMkFkPMdqQ', u'YlFBJ36KW41zERAxB-TBgQ', {u'weight': 1}),\n",
       " (u'S3HZF5aANmhZoMkFkPMdqQ', u'ts7EG6Zv2zdMDg29nyqGfA', {u'weight': 3}),\n",
       " (u'koSslLJP5TsYqtZU7lKhVw', u'Ljb4mRGWCkR49NW7tjjyKQ', {u'weight': 1}),\n",
       " (u'koSslLJP5TsYqtZU7lKhVw', u'H2NIEAD71yF8T5Pt0XigmQ', {u'weight': 1}),\n",
       " (u'koSslLJP5TsYqtZU7lKhVw', u'W6LTsXcY1R76M9EdeN0G6A', {u'weight': 1}),\n",
       " (u'koSslLJP5TsYqtZU7lKhVw', u'glzRad3_l42hALvjB9p97w', {u'weight': 1}),\n",
       " (u'koSslLJP5TsYqtZU7lKhVw', u'H7Y33bDfjw8RvJKHIXU5Uw', {u'weight': 1}),\n",
       " (u'CEK-xEgxpR81XBLtl2R7-Q', u'_-S38fYbXdf2J9n7se30jg', {u'weight': 1}),\n",
       " (u'CEK-xEgxpR81XBLtl2R7-Q', u'Y--yRCncNlQCNULP8I5h6Q', {u'weight': 1}),\n",
       " (u'CEK-xEgxpR81XBLtl2R7-Q', u'd4-0-wEjkANvDuuq9SmmKw', {u'weight': 1}),\n",
       " (u'CEK-xEgxpR81XBLtl2R7-Q', u'Blw41bWMv-6HRVbNC91CSA', {u'weight': 1}),\n",
       " (u'CEK-xEgxpR81XBLtl2R7-Q', u'aZjcmboRYOYyfmD6AdLesQ', {u'weight': 1}),\n",
       " (u'Y--yRCncNlQCNULP8I5h6Q', u'qlYjP4O4BJXE9XaF9MqTYA', {u'weight': 1}),\n",
       " (u'Y--yRCncNlQCNULP8I5h6Q', u'do-fO-EruYVP_FQPMNWmZg', {u'weight': 1}),\n",
       " (u'Y--yRCncNlQCNULP8I5h6Q', u's9I4KMcrHKki44g_eTrYqQ', {u'weight': 2}),\n",
       " (u'Y--yRCncNlQCNULP8I5h6Q', u'tFLi8-M6MOOrY5CsvWHRMA', {u'weight': 2}),\n",
       " (u'Y--yRCncNlQCNULP8I5h6Q', u'ts7EG6Zv2zdMDg29nyqGfA', {u'weight': 1}),\n",
       " (u'Y--yRCncNlQCNULP8I5h6Q', u'NzWLMPvbEval0OVg_YDn4g', {u'weight': 1}),\n",
       " (u'Y--yRCncNlQCNULP8I5h6Q', u'Ul93T_U5jDh1FIIpiiTxuw', {u'weight': 1}),\n",
       " (u'Y--yRCncNlQCNULP8I5h6Q', u'VhI6xyylcAxi0wOy2HOX3w', {u'weight': 1}),\n",
       " (u'Y--yRCncNlQCNULP8I5h6Q', u'emoQY8neOSJm-xwqh4xVfQ', {u'weight': 1}),\n",
       " (u'Y--yRCncNlQCNULP8I5h6Q', u'pNMUZiL-TaQojaEygESgwQ', {u'weight': 1}),\n",
       " (u'tTKBoD9Eb2KrXRHg8OpB2g', u'eFxX1tSNLmVkAP9kNv2--Q', {u'weight': 1}),\n",
       " (u'tTKBoD9Eb2KrXRHg8OpB2g', u'1TfhULbaN_9YIlcF-qEevw', {u'weight': 1}),\n",
       " (u'gVGu5DHk5iI4CQ2tX7ka6A', u'NzWLMPvbEval0OVg_YDn4g', {u'weight': 1}),\n",
       " (u'gVGu5DHk5iI4CQ2tX7ka6A', u'W6LTsXcY1R76M9EdeN0G6A', {u'weight': 2}),\n",
       " (u'gVGu5DHk5iI4CQ2tX7ka6A', u'MOaDlqJ6wWvnJN4wGqreqw', {u'weight': 1}),\n",
       " (u'gVGu5DHk5iI4CQ2tX7ka6A', u'koSslLJP5TsYqtZU7lKhVw', {u'weight': 1}),\n",
       " (u'7ewE_dDxjXNppOj0EhhMIQ', u'PpkKVodWC0sdn74TbHQLzA', {u'weight': 1}),\n",
       " (u'7ewE_dDxjXNppOj0EhhMIQ', u'3IOQbdQ2z7TKWOnBjAnkew', {u'weight': 2}),\n",
       " (u'7ewE_dDxjXNppOj0EhhMIQ', u'TyIJUHF_psqpjkL7OerTHQ', {u'weight': 1}),\n",
       " (u'7ewE_dDxjXNppOj0EhhMIQ', u'zRIG4znrwIOp8mG4ZxtVMQ', {u'weight': 1}),\n",
       " (u'7ewE_dDxjXNppOj0EhhMIQ', u'NzWLMPvbEval0OVg_YDn4g', {u'weight': 1}),\n",
       " (u'7ewE_dDxjXNppOj0EhhMIQ', u'lpZtfD-vCqUER1yGKEvUPw', {u'weight': 3}),\n",
       " (u'7ewE_dDxjXNppOj0EhhMIQ', u'LP0bl3GKToABt3lnpSvA2w', {u'weight': 4}),\n",
       " (u'7ewE_dDxjXNppOj0EhhMIQ', u'Ul93T_U5jDh1FIIpiiTxuw', {u'weight': 1}),\n",
       " (u'7ewE_dDxjXNppOj0EhhMIQ', u'_-S38fYbXdf2J9n7se30jg', {u'weight': 2}),\n",
       " (u'7ewE_dDxjXNppOj0EhhMIQ', u'whKpnugMnWTz3UjlrN71yg', {u'weight': 1}),\n",
       " (u'7ewE_dDxjXNppOj0EhhMIQ', u'M9H6p4hm2utu1G0ipV80Ug', {u'weight': 1}),\n",
       " (u'7ewE_dDxjXNppOj0EhhMIQ', u'FHSOR7FlOJOh6RjejrDwRQ', {u'weight': 1}),\n",
       " (u'7ewE_dDxjXNppOj0EhhMIQ', u'8ED8BPCXKXZnGsVMyl5Bhw', {u'weight': 1}),\n",
       " (u'C4luJ-aeXW5J6_Yer6geRw', u'iHJvo9405LGI3VrWRoC25Q', {u'weight': 1}),\n",
       " (u'C4luJ-aeXW5J6_Yer6geRw', u'3GteArKIVRlJZjjRqqwgaQ', {u'weight': 1}),\n",
       " (u'C4luJ-aeXW5J6_Yer6geRw', u'DK2gGNdN3ihOu_uwt2AgLg', {u'weight': 1}),\n",
       " (u'C4luJ-aeXW5J6_Yer6geRw', u's9I4KMcrHKki44g_eTrYqQ', {u'weight': 1}),\n",
       " (u'C4luJ-aeXW5J6_Yer6geRw', u'Ul93T_U5jDh1FIIpiiTxuw', {u'weight': 1}),\n",
       " (u'C4luJ-aeXW5J6_Yer6geRw', u'n9OkjFjUBIQ5zze7nLuQog', {u'weight': 1}),\n",
       " (u'VFOwxpOWH9RZ3iMelkRd7A', u'6pK_c7oKlUO8o8dWbnO2jg', {u'weight': 2}),\n",
       " (u'VFOwxpOWH9RZ3iMelkRd7A', u'ts7EG6Zv2zdMDg29nyqGfA', {u'weight': 2}),\n",
       " (u'lpyyEAwuU9zo7v3num81uA', u'NzWLMPvbEval0OVg_YDn4g', {u'weight': 1}),\n",
       " (u'lpyyEAwuU9zo7v3num81uA', u'lpZtfD-vCqUER1yGKEvUPw', {u'weight': 1}),\n",
       " (u'lpyyEAwuU9zo7v3num81uA', u'1AdijTh6Y2mqe7IjIw5Kuw', {u'weight': 1}),\n",
       " (u'lpyyEAwuU9zo7v3num81uA', u'zRIG4znrwIOp8mG4ZxtVMQ', {u'weight': 1}),\n",
       " (u'lpyyEAwuU9zo7v3num81uA', u'PpkKVodWC0sdn74TbHQLzA', {u'weight': 1}),\n",
       " (u'hBZ4tkZJqkLZRf215I-WDg', u'2fZlVLQec7EGfP6gErNNkg', {u'weight': 1}),\n",
       " (u'hBZ4tkZJqkLZRf215I-WDg', u's9I4KMcrHKki44g_eTrYqQ', {u'weight': 1}),\n",
       " (u'hBZ4tkZJqkLZRf215I-WDg', u'-_1ctLaz3jhPYc12hKXsEQ', {u'weight': 1}),\n",
       " (u'hBZ4tkZJqkLZRf215I-WDg', u'7ewE_dDxjXNppOj0EhhMIQ', {u'weight': 1}),\n",
       " (u'hBZ4tkZJqkLZRf215I-WDg', u'ED6n40WmZJm0AvsKkG7iaw', {u'weight': 2}),\n",
       " (u'hBZ4tkZJqkLZRf215I-WDg', u'27aGnUabXY23OH5oilHe7g', {u'weight': 1}),\n",
       " (u'Z1FWaNNO8oxaHLYB9XhQDg', u'ltpnxJxM446ZEDrrzQ5anA', {u'weight': 1}),\n",
       " (u'Z1FWaNNO8oxaHLYB9XhQDg', u'xqqAzP6zjtJbyegKR1Md9A', {u'weight': 1}),\n",
       " (u'Z1FWaNNO8oxaHLYB9XhQDg', u'UCK9qP7EyBYWHZiN0ckdpw', {u'weight': 1}),\n",
       " (u'Z1FWaNNO8oxaHLYB9XhQDg', u'gD2IlYNxzvFOuRMGqH96lQ', {u'weight': 1}),\n",
       " (u'Z1FWaNNO8oxaHLYB9XhQDg', u'e2j5nTQ2dnkB--pJakcUSA', {u'weight': 1}),\n",
       " (u'Z1FWaNNO8oxaHLYB9XhQDg', u'C1BIq8rhj0ZG2t3tV6pKFg', {u'weight': 1}),\n",
       " (u'3GteArKIVRlJZjjRqqwgaQ', u'PpkKVodWC0sdn74TbHQLzA', {u'weight': 1}),\n",
       " (u'3GteArKIVRlJZjjRqqwgaQ', u'_-S38fYbXdf2J9n7se30jg', {u'weight': 1}),\n",
       " (u'3GteArKIVRlJZjjRqqwgaQ', u'Ul93T_U5jDh1FIIpiiTxuw', {u'weight': 4}),\n",
       " (u'3GteArKIVRlJZjjRqqwgaQ', u'C4luJ-aeXW5J6_Yer6geRw', {u'weight': 1}),\n",
       " (u'3GteArKIVRlJZjjRqqwgaQ', u'suHNFmm634ZzPzfOggxRqw', {u'weight': 1}),\n",
       " (u'3GteArKIVRlJZjjRqqwgaQ', u'0_Xyynwz0H3n1coC9Rnn6Q', {u'weight': 1}),\n",
       " (u'3GteArKIVRlJZjjRqqwgaQ', u'gD2FceWxl711U2IJokXBAQ', {u'weight': 1}),\n",
       " (u'3GteArKIVRlJZjjRqqwgaQ', u'NzWLMPvbEval0OVg_YDn4g', {u'weight': 2}),\n",
       " (u'3GteArKIVRlJZjjRqqwgaQ', u'-_1ctLaz3jhPYc12hKXsEQ', {u'weight': 2}),\n",
       " (u'3GteArKIVRlJZjjRqqwgaQ', u'zvT0EHoB_aDE4MnoZly0ew', {u'weight': 1}),\n",
       " (u'3GteArKIVRlJZjjRqqwgaQ', u'Uqr3GTH8tdxnRV2CDKlLEw', {u'weight': 1}),\n",
       " (u'3GteArKIVRlJZjjRqqwgaQ', u's9I4KMcrHKki44g_eTrYqQ', {u'weight': 4}),\n",
       " (u'3GteArKIVRlJZjjRqqwgaQ', u'yR04yrpjBf1BH5mTnG54ZQ', {u'weight': 1}),\n",
       " (u'3GteArKIVRlJZjjRqqwgaQ', u'LP0bl3GKToABt3lnpSvA2w', {u'weight': 1}),\n",
       " (u'3GteArKIVRlJZjjRqqwgaQ', u'iHJvo9405LGI3VrWRoC25Q', {u'weight': 1}),\n",
       " (u'3GteArKIVRlJZjjRqqwgaQ', u't5Ghdu61tkh3Rz_8z96m8w', {u'weight': 1}),\n",
       " (u'3GteArKIVRlJZjjRqqwgaQ', u'YlFBJ36KW41zERAxB-TBgQ', {u'weight': 1}),\n",
       " (u'3GteArKIVRlJZjjRqqwgaQ', u'tFLi8-M6MOOrY5CsvWHRMA', {u'weight': 1}),\n",
       " (u'3GteArKIVRlJZjjRqqwgaQ', u'H7Y33bDfjw8RvJKHIXU5Uw', {u'weight': 1}),\n",
       " (u'3GteArKIVRlJZjjRqqwgaQ', u'M-TwsqjrGVH9-qyw2KcvdQ', {u'weight': 1}),\n",
       " (u'3GteArKIVRlJZjjRqqwgaQ', u'A6bPFcUjuuayRBoyybedDQ', {u'weight': 1}),\n",
       " (u'3GteArKIVRlJZjjRqqwgaQ', u'dUNaeTHu9JeWOheE1NYGLw', {u'weight': 1}),\n",
       " (u'3GteArKIVRlJZjjRqqwgaQ', u'w1P9cvIVTxcLZvU5tXIhRw', {u'weight': 2}),\n",
       " (u'3GteArKIVRlJZjjRqqwgaQ', u'GtcVim7Y43ALraAb3ritmQ', {u'weight': 1}),\n",
       " (u'LP0bl3GKToABt3lnpSvA2w', u'PpkKVodWC0sdn74TbHQLzA', {u'weight': 2}),\n",
       " (u'LP0bl3GKToABt3lnpSvA2w', u'Ul93T_U5jDh1FIIpiiTxuw', {u'weight': 1}),\n",
       " (u'LP0bl3GKToABt3lnpSvA2w', u'7ewE_dDxjXNppOj0EhhMIQ', {u'weight': 3}),\n",
       " (u'LP0bl3GKToABt3lnpSvA2w', u'DK2gGNdN3ihOu_uwt2AgLg', {u'weight': 1}),\n",
       " (u'LP0bl3GKToABt3lnpSvA2w', u'3GteArKIVRlJZjjRqqwgaQ', {u'weight': 1}),\n",
       " (u'LP0bl3GKToABt3lnpSvA2w', u'A6bPFcUjuuayRBoyybedDQ', {u'weight': 4}),\n",
       " (u'LP0bl3GKToABt3lnpSvA2w', u'NzWLMPvbEval0OVg_YDn4g', {u'weight': 4}),\n",
       " (u'LP0bl3GKToABt3lnpSvA2w', u'-_1ctLaz3jhPYc12hKXsEQ', {u'weight': 2}),\n",
       " (u'LP0bl3GKToABt3lnpSvA2w', u'tm_HvdZmUMGht1-xjGQF7Q', {u'weight': 1}),\n",
       " (u'LP0bl3GKToABt3lnpSvA2w', u'W6LTsXcY1R76M9EdeN0G6A', {u'weight': 1}),\n",
       " (u'LP0bl3GKToABt3lnpSvA2w', u'eFxX1tSNLmVkAP9kNv2--Q', {u'weight': 2}),\n",
       " (u'LP0bl3GKToABt3lnpSvA2w', u'0SuIvO9hz82-tuKEe2z35A', {u'weight': 1}),\n",
       " (u'LP0bl3GKToABt3lnpSvA2w', u'd8y98FiNtI8OQFAp2tvoKg', {u'weight': 1}),\n",
       " (u'LP0bl3GKToABt3lnpSvA2w', u'ts7EG6Zv2zdMDg29nyqGfA', {u'weight': 5}),\n",
       " (u'LP0bl3GKToABt3lnpSvA2w', u's9I4KMcrHKki44g_eTrYqQ', {u'weight': 2}),\n",
       " (u'LP0bl3GKToABt3lnpSvA2w', u'whKpnugMnWTz3UjlrN71yg', {u'weight': 3}),\n",
       " (u'LP0bl3GKToABt3lnpSvA2w', u'M9H6p4hm2utu1G0ipV80Ug', {u'weight': 1}),\n",
       " (u'LP0bl3GKToABt3lnpSvA2w', u'ED6n40WmZJm0AvsKkG7iaw', {u'weight': 1}),\n",
       " (u'LP0bl3GKToABt3lnpSvA2w', u'UmCAhWcU_abaaESenKUiLw', {u'weight': 1}),\n",
       " (u'LP0bl3GKToABt3lnpSvA2w', u'1AdijTh6Y2mqe7IjIw5Kuw', {u'weight': 1}),\n",
       " (u'LP0bl3GKToABt3lnpSvA2w', u'M-TwsqjrGVH9-qyw2KcvdQ', {u'weight': 1}),\n",
       " (u'LP0bl3GKToABt3lnpSvA2w', u'lpZtfD-vCqUER1yGKEvUPw', {u'weight': 4}),\n",
       " (u'LP0bl3GKToABt3lnpSvA2w', u'YJ5_YCrzLX5Laav13qG0qw', {u'weight': 1}),\n",
       " (u'LP0bl3GKToABt3lnpSvA2w', u'w1P9cvIVTxcLZvU5tXIhRw', {u'weight': 1}),\n",
       " (u'tm_HvdZmUMGht1-xjGQF7Q', u'LP0bl3GKToABt3lnpSvA2w', {u'weight': 2}),\n",
       " (u'tm_HvdZmUMGht1-xjGQF7Q', u'NzWLMPvbEval0OVg_YDn4g', {u'weight': 1}),\n",
       " (u'tm_HvdZmUMGht1-xjGQF7Q', u'A6bPFcUjuuayRBoyybedDQ', {u'weight': 1}),\n",
       " (u'tm_HvdZmUMGht1-xjGQF7Q', u's9I4KMcrHKki44g_eTrYqQ', {u'weight': 1}),\n",
       " (u'tm_HvdZmUMGht1-xjGQF7Q', u'lpZtfD-vCqUER1yGKEvUPw', {u'weight': 2}),\n",
       " (u'tm_HvdZmUMGht1-xjGQF7Q', u'-_1ctLaz3jhPYc12hKXsEQ', {u'weight': 1}),\n",
       " (u'tm_HvdZmUMGht1-xjGQF7Q', u'fU3VCs--DRhgN2rtN5puEw', {u'weight': 1}),\n",
       " (u'tm_HvdZmUMGht1-xjGQF7Q', u'whKpnugMnWTz3UjlrN71yg', {u'weight': 4}),\n",
       " (u'tm_HvdZmUMGht1-xjGQF7Q', u'M9H6p4hm2utu1G0ipV80Ug', {u'weight': 1}),\n",
       " (u'tm_HvdZmUMGht1-xjGQF7Q', u'ED6n40WmZJm0AvsKkG7iaw', {u'weight': 1}),\n",
       " (u'zvT0EHoB_aDE4MnoZly0ew', u'gD2FceWxl711U2IJokXBAQ', {u'weight': 1}),\n",
       " (u'zvT0EHoB_aDE4MnoZly0ew', u'A6bPFcUjuuayRBoyybedDQ', {u'weight': 2}),\n",
       " (u'zvT0EHoB_aDE4MnoZly0ew', u'Ul93T_U5jDh1FIIpiiTxuw', {u'weight': 1}),\n",
       " (u'zvT0EHoB_aDE4MnoZly0ew', u'tm_HvdZmUMGht1-xjGQF7Q', {u'weight': 1}),\n",
       " (u'T7eyOatIKKQyW9WopkKI9w', u'VhI6xyylcAxi0wOy2HOX3w', {u'weight': 1}),\n",
       " (u'T7eyOatIKKQyW9WopkKI9w', u'3JHEVHhEi-44gezfq7AdGA', {u'weight': 2}),\n",
       " (u'T7eyOatIKKQyW9WopkKI9w', u'Blw41bWMv-6HRVbNC91CSA', {u'weight': 1}),\n",
       " (u'eFxX1tSNLmVkAP9kNv2--Q', u'PpkKVodWC0sdn74TbHQLzA', {u'weight': 1}),\n",
       " (u'eFxX1tSNLmVkAP9kNv2--Q', u'6haxuID5ulEVALnOhs89XA', {u'weight': 1}),\n",
       " (u'eFxX1tSNLmVkAP9kNv2--Q', u'GrA3BLjRjAKvFYwSqN_4cg', {u'weight': 1}),\n",
       " (u'eFxX1tSNLmVkAP9kNv2--Q', u'8certomS2xullsIXzLzL8A', {u'weight': 1}),\n",
       " (u'eFxX1tSNLmVkAP9kNv2--Q', u'AUDvPJ5LxB5m_oMiFl6Xww', {u'weight': 1}),\n",
       " (u'eFxX1tSNLmVkAP9kNv2--Q', u'GRiX5F5zgJiQQ1NyV3B6Cg', {u'weight': 1}),\n",
       " (u'eFxX1tSNLmVkAP9kNv2--Q', u'NzWLMPvbEval0OVg_YDn4g', {u'weight': 1}),\n",
       " (u'eFxX1tSNLmVkAP9kNv2--Q', u'cr7KWf32wFdD4kYu2ovSwg', {u'weight': 1}),\n",
       " (u'eFxX1tSNLmVkAP9kNv2--Q', u'Kybm9SJyOfEgDAXFUPRdCQ', {u'weight': 1}),\n",
       " (u'eFxX1tSNLmVkAP9kNv2--Q', u'OBS3D3WRVNT9tHhdyS0D6Q', {u'weight': 2}),\n",
       " (u'eFxX1tSNLmVkAP9kNv2--Q', u'LP0bl3GKToABt3lnpSvA2w', {u'weight': 1}),\n",
       " (u'eFxX1tSNLmVkAP9kNv2--Q', u'4itIWbWKDMXef7VzAQ41-g', {u'weight': 1}),\n",
       " (u'eFxX1tSNLmVkAP9kNv2--Q', u'W6LTsXcY1R76M9EdeN0G6A', {u'weight': 1}),\n",
       " (u'eFxX1tSNLmVkAP9kNv2--Q', u'I9-qaI_sfTJzeG52WZMdkQ', {u'weight': 1}),\n",
       " (u'eFxX1tSNLmVkAP9kNv2--Q', u'1K50PvXa6l5PBXZXhzkB-g', {u'weight': 1}),\n",
       " (u'eFxX1tSNLmVkAP9kNv2--Q', u'd8y98FiNtI8OQFAp2tvoKg', {u'weight': 2}),\n",
       " (u'eFxX1tSNLmVkAP9kNv2--Q', u'do-fO-EruYVP_FQPMNWmZg', {u'weight': 2}),\n",
       " (u'eFxX1tSNLmVkAP9kNv2--Q', u'gQlLuTUG49u3z7bI1ySKmw', {u'weight': 2}),\n",
       " (u'eFxX1tSNLmVkAP9kNv2--Q', u'6pK_c7oKlUO8o8dWbnO2jg', {u'weight': 1}),\n",
       " (u'eFxX1tSNLmVkAP9kNv2--Q', u'DK2gGNdN3ihOu_uwt2AgLg', {u'weight': 1}),\n",
       " (u'eFxX1tSNLmVkAP9kNv2--Q', u'lpZtfD-vCqUER1yGKEvUPw', {u'weight': 1}),\n",
       " (u'eFxX1tSNLmVkAP9kNv2--Q', u'FHofjlnlxqdvSSkQ6UkNZw', {u'weight': 1}),\n",
       " (u'eFxX1tSNLmVkAP9kNv2--Q', u'Q9xJQu-9oCFZozVBjZDETw', {u'weight': 2}),\n",
       " (u'2fZlVLQec7EGfP6gErNNkg', u'W6LTsXcY1R76M9EdeN0G6A', {u'weight': 1}),\n",
       " (u'2fZlVLQec7EGfP6gErNNkg', u'tha1bsWQNbDTnHYMk48vGA', {u'weight': 1}),\n",
       " (u'2fZlVLQec7EGfP6gErNNkg', u'OyzjdoEb6xJcFNNjnpQVxw', {u'weight': 1}),\n",
       " (u'2yjdCTybzIeGjRIIrJz1vg', u'ts7EG6Zv2zdMDg29nyqGfA', {u'weight': 1}),\n",
       " (u'r-Oo5ZG-zQE9P4C16W_rfA', u'E_6E0U8d_L4uxaURifx0dQ', {u'weight': 1}),\n",
       " (u'r-Oo5ZG-zQE9P4C16W_rfA', u'pw-1VM51bTNOBqgoyXvVBA', {u'weight': 1}),\n",
       " (u'r-Oo5ZG-zQE9P4C16W_rfA', u'EvzQ5xBQhAx_s9HyQ2swYA', {u'weight': 1}),\n",
       " (u'r-Oo5ZG-zQE9P4C16W_rfA', u'do-fO-EruYVP_FQPMNWmZg', {u'weight': 1}),\n",
       " (u'aZjcmboRYOYyfmD6AdLesQ', u'qlYjP4O4BJXE9XaF9MqTYA', {u'weight': 1}),\n",
       " (u'aZjcmboRYOYyfmD6AdLesQ', u'0_Xyynwz0H3n1coC9Rnn6Q', {u'weight': 1}),\n",
       " (u'aZjcmboRYOYyfmD6AdLesQ', u'eFxX1tSNLmVkAP9kNv2--Q', {u'weight': 1}),\n",
       " (u'aZjcmboRYOYyfmD6AdLesQ', u'OyzjdoEb6xJcFNNjnpQVxw', {u'weight': 1}),\n",
       " (u'aZjcmboRYOYyfmD6AdLesQ', u'tFLi8-M6MOOrY5CsvWHRMA', {u'weight': 1}),\n",
       " (u'aZjcmboRYOYyfmD6AdLesQ', u'pw-1VM51bTNOBqgoyXvVBA', {u'weight': 1}),\n",
       " (u'aZjcmboRYOYyfmD6AdLesQ', u'mv-DzIC4U5QKt2AbOxuC_A', {u'weight': 1}),\n",
       " (u'aZjcmboRYOYyfmD6AdLesQ', u'NzWLMPvbEval0OVg_YDn4g', {u'weight': 1}),\n",
       " (u'aZjcmboRYOYyfmD6AdLesQ', u'yR04yrpjBf1BH5mTnG54ZQ', {u'weight': 1}),\n",
       " (u'aZjcmboRYOYyfmD6AdLesQ', u'LP0bl3GKToABt3lnpSvA2w', {u'weight': 1}),\n",
       " (u'aZjcmboRYOYyfmD6AdLesQ', u'-_1ctLaz3jhPYc12hKXsEQ', {u'weight': 1}),\n",
       " (u'aZjcmboRYOYyfmD6AdLesQ', u'Hubnerc_hJyF-0vFQ-Jsng', {u'weight': 1}),\n",
       " (u'aZjcmboRYOYyfmD6AdLesQ', u'FHofjlnlxqdvSSkQ6UkNZw', {u'weight': 1}),\n",
       " (u'aZjcmboRYOYyfmD6AdLesQ', u'W6LTsXcY1R76M9EdeN0G6A', {u'weight': 1}),\n",
       " (u'aZjcmboRYOYyfmD6AdLesQ', u'w1P9cvIVTxcLZvU5tXIhRw', {u'weight': 1}),\n",
       " (u'aZjcmboRYOYyfmD6AdLesQ', u's9I4KMcrHKki44g_eTrYqQ', {u'weight': 2}),\n",
       " (u'gD2IlYNxzvFOuRMGqH96lQ', u'tTKBoD9Eb2KrXRHg8OpB2g', {u'weight': 1}),\n",
       " (u'gD2IlYNxzvFOuRMGqH96lQ', u'nf4MYH5u_9lImwJLbLnPKw', {u'weight': 1}),\n",
       " (u'gD2IlYNxzvFOuRMGqH96lQ', u'3RybmJO-xvNhP7_SZBhkfg', {u'weight': 1}),\n",
       " (u'gD2IlYNxzvFOuRMGqH96lQ', u'1K50PvXa6l5PBXZXhzkB-g', {u'weight': 2}),\n",
       " (u'TyIJUHF_psqpjkL7OerTHQ', u'S3HZF5aANmhZoMkFkPMdqQ', {u'weight': 1}),\n",
       " (u'TyIJUHF_psqpjkL7OerTHQ', u'NzWLMPvbEval0OVg_YDn4g', {u'weight': 1}),\n",
       " (u'TyIJUHF_psqpjkL7OerTHQ', u'ts7EG6Zv2zdMDg29nyqGfA', {u'weight': 1}),\n",
       " (u'TyIJUHF_psqpjkL7OerTHQ', u's9I4KMcrHKki44g_eTrYqQ', {u'weight': 1}),\n",
       " (u'TyIJUHF_psqpjkL7OerTHQ', u'gQlLuTUG49u3z7bI1ySKmw', {u'weight': 1}),\n",
       " (u'TyIJUHF_psqpjkL7OerTHQ', u'tm_HvdZmUMGht1-xjGQF7Q', {u'weight': 1}),\n",
       " (u'TyIJUHF_psqpjkL7OerTHQ', u'4itIWbWKDMXef7VzAQ41-g', {u'weight': 1}),\n",
       " (u'TyIJUHF_psqpjkL7OerTHQ', u'M9H6p4hm2utu1G0ipV80Ug', {u'weight': 1}),\n",
       " (u'0SuIvO9hz82-tuKEe2z35A', u'3GteArKIVRlJZjjRqqwgaQ', {u'weight': 1}),\n",
       " (u'd8y98FiNtI8OQFAp2tvoKg', u'S3HZF5aANmhZoMkFkPMdqQ', {u'weight': 1}),\n",
       " (u'd8y98FiNtI8OQFAp2tvoKg', u'NzWLMPvbEval0OVg_YDn4g', {u'weight': 1}),\n",
       " (u'd8y98FiNtI8OQFAp2tvoKg', u'lpZtfD-vCqUER1yGKEvUPw', {u'weight': 1}),\n",
       " (u'd8y98FiNtI8OQFAp2tvoKg', u'Ul93T_U5jDh1FIIpiiTxuw', {u'weight': 2}),\n",
       " (u'd8y98FiNtI8OQFAp2tvoKg', u'4itIWbWKDMXef7VzAQ41-g', {u'weight': 1}),\n",
       " (u'd8y98FiNtI8OQFAp2tvoKg', u'7ewE_dDxjXNppOj0EhhMIQ', {u'weight': 1}),\n",
       " (u'd8y98FiNtI8OQFAp2tvoKg', u'ED6n40WmZJm0AvsKkG7iaw', {u'weight': 2}),\n",
       " (u's9I4KMcrHKki44g_eTrYqQ', u'PpkKVodWC0sdn74TbHQLzA', {u'weight': 2}),\n",
       " (u's9I4KMcrHKki44g_eTrYqQ', u'Ul93T_U5jDh1FIIpiiTxuw', {u'weight': 1}),\n",
       " (u's9I4KMcrHKki44g_eTrYqQ', u'zRIG4znrwIOp8mG4ZxtVMQ', {u'weight': 1}),\n",
       " (u's9I4KMcrHKki44g_eTrYqQ', u'9P_5UGjc3t3Bo_yJ5A7iAQ', {u'weight': 1}),\n",
       " (u's9I4KMcrHKki44g_eTrYqQ', u'ZEFqUMG4Az9TT-MXNlpJLw', {u'weight': 1}),\n",
       " (u's9I4KMcrHKki44g_eTrYqQ', u'lpZtfD-vCqUER1yGKEvUPw', {u'weight': 3}),\n",
       " (u's9I4KMcrHKki44g_eTrYqQ', u'Kybm9SJyOfEgDAXFUPRdCQ', {u'weight': 1}),\n",
       " (u's9I4KMcrHKki44g_eTrYqQ', u'NzWLMPvbEval0OVg_YDn4g', {u'weight': 5}),\n",
       " (u's9I4KMcrHKki44g_eTrYqQ', u'-_1ctLaz3jhPYc12hKXsEQ', {u'weight': 1}),\n",
       " (u's9I4KMcrHKki44g_eTrYqQ', u'tm_HvdZmUMGht1-xjGQF7Q', {u'weight': 1}),\n",
       " (u's9I4KMcrHKki44g_eTrYqQ', u'VhI6xyylcAxi0wOy2HOX3w', {u'weight': 2}),\n",
       " (u's9I4KMcrHKki44g_eTrYqQ', u'4itIWbWKDMXef7VzAQ41-g', {u'weight': 1}),\n",
       " (u's9I4KMcrHKki44g_eTrYqQ', u'pNMUZiL-TaQojaEygESgwQ', {u'weight': 2}),\n",
       " (u's9I4KMcrHKki44g_eTrYqQ', u'eFxX1tSNLmVkAP9kNv2--Q', {u'weight': 3}),\n",
       " (u's9I4KMcrHKki44g_eTrYqQ', u'5hhvqWu2vCo4HSKFw4H0pQ', {u'weight': 1}),\n",
       " (u's9I4KMcrHKki44g_eTrYqQ', u'ts7EG6Zv2zdMDg29nyqGfA', {u'weight': 2}),\n",
       " (u's9I4KMcrHKki44g_eTrYqQ', u'qlYjP4O4BJXE9XaF9MqTYA', {u'weight': 1}),\n",
       " (u's9I4KMcrHKki44g_eTrYqQ', u'MaJb-XiZ263_SSmneBmgYA', {u'weight': 1}),\n",
       " (u's9I4KMcrHKki44g_eTrYqQ', u'tFLi8-M6MOOrY5CsvWHRMA', {u'weight': 1}),\n",
       " (u's9I4KMcrHKki44g_eTrYqQ', u'H7Y33bDfjw8RvJKHIXU5Uw', {u'weight': 2}),\n",
       " (u's9I4KMcrHKki44g_eTrYqQ', u'M-TwsqjrGVH9-qyw2KcvdQ', {u'weight': 1}),\n",
       " (u's9I4KMcrHKki44g_eTrYqQ', u'A6bPFcUjuuayRBoyybedDQ', {u'weight': 3}),\n",
       " (u's9I4KMcrHKki44g_eTrYqQ', u'FHofjlnlxqdvSSkQ6UkNZw', {u'weight': 1}),\n",
       " (u's9I4KMcrHKki44g_eTrYqQ', u'nykberdxcTFvdBf8lMOPJg', {u'weight': 1}),\n",
       " (u'yR04yrpjBf1BH5mTnG54ZQ', u'aZjcmboRYOYyfmD6AdLesQ', {u'weight': 1}),\n",
       " (u'yR04yrpjBf1BH5mTnG54ZQ', u'dUNaeTHu9JeWOheE1NYGLw', {u'weight': 1}),\n",
       " (u'yR04yrpjBf1BH5mTnG54ZQ', u'Q9xJQu-9oCFZozVBjZDETw', {u'weight': 1}),\n",
       " (u'E6Eh1bz6fpo6EOPtctA-sg', u'e2j5nTQ2dnkB--pJakcUSA', {u'weight': 1}),\n",
       " (u'E6Eh1bz6fpo6EOPtctA-sg', u'ED6n40WmZJm0AvsKkG7iaw', {u'weight': 1}),\n",
       " (u'E6Eh1bz6fpo6EOPtctA-sg', u'r-Oo5ZG-zQE9P4C16W_rfA', {u'weight': 1}),\n",
       " (u'E6Eh1bz6fpo6EOPtctA-sg', u'3JHEVHhEi-44gezfq7AdGA', {u'weight': 1}),\n",
       " (u'E6Eh1bz6fpo6EOPtctA-sg', u'pw-1VM51bTNOBqgoyXvVBA', {u'weight': 1}),\n",
       " (u'E6Eh1bz6fpo6EOPtctA-sg', u'Kybm9SJyOfEgDAXFUPRdCQ', {u'weight': 1}),\n",
       " (u'E6Eh1bz6fpo6EOPtctA-sg', u'LP0bl3GKToABt3lnpSvA2w', {u'weight': 1}),\n",
       " (u'E6Eh1bz6fpo6EOPtctA-sg', u'Ul93T_U5jDh1FIIpiiTxuw', {u'weight': 1}),\n",
       " (u'E6Eh1bz6fpo6EOPtctA-sg', u'8certomS2xullsIXzLzL8A', {u'weight': 1}),\n",
       " (u'ED6n40WmZJm0AvsKkG7iaw', u'S3HZF5aANmhZoMkFkPMdqQ', {u'weight': 1}),\n",
       " (u'ED6n40WmZJm0AvsKkG7iaw', u'_-S38fYbXdf2J9n7se30jg', {u'weight': 1}),\n",
       " (u'ED6n40WmZJm0AvsKkG7iaw', u'-_1ctLaz3jhPYc12hKXsEQ', {u'weight': 1}),\n",
       " (u'ED6n40WmZJm0AvsKkG7iaw', u'7ewE_dDxjXNppOj0EhhMIQ', {u'weight': 2}),\n",
       " (u'ED6n40WmZJm0AvsKkG7iaw', u'27aGnUabXY23OH5oilHe7g', {u'weight': 1}),\n",
       " (u'ED6n40WmZJm0AvsKkG7iaw', u'3GteArKIVRlJZjjRqqwgaQ', {u'weight': 1}),\n",
       " (u'ED6n40WmZJm0AvsKkG7iaw', u'NzWLMPvbEval0OVg_YDn4g', {u'weight': 2}),\n",
       " (u'ED6n40WmZJm0AvsKkG7iaw', u'LP0bl3GKToABt3lnpSvA2w', {u'weight': 2}),\n",
       " (u'ED6n40WmZJm0AvsKkG7iaw', u'tm_HvdZmUMGht1-xjGQF7Q', {u'weight': 2}),\n",
       " (u'ED6n40WmZJm0AvsKkG7iaw', u'VhI6xyylcAxi0wOy2HOX3w', {u'weight': 1}),\n",
       " (u'ED6n40WmZJm0AvsKkG7iaw', u'4itIWbWKDMXef7VzAQ41-g', {u'weight': 1}),\n",
       " (u'ED6n40WmZJm0AvsKkG7iaw', u'W6LTsXcY1R76M9EdeN0G6A', {u'weight': 1}),\n",
       " (u'ED6n40WmZJm0AvsKkG7iaw', u'eFxX1tSNLmVkAP9kNv2--Q', {u'weight': 1}),\n",
       " (u'ED6n40WmZJm0AvsKkG7iaw', u's9I4KMcrHKki44g_eTrYqQ', {u'weight': 1}),\n",
       " (u'ED6n40WmZJm0AvsKkG7iaw', u'whKpnugMnWTz3UjlrN71yg', {u'weight': 2}),\n",
       " (u'ED6n40WmZJm0AvsKkG7iaw', u'cZjX4HsWB8mTLHI4uhbB-g', {u'weight': 1}),\n",
       " (u'ED6n40WmZJm0AvsKkG7iaw', u'x22P6OJwAqVNLeJONJVB4Q', {u'weight': 1}),\n",
       " (u'ED6n40WmZJm0AvsKkG7iaw', u'tFLi8-M6MOOrY5CsvWHRMA', {u'weight': 1}),\n",
       " (u'ED6n40WmZJm0AvsKkG7iaw', u'lpZtfD-vCqUER1yGKEvUPw', {u'weight': 8}),\n",
       " (u'ED6n40WmZJm0AvsKkG7iaw', u'7gAKXYdqYu5LfmpAHVSHVA', {u'weight': 2}),\n",
       " (u'ED6n40WmZJm0AvsKkG7iaw', u'FHSOR7FlOJOh6RjejrDwRQ', {u'weight': 1}),\n",
       " (u'ED6n40WmZJm0AvsKkG7iaw', u'Ul93T_U5jDh1FIIpiiTxuw', {u'weight': 1}),\n",
       " (u'ey-joFTK0R8T2xrYFx4FKQ', u'EvzQ5xBQhAx_s9HyQ2swYA', {u'weight': 1}),\n",
       " (u'VInyj5x9Sqmdt_GHEcpFhA', u'NzWLMPvbEval0OVg_YDn4g', {u'weight': 1}),\n",
       " (u'VInyj5x9Sqmdt_GHEcpFhA', u'hBZ4tkZJqkLZRf215I-WDg', {u'weight': 1}),\n",
       " (u'MaJb-XiZ263_SSmneBmgYA', u'PpkKVodWC0sdn74TbHQLzA', {u'weight': 1}),\n",
       " (u'MaJb-XiZ263_SSmneBmgYA', u'ts7EG6Zv2zdMDg29nyqGfA', {u'weight': 1}),\n",
       " (u'MaJb-XiZ263_SSmneBmgYA', u'9P_5UGjc3t3Bo_yJ5A7iAQ', {u'weight': 1}),\n",
       " (u'MaJb-XiZ263_SSmneBmgYA', u'5hhvqWu2vCo4HSKFw4H0pQ', {u'weight': 1}),\n",
       " (u'MaJb-XiZ263_SSmneBmgYA', u'1AdijTh6Y2mqe7IjIw5Kuw', {u'weight': 1}),\n",
       " (u'8certomS2xullsIXzLzL8A', u'Q9xJQu-9oCFZozVBjZDETw', {u'weight': 1}),\n",
       " (u'8certomS2xullsIXzLzL8A', u'W6LTsXcY1R76M9EdeN0G6A', {u'weight': 1}),\n",
       " (u'KaVnvEyEfc2YoP1T1g8-7g', u'PpkKVodWC0sdn74TbHQLzA', {u'weight': 1}),\n",
       " (u'KaVnvEyEfc2YoP1T1g8-7g', u'YlFBJ36KW41zERAxB-TBgQ', {u'weight': 1}),\n",
       " (u'KaVnvEyEfc2YoP1T1g8-7g', u'0SuIvO9hz82-tuKEe2z35A', {u'weight': 1}),\n",
       " (u'KaVnvEyEfc2YoP1T1g8-7g', u'GSN23jzG3x1zIzW02gOYbA', {u'weight': 1}),\n",
       " (u'KaVnvEyEfc2YoP1T1g8-7g', u'-_1ctLaz3jhPYc12hKXsEQ', {u'weight': 1}),\n",
       " (u'E1Wu-YuaNJWgQqSIsW8K5Q', u'3GteArKIVRlJZjjRqqwgaQ', {u'weight': 1}),\n",
       " (u'Q9xJQu-9oCFZozVBjZDETw', u'eFxX1tSNLmVkAP9kNv2--Q', {u'weight': 1}),\n",
       " (u'Q9xJQu-9oCFZozVBjZDETw', u'aZjcmboRYOYyfmD6AdLesQ', {u'weight': 1}),\n",
       " (u'Q9xJQu-9oCFZozVBjZDETw', u'3GteArKIVRlJZjjRqqwgaQ', {u'weight': 1}),\n",
       " (u'Q9xJQu-9oCFZozVBjZDETw', u'fW0eVXKzwg8Bgbl2AJDEjg', {u'weight': 1}),\n",
       " (u'Q9xJQu-9oCFZozVBjZDETw', u'pw-1VM51bTNOBqgoyXvVBA', {u'weight': 1}),\n",
       " (u'Q9xJQu-9oCFZozVBjZDETw', u'A6bPFcUjuuayRBoyybedDQ', {u'weight': 1}),\n",
       " (u'Q9xJQu-9oCFZozVBjZDETw', u'Ul93T_U5jDh1FIIpiiTxuw', {u'weight': 1}),\n",
       " (u'Q9xJQu-9oCFZozVBjZDETw', u'Hubnerc_hJyF-0vFQ-Jsng', {u'weight': 1}),\n",
       " (u'Q9xJQu-9oCFZozVBjZDETw', u'gD2FceWxl711U2IJokXBAQ', {u'weight': 1}),\n",
       " (u'Q9xJQu-9oCFZozVBjZDETw', u'VhI6xyylcAxi0wOy2HOX3w', {u'weight': 1}),\n",
       " (u'Q9xJQu-9oCFZozVBjZDETw', u'zvT0EHoB_aDE4MnoZly0ew', {u'weight': 1}),\n",
       " (u'Q9xJQu-9oCFZozVBjZDETw', u'n9OkjFjUBIQ5zze7nLuQog', {u'weight': 1}),\n",
       " (u'Q9xJQu-9oCFZozVBjZDETw', u'dUNaeTHu9JeWOheE1NYGLw', {u'weight': 1}),\n",
       " (u'Q9xJQu-9oCFZozVBjZDETw', u'1K50PvXa6l5PBXZXhzkB-g', {u'weight': 1}),\n",
       " (u'7gAKXYdqYu5LfmpAHVSHVA', u'x22P6OJwAqVNLeJONJVB4Q', {u'weight': 2}),\n",
       " (u'7gAKXYdqYu5LfmpAHVSHVA', u'_-S38fYbXdf2J9n7se30jg', {u'weight': 1}),\n",
       " (u'7gAKXYdqYu5LfmpAHVSHVA', u'lpZtfD-vCqUER1yGKEvUPw', {u'weight': 2}),\n",
       " (u'7gAKXYdqYu5LfmpAHVSHVA', u'whKpnugMnWTz3UjlrN71yg', {u'weight': 5}),\n",
       " (u'7gAKXYdqYu5LfmpAHVSHVA', u'VInyj5x9Sqmdt_GHEcpFhA', {u'weight': 1}),\n",
       " (u'7gAKXYdqYu5LfmpAHVSHVA', u'FHSOR7FlOJOh6RjejrDwRQ', {u'weight': 2}),\n",
       " (u'7gAKXYdqYu5LfmpAHVSHVA', u'7ewE_dDxjXNppOj0EhhMIQ', {u'weight': 1}),\n",
       " (u'LQ7mat58GGb_9wyPHinrsA', u'A6bPFcUjuuayRBoyybedDQ', {u'weight': 1}),\n",
       " (u'LQ7mat58GGb_9wyPHinrsA', u'd8y98FiNtI8OQFAp2tvoKg', {u'weight': 1}),\n",
       " (u'xqqAzP6zjtJbyegKR1Md9A', u'MaJb-XiZ263_SSmneBmgYA', {u'weight': 1}),\n",
       " (u'xqqAzP6zjtJbyegKR1Md9A', u'glzRad3_l42hALvjB9p97w', {u'weight': 1}),\n",
       " (u'xqqAzP6zjtJbyegKR1Md9A', u'mv-DzIC4U5QKt2AbOxuC_A', {u'weight': 1}),\n",
       " (u'xqqAzP6zjtJbyegKR1Md9A', u'nykberdxcTFvdBf8lMOPJg', {u'weight': 1}),\n",
       " (u'cr7KWf32wFdD4kYu2ovSwg', u'M-TwsqjrGVH9-qyw2KcvdQ', {u'weight': 1}),\n",
       " (u'cr7KWf32wFdD4kYu2ovSwg', u'N1bZJxYJx0p-cRMsN608Tg', {u'weight': 1}),\n",
       " (u'GSN23jzG3x1zIzW02gOYbA', u'VhI6xyylcAxi0wOy2HOX3w', {u'weight': 1}),\n",
       " (u'GSN23jzG3x1zIzW02gOYbA', u'VFOwxpOWH9RZ3iMelkRd7A', {u'weight': 1}),\n",
       " (u'GSN23jzG3x1zIzW02gOYbA', u'OyzjdoEb6xJcFNNjnpQVxw', {u'weight': 1}),\n",
       " (u'E_6E0U8d_L4uxaURifx0dQ', u'gD2IlYNxzvFOuRMGqH96lQ', {u'weight': 1}),\n",
       " (u'E_6E0U8d_L4uxaURifx0dQ', u'3GteArKIVRlJZjjRqqwgaQ', {u'weight': 1}),\n",
       " (u'Ul93T_U5jDh1FIIpiiTxuw', u'iHJvo9405LGI3VrWRoC25Q', {u'weight': 1}),\n",
       " (u'Ul93T_U5jDh1FIIpiiTxuw', u'eFxX1tSNLmVkAP9kNv2--Q', {u'weight': 1}),\n",
       " (u'Ul93T_U5jDh1FIIpiiTxuw', u'suHNFmm634ZzPzfOggxRqw', {u'weight': 1}),\n",
       " (u'Ul93T_U5jDh1FIIpiiTxuw', u'ED6n40WmZJm0AvsKkG7iaw', {u'weight': 1}),\n",
       " (u'Ul93T_U5jDh1FIIpiiTxuw', u'_-S38fYbXdf2J9n7se30jg', {u'weight': 1}),\n",
       " (u'Ul93T_U5jDh1FIIpiiTxuw', u'Y--yRCncNlQCNULP8I5h6Q', {u'weight': 1}),\n",
       " (u'Ul93T_U5jDh1FIIpiiTxuw', u'ts7EG6Zv2zdMDg29nyqGfA', {u'weight': 1}),\n",
       " (u'Ul93T_U5jDh1FIIpiiTxuw', u'Uqr3GTH8tdxnRV2CDKlLEw', {u'weight': 1}),\n",
       " (u'Ul93T_U5jDh1FIIpiiTxuw', u'NzWLMPvbEval0OVg_YDn4g', {u'weight': 2}),\n",
       " (u'Ul93T_U5jDh1FIIpiiTxuw', u'A6bPFcUjuuayRBoyybedDQ', {u'weight': 1}),\n",
       " (u'Ul93T_U5jDh1FIIpiiTxuw', u'whKpnugMnWTz3UjlrN71yg', {u'weight': 1}),\n",
       " (u'Ul93T_U5jDh1FIIpiiTxuw', u'7ewE_dDxjXNppOj0EhhMIQ', {u'weight': 1}),\n",
       " (u'Ul93T_U5jDh1FIIpiiTxuw', u'DK2gGNdN3ihOu_uwt2AgLg', {u'weight': 1}),\n",
       " (u'Ul93T_U5jDh1FIIpiiTxuw', u'27aGnUabXY23OH5oilHe7g', {u'weight': 1}),\n",
       " (u'Ul93T_U5jDh1FIIpiiTxuw', u'9P_5UGjc3t3Bo_yJ5A7iAQ', {u'weight': 1}),\n",
       " (u'Ul93T_U5jDh1FIIpiiTxuw', u'cZjX4HsWB8mTLHI4uhbB-g', {u'weight': 1}),\n",
       " (u'1AdijTh6Y2mqe7IjIw5Kuw', u'ts7EG6Zv2zdMDg29nyqGfA', {u'weight': 2}),\n",
       " (u'1AdijTh6Y2mqe7IjIw5Kuw', u'M-TwsqjrGVH9-qyw2KcvdQ', {u'weight': 1}),\n",
       " (u'1AdijTh6Y2mqe7IjIw5Kuw', u'NzWLMPvbEval0OVg_YDn4g', {u'weight': 1}),\n",
       " (u'1AdijTh6Y2mqe7IjIw5Kuw', u'lpZtfD-vCqUER1yGKEvUPw', {u'weight': 1}),\n",
       " (u'1AdijTh6Y2mqe7IjIw5Kuw', u'W6LTsXcY1R76M9EdeN0G6A', {u'weight': 1}),\n",
       " (u'1AdijTh6Y2mqe7IjIw5Kuw', u'Ljb4mRGWCkR49NW7tjjyKQ', {u'weight': 1}),\n",
       " (u'UCK9qP7EyBYWHZiN0ckdpw', u'aZjcmboRYOYyfmD6AdLesQ', {u'weight': 2}),\n",
       " (u'UCK9qP7EyBYWHZiN0ckdpw', u'C1BIq8rhj0ZG2t3tV6pKFg', {u'weight': 1}),\n",
       " (u'UCK9qP7EyBYWHZiN0ckdpw', u'xqqAzP6zjtJbyegKR1Md9A', {u'weight': 1}),\n",
       " (u'9P_5UGjc3t3Bo_yJ5A7iAQ', u'aZjcmboRYOYyfmD6AdLesQ', {u'weight': 2}),\n",
       " (u'9P_5UGjc3t3Bo_yJ5A7iAQ', u'eFxX1tSNLmVkAP9kNv2--Q', {u'weight': 1}),\n",
       " (u'9P_5UGjc3t3Bo_yJ5A7iAQ', u's9I4KMcrHKki44g_eTrYqQ', {u'weight': 1}),\n",
       " (u'9P_5UGjc3t3Bo_yJ5A7iAQ', u'Q9xJQu-9oCFZozVBjZDETw', {u'weight': 2}),\n",
       " (u'9P_5UGjc3t3Bo_yJ5A7iAQ', u'M9H6p4hm2utu1G0ipV80Ug', {u'weight': 1}),\n",
       " (u'9P_5UGjc3t3Bo_yJ5A7iAQ', u'dUNaeTHu9JeWOheE1NYGLw', {u'weight': 1}),\n",
       " (u'd4-0-wEjkANvDuuq9SmmKw', u'0_Xyynwz0H3n1coC9Rnn6Q', {u'weight': 1}),\n",
       " (u'd4-0-wEjkANvDuuq9SmmKw', u'3JHEVHhEi-44gezfq7AdGA', {u'weight': 1}),\n",
       " (u'd4-0-wEjkANvDuuq9SmmKw', u'tha1bsWQNbDTnHYMk48vGA', {u'weight': 2}),\n",
       " (u'd4-0-wEjkANvDuuq9SmmKw', u'do-fO-EruYVP_FQPMNWmZg', {u'weight': 1}),\n",
       " (u'd4-0-wEjkANvDuuq9SmmKw', u'ey-joFTK0R8T2xrYFx4FKQ', {u'weight': 1}),\n",
       " (u'd4-0-wEjkANvDuuq9SmmKw', u'dXkJ91eJ60KppeHC9dmavA', {u'weight': 1}),\n",
       " (u'd4-0-wEjkANvDuuq9SmmKw', u'1K50PvXa6l5PBXZXhzkB-g', {u'weight': 1}),\n",
       " (u'3JHEVHhEi-44gezfq7AdGA', u'do-fO-EruYVP_FQPMNWmZg', {u'weight': 1}),\n",
       " (u'3JHEVHhEi-44gezfq7AdGA', u'GtcVim7Y43ALraAb3ritmQ', {u'weight': 1}),\n",
       " (u'3JHEVHhEi-44gezfq7AdGA', u'Hubnerc_hJyF-0vFQ-Jsng', {u'weight': 1}),\n",
       " (u'3JHEVHhEi-44gezfq7AdGA', u'W6LTsXcY1R76M9EdeN0G6A', {u'weight': 1}),\n",
       " (u'3JHEVHhEi-44gezfq7AdGA', u'w1P9cvIVTxcLZvU5tXIhRw', {u'weight': 1}),\n",
       " (u'3JHEVHhEi-44gezfq7AdGA', u'ey-joFTK0R8T2xrYFx4FKQ', {u'weight': 1}),\n",
       " (u'MOaDlqJ6wWvnJN4wGqreqw', u'M-TwsqjrGVH9-qyw2KcvdQ', {u'weight': 1}),\n",
       " (u'MOaDlqJ6wWvnJN4wGqreqw', u'glzRad3_l42hALvjB9p97w', {u'weight': 1}),\n",
       " (u'MOaDlqJ6wWvnJN4wGqreqw', u'tha1bsWQNbDTnHYMk48vGA', {u'weight': 1}),\n",
       " (u'MOaDlqJ6wWvnJN4wGqreqw', u'N1bZJxYJx0p-cRMsN608Tg', {u'weight': 1}),\n",
       " (u'VhI6xyylcAxi0wOy2HOX3w', u'PpkKVodWC0sdn74TbHQLzA', {u'weight': 2}),\n",
       " (u'VhI6xyylcAxi0wOy2HOX3w', u'cr7KWf32wFdD4kYu2ovSwg', {u'weight': 1}),\n",
       " (u'VhI6xyylcAxi0wOy2HOX3w', u'GrA3BLjRjAKvFYwSqN_4cg', {u'weight': 1}),\n",
       " (u'VhI6xyylcAxi0wOy2HOX3w', u'_-S38fYbXdf2J9n7se30jg', {u'weight': 1}),\n",
       " (u'VhI6xyylcAxi0wOy2HOX3w', u'Y--yRCncNlQCNULP8I5h6Q', {u'weight': 1}),\n",
       " (u'VhI6xyylcAxi0wOy2HOX3w', u'Ul93T_U5jDh1FIIpiiTxuw', {u'weight': 1}),\n",
       " (u'VhI6xyylcAxi0wOy2HOX3w', u'7ewE_dDxjXNppOj0EhhMIQ', {u'weight': 1}),\n",
       " (u'VhI6xyylcAxi0wOy2HOX3w', u'9P_5UGjc3t3Bo_yJ5A7iAQ', {u'weight': 1}),\n",
       " (u'VhI6xyylcAxi0wOy2HOX3w', u'UCK9qP7EyBYWHZiN0ckdpw', {u'weight': 1}),\n",
       " (u'VhI6xyylcAxi0wOy2HOX3w', u'kxRnhpUgooticN9DimR-CQ', {u'weight': 1}),\n",
       " (u'VhI6xyylcAxi0wOy2HOX3w', u'NzWLMPvbEval0OVg_YDn4g', {u'weight': 3}),\n",
       " (u'VhI6xyylcAxi0wOy2HOX3w', u'-_1ctLaz3jhPYc12hKXsEQ', {u'weight': 2}),\n",
       " (u'VhI6xyylcAxi0wOy2HOX3w', u'W6LTsXcY1R76M9EdeN0G6A', {u'weight': 2}),\n",
       " (u'VhI6xyylcAxi0wOy2HOX3w', u'I9-qaI_sfTJzeG52WZMdkQ', {u'weight': 2}),\n",
       " (u'VhI6xyylcAxi0wOy2HOX3w', u'1K50PvXa6l5PBXZXhzkB-g', {u'weight': 1}),\n",
       " (u'VhI6xyylcAxi0wOy2HOX3w', u'CBGBJQXWeHwRcwsvU7FNVg', {u'weight': 1}),\n",
       " (u'VhI6xyylcAxi0wOy2HOX3w', u'2yjdCTybzIeGjRIIrJz1vg', {u'weight': 1}),\n",
       " (u'VhI6xyylcAxi0wOy2HOX3w', u'3JHEVHhEi-44gezfq7AdGA', {u'weight': 1}),\n",
       " (u'VhI6xyylcAxi0wOy2HOX3w', u'ts7EG6Zv2zdMDg29nyqGfA', {u'weight': 1}),\n",
       " (u'VhI6xyylcAxi0wOy2HOX3w', u's9I4KMcrHKki44g_eTrYqQ', {u'weight': 2}),\n",
       " (u'VhI6xyylcAxi0wOy2HOX3w', u'gQlLuTUG49u3z7bI1ySKmw', {u'weight': 1}),\n",
       " (u'VhI6xyylcAxi0wOy2HOX3w', u'LP0bl3GKToABt3lnpSvA2w', {u'weight': 4}),\n",
       " (u'VhI6xyylcAxi0wOy2HOX3w', u'whKpnugMnWTz3UjlrN71yg', {u'weight': 1}),\n",
       " (u'VhI6xyylcAxi0wOy2HOX3w', u'aZjcmboRYOYyfmD6AdLesQ', {u'weight': 1}),\n",
       " (u'VhI6xyylcAxi0wOy2HOX3w', u'6pK_c7oKlUO8o8dWbnO2jg', {u'weight': 2}),\n",
       " (u'VhI6xyylcAxi0wOy2HOX3w', u'tFLi8-M6MOOrY5CsvWHRMA', {u'weight': 2}),\n",
       " (u'VhI6xyylcAxi0wOy2HOX3w', u'DK2gGNdN3ihOu_uwt2AgLg', {u'weight': 1}),\n",
       " (u'VhI6xyylcAxi0wOy2HOX3w', u'A6bPFcUjuuayRBoyybedDQ', {u'weight': 1}),\n",
       " (u'VhI6xyylcAxi0wOy2HOX3w', u'Hubnerc_hJyF-0vFQ-Jsng', {u'weight': 1}),\n",
       " (u'VhI6xyylcAxi0wOy2HOX3w', u'Q9xJQu-9oCFZozVBjZDETw', {u'weight': 1}),\n",
       " (u'pNMUZiL-TaQojaEygESgwQ', u'GSN23jzG3x1zIzW02gOYbA', {u'weight': 1}),\n",
       " (u'pNMUZiL-TaQojaEygESgwQ', u'3GteArKIVRlJZjjRqqwgaQ', {u'weight': 1}),\n",
       " (u'pNMUZiL-TaQojaEygESgwQ', u'KaVnvEyEfc2YoP1T1g8-7g', {u'weight': 1}),\n",
       " (u'pNMUZiL-TaQojaEygESgwQ', u'5hhvqWu2vCo4HSKFw4H0pQ', {u'weight': 1}),\n",
       " (u'pNMUZiL-TaQojaEygESgwQ', u'dXkJ91eJ60KppeHC9dmavA', {u'weight': 1}),\n",
       " (u'pNMUZiL-TaQojaEygESgwQ', u'cZjX4HsWB8mTLHI4uhbB-g', {u'weight': 1}),\n",
       " (u'dj9n9G7NVLaho6vMvlvL8g', u'3JHEVHhEi-44gezfq7AdGA', {u'weight': 1}),\n",
       " (u'dj9n9G7NVLaho6vMvlvL8g', u'w1P9cvIVTxcLZvU5tXIhRw', {u'weight': 1}),\n",
       " (u'dj9n9G7NVLaho6vMvlvL8g', u'GtcVim7Y43ALraAb3ritmQ', {u'weight': 1}),\n",
       " (u'3RybmJO-xvNhP7_SZBhkfg', u'nf4MYH5u_9lImwJLbLnPKw', {u'weight': 1}),\n",
       " (u'3RybmJO-xvNhP7_SZBhkfg', u'r-Oo5ZG-zQE9P4C16W_rfA', {u'weight': 1}),\n",
       " (u'3RybmJO-xvNhP7_SZBhkfg', u'Xpx2PKsS8kY-W4drng9AYQ', {u'weight': 1}),\n",
       " (u'3RybmJO-xvNhP7_SZBhkfg', u'glzRad3_l42hALvjB9p97w', {u'weight': 1}),\n",
       " (u'3RybmJO-xvNhP7_SZBhkfg', u'dUNaeTHu9JeWOheE1NYGLw', {u'weight': 1}),\n",
       " (u'3RybmJO-xvNhP7_SZBhkfg', u'Ljb4mRGWCkR49NW7tjjyKQ', {u'weight': 1}),\n",
       " (u'ts7EG6Zv2zdMDg29nyqGfA', u'PpkKVodWC0sdn74TbHQLzA', {u'weight': 1}),\n",
       " (u'ts7EG6Zv2zdMDg29nyqGfA', u'Ul93T_U5jDh1FIIpiiTxuw', {u'weight': 1}),\n",
       " (u'ts7EG6Zv2zdMDg29nyqGfA', u'emoQY8neOSJm-xwqh4xVfQ', {u'weight': 2}),\n",
       " (u'ts7EG6Zv2zdMDg29nyqGfA', u'VFOwxpOWH9RZ3iMelkRd7A', {u'weight': 1}),\n",
       " (u'ts7EG6Zv2zdMDg29nyqGfA', u'9P_5UGjc3t3Bo_yJ5A7iAQ', {u'weight': 1}),\n",
       " (u'ts7EG6Zv2zdMDg29nyqGfA', u'gD2FceWxl711U2IJokXBAQ', {u'weight': 1}),\n",
       " (u'ts7EG6Zv2zdMDg29nyqGfA', u'3GteArKIVRlJZjjRqqwgaQ', {u'weight': 1}),\n",
       " (u'ts7EG6Zv2zdMDg29nyqGfA', u'kxRnhpUgooticN9DimR-CQ', {u'weight': 1}),\n",
       " (u'ts7EG6Zv2zdMDg29nyqGfA', u'NzWLMPvbEval0OVg_YDn4g', {u'weight': 5}),\n",
       " (u'ts7EG6Zv2zdMDg29nyqGfA', u'-_1ctLaz3jhPYc12hKXsEQ', {u'weight': 1}),\n",
       " (u'ts7EG6Zv2zdMDg29nyqGfA', u'A6bPFcUjuuayRBoyybedDQ', {u'weight': 2}),\n",
       " (u'ts7EG6Zv2zdMDg29nyqGfA', u'UmCAhWcU_abaaESenKUiLw', {u'weight': 1}),\n",
       " (u'ts7EG6Zv2zdMDg29nyqGfA', u'2fZlVLQec7EGfP6gErNNkg', {u'weight': 1}),\n",
       " (u'ts7EG6Zv2zdMDg29nyqGfA', u'qlYjP4O4BJXE9XaF9MqTYA', {u'weight': 1}),\n",
       " (u'ts7EG6Zv2zdMDg29nyqGfA', u'uL7TIJ56Eb9Rx4nkt2ej_Q', {u'weight': 1}),\n",
       " (u'ts7EG6Zv2zdMDg29nyqGfA', u'0SuIvO9hz82-tuKEe2z35A', {u'weight': 1}),\n",
       " (u'ts7EG6Zv2zdMDg29nyqGfA', u's9I4KMcrHKki44g_eTrYqQ', {u'weight': 1}),\n",
       " (u'ts7EG6Zv2zdMDg29nyqGfA', u'LP0bl3GKToABt3lnpSvA2w', {u'weight': 1}),\n",
       " (u'ts7EG6Zv2zdMDg29nyqGfA', u'Q9xJQu-9oCFZozVBjZDETw', {u'weight': 1}),\n",
       " (u'ts7EG6Zv2zdMDg29nyqGfA', u'whKpnugMnWTz3UjlrN71yg', {u'weight': 1}),\n",
       " (u'ts7EG6Zv2zdMDg29nyqGfA', u'ED6n40WmZJm0AvsKkG7iaw', {u'weight': 1}),\n",
       " (u'ts7EG6Zv2zdMDg29nyqGfA', u'cZjX4HsWB8mTLHI4uhbB-g', {u'weight': 1}),\n",
       " (u'ts7EG6Zv2zdMDg29nyqGfA', u'W6LTsXcY1R76M9EdeN0G6A', {u'weight': 2}),\n",
       " (u'ts7EG6Zv2zdMDg29nyqGfA', u'aZjcmboRYOYyfmD6AdLesQ', {u'weight': 1}),\n",
       " (u'ts7EG6Zv2zdMDg29nyqGfA', u'x22P6OJwAqVNLeJONJVB4Q', {u'weight': 1}),\n",
       " (u'ts7EG6Zv2zdMDg29nyqGfA', u'6pK_c7oKlUO8o8dWbnO2jg', {u'weight': 1}),\n",
       " (u'ts7EG6Zv2zdMDg29nyqGfA', u'do-fO-EruYVP_FQPMNWmZg', {u'weight': 2}),\n",
       " (u'ts7EG6Zv2zdMDg29nyqGfA', u'31D7Vgfk3RPaePdkMBSyCw', {u'weight': 1}),\n",
       " (u'ts7EG6Zv2zdMDg29nyqGfA', u'tFLi8-M6MOOrY5CsvWHRMA', {u'weight': 1}),\n",
       " (u'ts7EG6Zv2zdMDg29nyqGfA', u'DK2gGNdN3ihOu_uwt2AgLg', {u'weight': 1}),\n",
       " (u'ts7EG6Zv2zdMDg29nyqGfA', u'M-TwsqjrGVH9-qyw2KcvdQ', {u'weight': 2}),\n",
       " (u'ts7EG6Zv2zdMDg29nyqGfA', u'lpZtfD-vCqUER1yGKEvUPw', {u'weight': 2}),\n",
       " (u'ts7EG6Zv2zdMDg29nyqGfA', u'FHofjlnlxqdvSSkQ6UkNZw', {u'weight': 1}),\n",
       " (u'ts7EG6Zv2zdMDg29nyqGfA', u'H2NIEAD71yF8T5Pt0XigmQ', {u'weight': 1}),\n",
       " (u'ts7EG6Zv2zdMDg29nyqGfA', u'FHSOR7FlOJOh6RjejrDwRQ', {u'weight': 3}),\n",
       " (u'ts7EG6Zv2zdMDg29nyqGfA', u'dUNaeTHu9JeWOheE1NYGLw', {u'weight': 1}),\n",
       " (u'hvJP2aqd91M4iFriEWGkIA', u'NzWLMPvbEval0OVg_YDn4g', {u'weight': 1}),\n",
       " (u'hvJP2aqd91M4iFriEWGkIA', u'glzRad3_l42hALvjB9p97w', {u'weight': 1}),\n",
       " (u'84aeLpM1g9tc79gERKxh5Q', u'lhIEvJs8o09n6-zdffln0g', {u'weight': 1}),\n",
       " (u'84aeLpM1g9tc79gERKxh5Q', u's9I4KMcrHKki44g_eTrYqQ', {u'weight': 1}),\n",
       " (u'84aeLpM1g9tc79gERKxh5Q', u'Y--yRCncNlQCNULP8I5h6Q', {u'weight': 1}),\n",
       " (u'84aeLpM1g9tc79gERKxh5Q', u'Kybm9SJyOfEgDAXFUPRdCQ', {u'weight': 1}),\n",
       " (u'84aeLpM1g9tc79gERKxh5Q', u'do-fO-EruYVP_FQPMNWmZg', {u'weight': 1}),\n",
       " (u'84aeLpM1g9tc79gERKxh5Q', u'VhI6xyylcAxi0wOy2HOX3w', {u'weight': 1}),\n",
       " (u'dXkJ91eJ60KppeHC9dmavA', u'iHJvo9405LGI3VrWRoC25Q', {u'weight': 1}),\n",
       " (u'dXkJ91eJ60KppeHC9dmavA', u's9I4KMcrHKki44g_eTrYqQ', {u'weight': 1}),\n",
       " (u'dXkJ91eJ60KppeHC9dmavA', u'WBSW8I_wXCjjefs9vFhJeQ', {u'weight': 1}),\n",
       " (u'dXkJ91eJ60KppeHC9dmavA', u'GtcVim7Y43ALraAb3ritmQ', {u'weight': 1}),\n",
       " (u'cZjX4HsWB8mTLHI4uhbB-g', u'3IOQbdQ2z7TKWOnBjAnkew', {u'weight': 1}),\n",
       " (u'cZjX4HsWB8mTLHI4uhbB-g', u'iXpKKeeiXjBncJyDWbfhxw', {u'weight': 1}),\n",
       " (u'cZjX4HsWB8mTLHI4uhbB-g', u'ts7EG6Zv2zdMDg29nyqGfA', {u'weight': 1}),\n",
       " (u'cZjX4HsWB8mTLHI4uhbB-g', u'M-TwsqjrGVH9-qyw2KcvdQ', {u'weight': 2}),\n",
       " (u'cZjX4HsWB8mTLHI4uhbB-g', u'NzWLMPvbEval0OVg_YDn4g', {u'weight': 1}),\n",
       " (u'cZjX4HsWB8mTLHI4uhbB-g', u'A6bPFcUjuuayRBoyybedDQ', {u'weight': 1}),\n",
       " (u'cZjX4HsWB8mTLHI4uhbB-g', u'UIbW6xWBczva9e4fcuV8JA', {u'weight': 1}),\n",
       " (u'cZjX4HsWB8mTLHI4uhbB-g', u'whKpnugMnWTz3UjlrN71yg', {u'weight': 1}),\n",
       " (u'cZjX4HsWB8mTLHI4uhbB-g', u'4itIWbWKDMXef7VzAQ41-g', {u'weight': 1}),\n",
       " (u'cZjX4HsWB8mTLHI4uhbB-g', u'ED6n40WmZJm0AvsKkG7iaw', {u'weight': 1}),\n",
       " (u'uBUGZtTxmaG-8YpUWpU5_Q', u'-_1ctLaz3jhPYc12hKXsEQ', {u'weight': 1}),\n",
       " (u'uBUGZtTxmaG-8YpUWpU5_Q', u'Kybm9SJyOfEgDAXFUPRdCQ', {u'weight': 1}),\n",
       " (u'uBUGZtTxmaG-8YpUWpU5_Q', u'tm_HvdZmUMGht1-xjGQF7Q', {u'weight': 1}),\n",
       " (u'uBUGZtTxmaG-8YpUWpU5_Q', u'n9OkjFjUBIQ5zze7nLuQog', {u'weight': 1}),\n",
       " (u'Xpx2PKsS8kY-W4drng9AYQ', u'r-Oo5ZG-zQE9P4C16W_rfA', {u'weight': 1}),\n",
       " (u'Xpx2PKsS8kY-W4drng9AYQ', u'glzRad3_l42hALvjB9p97w', {u'weight': 1}),\n",
       " (u'Xpx2PKsS8kY-W4drng9AYQ', u'E_6E0U8d_L4uxaURifx0dQ', {u'weight': 1}),\n",
       " (u'Xpx2PKsS8kY-W4drng9AYQ', u'EvzQ5xBQhAx_s9HyQ2swYA', {u'weight': 1}),\n",
       " (u'Xpx2PKsS8kY-W4drng9AYQ', u'dUNaeTHu9JeWOheE1NYGLw', {u'weight': 1}),\n",
       " (u'Xpx2PKsS8kY-W4drng9AYQ', u'Ljb4mRGWCkR49NW7tjjyKQ', {u'weight': 1}),\n",
       " (u'31D7Vgfk3RPaePdkMBSyCw', u'VhI6xyylcAxi0wOy2HOX3w', {u'weight': 1}),\n",
       " (u'31D7Vgfk3RPaePdkMBSyCw', u'E6Eh1bz6fpo6EOPtctA-sg', {u'weight': 1}),\n",
       " (u'tFLi8-M6MOOrY5CsvWHRMA', u'aZjcmboRYOYyfmD6AdLesQ', {u'weight': 1}),\n",
       " (u'tFLi8-M6MOOrY5CsvWHRMA', u'LQ7mat58GGb_9wyPHinrsA', {u'weight': 1}),\n",
       " (u'tFLi8-M6MOOrY5CsvWHRMA', u'xqqAzP6zjtJbyegKR1Md9A', {u'weight': 1}),\n",
       " (u'tFLi8-M6MOOrY5CsvWHRMA', u'I9-qaI_sfTJzeG52WZMdkQ', {u'weight': 1}),\n",
       " (u'tFLi8-M6MOOrY5CsvWHRMA', u'gD2FceWxl711U2IJokXBAQ', {u'weight': 1}),\n",
       " (u'tFLi8-M6MOOrY5CsvWHRMA', u'OyzjdoEb6xJcFNNjnpQVxw', {u'weight': 3}),\n",
       " (u'tFLi8-M6MOOrY5CsvWHRMA', u'GSN23jzG3x1zIzW02gOYbA', {u'weight': 1}),\n",
       " (u'tFLi8-M6MOOrY5CsvWHRMA', u'd8y98FiNtI8OQFAp2tvoKg', {u'weight': 1}),\n",
       " ...]"
      ]
     },
     "execution_count": 22,
     "metadata": {},
     "output_type": "execute_result"
    }
   ],
   "source": [
    "NC_digraph.edges(data=True)"
   ]
  },
  {
   "cell_type": "markdown",
   "metadata": {},
   "source": [
    "### 2.2. Visualizing the Graph"
   ]
  },
  {
   "cell_type": "code",
   "execution_count": 26,
   "metadata": {
    "collapsed": true
   },
   "outputs": [],
   "source": [
    "def print_graph(Graph, S1=None):\n",
    "    plt.figure(figsize=(16,10))\n",
    "    color_map = {1: 'b', 0: 'r'}\n",
    "    pos = nx.random_layout(Graph)\n",
    "    \n",
    "    if S1:\n",
    "        nx.draw_networkx(Graph, pos, with_labels=False, node_size=100, node_shape='.',\n",
    "                linewidth=None, width=0.2, edge_color='y', \n",
    "                node_color=[color_map[Graph.node[node]['action']] for node in Graph],\n",
    "                edgelist=reduce(lambda x,y: x+y,[Graph.edges(node) for node in S1]))\n",
    "        nx.draw_networkx_nodes(Graph, pos, nodelist=S1, node_color=\"b\", node_size=150, \n",
    "                              node_shape=\"*\", label=\"Initial Set\")\n",
    "        plt.legend()\n",
    "    else:\n",
    "        nx.draw_networkx(Graph, pos, with_labels=False, node_size=100, node_shape='.',\n",
    "                linewidth=None, width=0.2, edge_color='y', \n",
    "                 node_color=[color_map[Graph.node[node]['action']] for node in Graph])\n",
    "        \n",
    "    plt.xlim(-0.05,1.05)\n",
    "    plt.ylim(-0.05,1.05)\n",
    "    plt.xticks([])\n",
    "    plt.yticks([])\n",
    "    plt.show()"
   ]
  },
  {
   "cell_type": "code",
   "execution_count": 27,
   "metadata": {
    "collapsed": false
   },
   "outputs": [
    {
     "ename": "NameError",
     "evalue": "global name 'nx' is not defined",
     "output_type": "error",
     "traceback": [
      "\u001b[0;31m---------------------------------------------------------------------------\u001b[0m",
      "\u001b[0;31mNameError\u001b[0m                                 Traceback (most recent call last)",
      "\u001b[0;32m<ipython-input-27-9260fb2aa028>\u001b[0m in \u001b[0;36m<module>\u001b[0;34m()\u001b[0m\n\u001b[0;32m----> 1\u001b[0;31m \u001b[0mprint_graph\u001b[0m\u001b[0;34m(\u001b[0m\u001b[0mNC_digraph\u001b[0m\u001b[0;34m)\u001b[0m\u001b[0;34m\u001b[0m\u001b[0m\n\u001b[0m",
      "\u001b[0;32m<ipython-input-26-f5feb58950b3>\u001b[0m in \u001b[0;36mprint_graph\u001b[0;34m(Graph, S1)\u001b[0m\n\u001b[1;32m      2\u001b[0m     \u001b[0mplt\u001b[0m\u001b[0;34m.\u001b[0m\u001b[0mfigure\u001b[0m\u001b[0;34m(\u001b[0m\u001b[0mfigsize\u001b[0m\u001b[0;34m=\u001b[0m\u001b[0;34m(\u001b[0m\u001b[0;36m16\u001b[0m\u001b[0;34m,\u001b[0m\u001b[0;36m10\u001b[0m\u001b[0;34m)\u001b[0m\u001b[0;34m)\u001b[0m\u001b[0;34m\u001b[0m\u001b[0m\n\u001b[1;32m      3\u001b[0m     \u001b[0mcolor_map\u001b[0m \u001b[0;34m=\u001b[0m \u001b[0;34m{\u001b[0m\u001b[0;36m1\u001b[0m\u001b[0;34m:\u001b[0m \u001b[0;34m'b'\u001b[0m\u001b[0;34m,\u001b[0m \u001b[0;36m0\u001b[0m\u001b[0;34m:\u001b[0m \u001b[0;34m'r'\u001b[0m\u001b[0;34m}\u001b[0m\u001b[0;34m\u001b[0m\u001b[0m\n\u001b[0;32m----> 4\u001b[0;31m     \u001b[0mpos\u001b[0m \u001b[0;34m=\u001b[0m \u001b[0mnx\u001b[0m\u001b[0;34m.\u001b[0m\u001b[0mrandom_layout\u001b[0m\u001b[0;34m(\u001b[0m\u001b[0mGraph\u001b[0m\u001b[0;34m)\u001b[0m\u001b[0;34m\u001b[0m\u001b[0m\n\u001b[0m\u001b[1;32m      5\u001b[0m \u001b[0;34m\u001b[0m\u001b[0m\n\u001b[1;32m      6\u001b[0m     \u001b[0;32mif\u001b[0m \u001b[0mS1\u001b[0m\u001b[0;34m:\u001b[0m\u001b[0;34m\u001b[0m\u001b[0m\n",
      "\u001b[0;31mNameError\u001b[0m: global name 'nx' is not defined"
     ]
    },
    {
     "data": {
      "text/plain": [
       "<matplotlib.figure.Figure at 0x117a4b050>"
      ]
     },
     "metadata": {},
     "output_type": "display_data"
    }
   ],
   "source": [
    "print_graph(NC_digraph)"
   ]
  },
  {
   "cell_type": "code",
   "execution_count": null,
   "metadata": {
    "collapsed": true
   },
   "outputs": [],
   "source": []
  }
 ],
 "metadata": {
  "kernelspec": {
   "display_name": "Python 2",
   "language": "python",
   "name": "python2"
  },
  "language_info": {
   "codemirror_mode": {
    "name": "ipython",
    "version": 2
   },
   "file_extension": ".py",
   "mimetype": "text/x-python",
   "name": "python",
   "nbconvert_exporter": "python",
   "pygments_lexer": "ipython2",
   "version": "2.7.9"
  }
 },
 "nbformat": 4,
 "nbformat_minor": 0
}
